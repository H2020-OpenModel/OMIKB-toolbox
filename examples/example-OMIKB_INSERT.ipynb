{
 "cells": [
  {
   "cell_type": "code",
   "execution_count": 1,
   "id": "f280633c-b25e-453f-b001-2332acdbe31d",
   "metadata": {},
   "outputs": [
    {
     "name": "stderr",
     "output_type": "stream",
     "text": [
      "2024-05-29 21:08:57,204 - [INFO]: -----------------------------------\n",
      "2024-05-29 21:08:57,205 - [INFO]: Logger initialized with level INFO\n"
     ]
    }
   ],
   "source": [
    "from omikb.omikb import kb_toolbox\n",
    "import json\n",
    "import rdflib\n",
    "from typing import Union\n",
    "from ontoflow.engine import OntoFlowEngine\n",
    "from tripper import Triplestore"
   ]
  },
  {
   "cell_type": "markdown",
   "id": "3bbd5cfd-6c48-4feb-80f8-0f00c9324b89",
   "metadata": {},
   "source": [
    "# Using the OMIKBK Tool Box to do simple SPARQL queries"
   ]
  },
  {
   "cell_type": "code",
   "execution_count": 2,
   "id": "543e7b7a-d759-4152-9321-8d10ac0c4060",
   "metadata": {},
   "outputs": [
    {
     "name": "stdout",
     "output_type": "stream",
     "text": [
      "Hello Usr: Yout access token is obtained: (Showing last 10 digits only) TGemDdkJjQ\n",
      "Initialised Knowledge Base and OMI access from the jupyter interface for the user:\n",
      "{\n",
      "  \"sub\": \"f8ba08b8-abbc-4aed-91eb-d4b5557d4fc6\",\n",
      "  \"email_verified\": false,\n",
      "  \"name\": \"adham hashibon\",\n",
      "  \"preferred_username\": \"adham\",\n",
      "  \"given_name\": \"adham\",\n",
      "  \"family_name\": \"hashibon\",\n",
      "  \"email\": \"a.hashibon@ucl.ac.uk\"\n",
      "}\n",
      "None\n"
     ]
    }
   ],
   "source": [
    "kb=kb_toolbox() # initialise the tool box, which shows some information."
   ]
  },
  {
   "cell_type": "markdown",
   "id": "fe038572-bd49-47a9-a4d5-2f29222dce77",
   "metadata": {},
   "source": [
    "# Update and insert triplets\n"
   ]
  },
  {
   "cell_type": "code",
   "execution_count": 3,
   "id": "ce78cd8d-7307-47b9-8d8d-c6215f1b5d1c",
   "metadata": {},
   "outputs": [],
   "source": [
    "q=\"\"\"\n",
    "PREFIX ex: <http://example.org/property#>\n",
    "PREFIX person: <http://example.org/person#>\n",
    "\n",
    "INSERT DATA {\n",
    "  person:Charlie ex:name \"Charlie\" .\n",
    "  person:Charlie ex:age \"35\" .\n",
    "}\n",
    "\"\"\"\n"
   ]
  },
  {
   "cell_type": "code",
   "execution_count": 4,
   "id": "bbe67dcf-5181-4aaf-8a89-7174e9f25ef2",
   "metadata": {},
   "outputs": [
    {
     "name": "stdout",
     "output_type": "stream",
     "text": [
      "SPARQL update executed successfully.\n"
     ]
    }
   ],
   "source": [
    "kb.update(q)"
   ]
  },
  {
   "cell_type": "code",
   "execution_count": 5,
   "id": "2702e20c-6e6e-499d-bc78-c6a655ee4d24",
   "metadata": {},
   "outputs": [],
   "source": [
    "q = \"\"\"\n",
    "PREFIX ex: <http://example.org/>\n",
    "PREFIX person: <http://example.org/person#>\n",
    "\n",
    "SELECT ?s ?p ?o\n",
    "WHERE { \n",
    "    person:Charlie ?p ?o .\n",
    "}\n",
    "\"\"\""
   ]
  },
  {
   "cell_type": "code",
   "execution_count": 6,
   "id": "c4cb3d94-c021-4e02-b723-954e8226d892",
   "metadata": {},
   "outputs": [],
   "source": [
    "query = \"\"\"\n",
    "PREFIX ex: <http://example.org/>\n",
    "SELECT ?s ?p ?o\n",
    "WHERE {\n",
    "  ?s ?p ?o .\n",
    "}\n",
    "LIMIT 24\n",
    "\"\"\""
   ]
  },
  {
   "cell_type": "code",
   "execution_count": 7,
   "id": "bc867036-43c5-4324-9baa-ffe6eff49c3c",
   "metadata": {},
   "outputs": [],
   "source": [
    "r=kb.query(query)"
   ]
  },
  {
   "cell_type": "code",
   "execution_count": 8,
   "id": "457cb7c5-8513-472e-8cff-f90321a11a35",
   "metadata": {},
   "outputs": [
    {
     "data": {
      "text/plain": [
       "<Response [200]>"
      ]
     },
     "execution_count": 8,
     "metadata": {},
     "output_type": "execute_result"
    }
   ],
   "source": [
    "r"
   ]
  },
  {
   "cell_type": "code",
   "execution_count": 9,
   "id": "b39de5d2-3595-4e9e-8641-8c2b43c649e6",
   "metadata": {},
   "outputs": [
    {
     "data": {
      "text/plain": [
       "{'head': {'vars': ['s', 'p', 'o']},\n",
       " 'results': {'bindings': [{'s': {'type': 'uri',\n",
       "     'value': 'http://example.org/person#Charlie'},\n",
       "    'p': {'type': 'uri', 'value': 'http://example.org/property#name'},\n",
       "    'o': {'type': 'literal', 'value': 'Charlie'}},\n",
       "   {'s': {'type': 'uri', 'value': 'http://example.org/person#Charlie'},\n",
       "    'p': {'type': 'uri', 'value': 'http://example.org/property#age'},\n",
       "    'o': {'type': 'literal', 'value': '35'}},\n",
       "   {'s': {'type': 'uri', 'value': 'http://purl.org/dc/terms/abstract'},\n",
       "    'p': {'type': 'uri',\n",
       "     'value': 'http://www.w3.org/1999/02/22-rdf-syntax-ns#type'},\n",
       "    'o': {'type': 'uri',\n",
       "     'value': 'http://www.w3.org/2002/07/owl#AnnotationProperty'}},\n",
       "   {'s': {'type': 'uri', 'value': 'http://purl.org/dc/terms/abstract'},\n",
       "    'p': {'type': 'uri',\n",
       "     'value': 'http://www.w3.org/2000/01/rdf-schema#isDefinedBy'},\n",
       "    'o': {'type': 'uri', 'value': 'https://w3id.org/emmo/mereocausality#'}},\n",
       "   {'s': {'type': 'uri',\n",
       "     'value': 'http://www.w3.org/2000/01/rdf-schema#isDefinedBy'},\n",
       "    'p': {'type': 'uri',\n",
       "     'value': 'http://www.w3.org/2000/01/rdf-schema#subPropertyOf'},\n",
       "    'o': {'type': 'uri',\n",
       "     'value': 'http://www.w3.org/2000/01/rdf-schema#seeAlso'}},\n",
       "   {'s': {'type': 'uri', 'value': 'http://purl.org/dc/terms/contributor'},\n",
       "    'p': {'type': 'uri',\n",
       "     'value': 'http://www.w3.org/1999/02/22-rdf-syntax-ns#type'},\n",
       "    'o': {'type': 'uri',\n",
       "     'value': 'http://www.w3.org/2002/07/owl#AnnotationProperty'}},\n",
       "   {'s': {'type': 'uri', 'value': 'http://purl.org/dc/terms/contributor'},\n",
       "    'p': {'type': 'uri',\n",
       "     'value': 'http://www.w3.org/2000/01/rdf-schema#isDefinedBy'},\n",
       "    'o': {'type': 'uri', 'value': 'https://w3id.org/emmo/mereocausality#'}},\n",
       "   {'s': {'type': 'uri', 'value': 'http://purl.org/dc/terms/creator'},\n",
       "    'p': {'type': 'uri',\n",
       "     'value': 'http://www.w3.org/1999/02/22-rdf-syntax-ns#type'},\n",
       "    'o': {'type': 'uri',\n",
       "     'value': 'http://www.w3.org/2002/07/owl#AnnotationProperty'}},\n",
       "   {'s': {'type': 'uri', 'value': 'http://purl.org/dc/terms/creator'},\n",
       "    'p': {'type': 'uri',\n",
       "     'value': 'http://www.w3.org/2000/01/rdf-schema#isDefinedBy'},\n",
       "    'o': {'type': 'uri', 'value': 'https://w3id.org/emmo/mereocausality#'}},\n",
       "   {'s': {'type': 'uri', 'value': 'http://purl.org/dc/terms/license'},\n",
       "    'p': {'type': 'uri',\n",
       "     'value': 'http://www.w3.org/1999/02/22-rdf-syntax-ns#type'},\n",
       "    'o': {'type': 'uri',\n",
       "     'value': 'http://www.w3.org/2002/07/owl#AnnotationProperty'}},\n",
       "   {'s': {'type': 'uri', 'value': 'http://purl.org/dc/terms/license'},\n",
       "    'p': {'type': 'uri',\n",
       "     'value': 'http://www.w3.org/2000/01/rdf-schema#isDefinedBy'},\n",
       "    'o': {'type': 'uri', 'value': 'https://w3id.org/emmo/mereocausality#'}},\n",
       "   {'s': {'type': 'uri', 'value': 'http://purl.org/dc/terms/publisher'},\n",
       "    'p': {'type': 'uri',\n",
       "     'value': 'http://www.w3.org/1999/02/22-rdf-syntax-ns#type'},\n",
       "    'o': {'type': 'uri',\n",
       "     'value': 'http://www.w3.org/2002/07/owl#AnnotationProperty'}},\n",
       "   {'s': {'type': 'uri', 'value': 'http://purl.org/dc/terms/publisher'},\n",
       "    'p': {'type': 'uri',\n",
       "     'value': 'http://www.w3.org/2000/01/rdf-schema#isDefinedBy'},\n",
       "    'o': {'type': 'uri', 'value': 'https://w3id.org/emmo/mereocausality#'}},\n",
       "   {'s': {'type': 'uri', 'value': 'http://purl.org/dc/terms/title'},\n",
       "    'p': {'type': 'uri',\n",
       "     'value': 'http://www.w3.org/1999/02/22-rdf-syntax-ns#type'},\n",
       "    'o': {'type': 'uri',\n",
       "     'value': 'http://www.w3.org/2002/07/owl#AnnotationProperty'}},\n",
       "   {'s': {'type': 'uri', 'value': 'http://purl.org/dc/terms/title'},\n",
       "    'p': {'type': 'uri',\n",
       "     'value': 'http://www.w3.org/2000/01/rdf-schema#isDefinedBy'},\n",
       "    'o': {'type': 'uri', 'value': 'https://w3id.org/emmo/mereocausality#'}},\n",
       "   {'s': {'type': 'uri',\n",
       "     'value': 'http://www.w3.org/1999/02/22-rdf-syntax-ns#HTML'},\n",
       "    'p': {'type': 'uri',\n",
       "     'value': 'http://www.w3.org/1999/02/22-rdf-syntax-ns#type'},\n",
       "    'o': {'type': 'uri',\n",
       "     'value': 'http://www.w3.org/2000/01/rdf-schema#Datatype'}},\n",
       "   {'s': {'type': 'uri',\n",
       "     'value': 'http://www.w3.org/2002/07/owl#minQualifiedCardinality'},\n",
       "    'p': {'type': 'uri',\n",
       "     'value': 'http://www.w3.org/1999/02/22-rdf-syntax-ns#type'},\n",
       "    'o': {'type': 'uri',\n",
       "     'value': 'http://www.w3.org/2002/07/owl#AnnotationProperty'}},\n",
       "   {'s': {'type': 'uri',\n",
       "     'value': 'http://www.w3.org/2002/07/owl#minQualifiedCardinality'},\n",
       "    'p': {'type': 'uri',\n",
       "     'value': 'http://www.w3.org/2000/01/rdf-schema#isDefinedBy'},\n",
       "    'o': {'type': 'uri',\n",
       "     'value': 'https://w3id.org/emmo/disciplines/materials#'}},\n",
       "   {'s': {'type': 'uri',\n",
       "     'value': 'http://www.w3.org/2002/07/owl#qualifiedCardinality'},\n",
       "    'p': {'type': 'uri',\n",
       "     'value': 'http://www.w3.org/1999/02/22-rdf-syntax-ns#type'},\n",
       "    'o': {'type': 'uri',\n",
       "     'value': 'http://www.w3.org/2002/07/owl#AnnotationProperty'}},\n",
       "   {'s': {'type': 'uri',\n",
       "     'value': 'http://www.w3.org/2002/07/owl#qualifiedCardinality'},\n",
       "    'p': {'type': 'uri',\n",
       "     'value': 'http://www.w3.org/2000/01/rdf-schema#isDefinedBy'},\n",
       "    'o': {'type': 'uri',\n",
       "     'value': 'https://w3id.org/emmo/perspectives/physicalistic#'}},\n",
       "   {'s': {'type': 'uri',\n",
       "     'value': 'http://www.w3.org/2004/02/skos/core#hiddenLabel'},\n",
       "    'p': {'type': 'uri',\n",
       "     'value': 'http://www.w3.org/1999/02/22-rdf-syntax-ns#type'},\n",
       "    'o': {'type': 'uri',\n",
       "     'value': 'http://www.w3.org/2002/07/owl#AnnotationProperty'}},\n",
       "   {'s': {'type': 'uri',\n",
       "     'value': 'http://www.w3.org/2004/02/skos/core#hiddenLabel'},\n",
       "    'p': {'type': 'uri',\n",
       "     'value': 'http://www.w3.org/2000/01/rdf-schema#isDefinedBy'},\n",
       "    'o': {'type': 'uri', 'value': 'https://w3id.org/emmo/mereocausality#'}},\n",
       "   {'s': {'type': 'uri',\n",
       "     'value': 'http://www.w3.org/2004/02/skos/core#hiddenLabel'},\n",
       "    'p': {'type': 'uri',\n",
       "     'value': 'http://www.w3.org/2000/01/rdf-schema#subPropertyOf'},\n",
       "    'o': {'type': 'uri',\n",
       "     'value': 'http://www.w3.org/2000/01/rdf-schema#label'}},\n",
       "   {'s': {'type': 'uri',\n",
       "     'value': 'http://www.w3.org/2000/01/rdf-schema#label'},\n",
       "    'p': {'type': 'uri',\n",
       "     'value': 'http://www.w3.org/2000/01/rdf-schema#range'},\n",
       "    'o': {'type': 'uri',\n",
       "     'value': 'http://www.w3.org/2000/01/rdf-schema#Literal'}}]}}"
      ]
     },
     "execution_count": 9,
     "metadata": {},
     "output_type": "execute_result"
    }
   ],
   "source": [
    "r.json()"
   ]
  },
  {
   "cell_type": "code",
   "execution_count": 10,
   "id": "1a640ed8-4191-4804-8ca6-644f8dfdf57e",
   "metadata": {},
   "outputs": [],
   "source": [
    "q = \"\"\"\n",
    "SELECT ?p ?o\n",
    "WHERE { \n",
    "    <http://example.org/person#Charlie> ?p ?o .\n",
    "}\n",
    "\"\"\""
   ]
  },
  {
   "cell_type": "code",
   "execution_count": 11,
   "id": "702b12e0-0314-4a87-a0ea-64adbdb78478",
   "metadata": {},
   "outputs": [],
   "source": [
    "r=kb.query(q)"
   ]
  },
  {
   "cell_type": "code",
   "execution_count": 12,
   "id": "94152de4-4e20-4bd4-b33a-e6e6632e9c6c",
   "metadata": {},
   "outputs": [
    {
     "data": {
      "text/plain": [
       "{'head': {'vars': ['p', 'o']},\n",
       " 'results': {'bindings': [{'p': {'type': 'uri',\n",
       "     'value': 'http://example.org/property#name'},\n",
       "    'o': {'type': 'literal', 'value': 'Charlie'}},\n",
       "   {'p': {'type': 'uri', 'value': 'http://example.org/property#age'},\n",
       "    'o': {'type': 'literal', 'value': '35'}}]}}"
      ]
     },
     "execution_count": 12,
     "metadata": {},
     "output_type": "execute_result"
    }
   ],
   "source": [
    "r.json()"
   ]
  },
  {
   "cell_type": "code",
   "execution_count": 13,
   "id": "9c62b6cf-0cb9-4922-a8d1-906a8c9274eb",
   "metadata": {},
   "outputs": [],
   "source": [
    "# counting triplets"
   ]
  },
  {
   "cell_type": "code",
   "execution_count": 14,
   "id": "ad02edcd-445b-4c0c-a9b5-113d288d1c89",
   "metadata": {},
   "outputs": [],
   "source": [
    "query = \"\"\"\n",
    "        SELECT (COUNT(*) as ?triplesCount)\n",
    "        WHERE { ?s ?p ?o }\n",
    "        \"\"\""
   ]
  },
  {
   "cell_type": "code",
   "execution_count": 15,
   "id": "2e541952-1516-477f-9a5f-1c7c8786db66",
   "metadata": {},
   "outputs": [],
   "source": [
    "r=kb.query(query)"
   ]
  },
  {
   "cell_type": "code",
   "execution_count": 16,
   "id": "6b3863bb-78b4-4688-a42b-d51f284e34bf",
   "metadata": {},
   "outputs": [
    {
     "data": {
      "text/plain": [
       "{'head': {'vars': ['triplesCount']},\n",
       " 'results': {'bindings': [{'triplesCount': {'type': 'literal',\n",
       "     'datatype': 'http://www.w3.org/2001/XMLSchema#integer',\n",
       "     'value': '121503'}}]}}"
      ]
     },
     "execution_count": 16,
     "metadata": {},
     "output_type": "execute_result"
    }
   ],
   "source": [
    "r.json()"
   ]
  },
  {
   "cell_type": "code",
   "execution_count": null,
   "id": "486c1556-617e-4bfe-9ae8-37bc2670c643",
   "metadata": {},
   "outputs": [],
   "source": []
  }
 ],
 "metadata": {
  "kernelspec": {
   "display_name": "Python 3 (ipykernel)",
   "language": "python",
   "name": "python3"
  },
  "language_info": {
   "codemirror_mode": {
    "name": "ipython",
    "version": 3
   },
   "file_extension": ".py",
   "mimetype": "text/x-python",
   "name": "python",
   "nbconvert_exporter": "python",
   "pygments_lexer": "ipython3",
   "version": "3.9.13"
  }
 },
 "nbformat": 4,
 "nbformat_minor": 5
}
