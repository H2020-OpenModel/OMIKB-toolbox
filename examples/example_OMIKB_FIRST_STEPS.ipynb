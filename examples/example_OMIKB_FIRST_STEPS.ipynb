{
 "cells": [
  {
   "cell_type": "code",
   "execution_count": 1,
   "id": "f280633c-b25e-453f-b001-2332acdbe31d",
   "metadata": {},
   "outputs": [
    {
     "name": "stderr",
     "output_type": "stream",
     "text": [
      "2024-05-29 21:08:27,423 - [INFO]: -----------------------------------\n",
      "2024-05-29 21:08:27,424 - [INFO]: Logger initialized with level INFO\n"
     ]
    }
   ],
   "source": [
    "from omikb.omikb import kb_toolbox\n",
    "import json\n",
    "import rdflib\n",
    "from typing import Union\n",
    "from ontoflow.engine import OntoFlowEngine\n",
    "from tripper import Triplestore"
   ]
  },
  {
   "cell_type": "markdown",
   "id": "3bbd5cfd-6c48-4feb-80f8-0f00c9324b89",
   "metadata": {},
   "source": [
    "# Using the OMIKBK Tool Box\n",
    "- Manages in the back stage all internal setup needed to access protected services\n",
    "- provide convenient easy to use interface to the Knowledge Base triple store back end including\n",
    "  - keywords search on all triples \n",
    "  - sparql query, including INSERT, SPARQL, DELETE etc\n",
    "  - Graph Store Protocol Query for entire datasets \n",
    "  - Provide easy access to all end points \n",
    "  - enable OMI users to obtain shared API Keys for access from outside the omi (WIP)\n",
    "  \n",
    "## Installing\n",
    "  OMIKB is builtin, and no need to install it, but if you want to develop or work on pre release, simpley go to OMIKB git hub repo](https://github.com/H2020-OpenModel/OMIKB-toolbox) and follow the instructions to install here (basically open a terminal and type the pip...)\n",
    "  \n",
    "## Using\n",
    "See this example and the other ones. \n"
   ]
  },
  {
   "cell_type": "code",
   "execution_count": 2,
   "id": "543e7b7a-d759-4152-9321-8d10ac0c4060",
   "metadata": {},
   "outputs": [
    {
     "name": "stdout",
     "output_type": "stream",
     "text": [
      "Hello Usr: Yout access token is obtained: (Showing last 10 digits only) TGemDdkJjQ\n",
      "Initialised Knowledge Base and OMI access from the jupyter interface for the user:\n",
      "{\n",
      "  \"sub\": \"f8ba08b8-abbc-4aed-91eb-d4b5557d4fc6\",\n",
      "  \"email_verified\": false,\n",
      "  \"name\": \"adham hashibon\",\n",
      "  \"preferred_username\": \"adham\",\n",
      "  \"given_name\": \"adham\",\n",
      "  \"family_name\": \"hashibon\",\n",
      "  \"email\": \"a.hashibon@ucl.ac.uk\"\n",
      "}\n",
      "None\n"
     ]
    }
   ],
   "source": [
    "kb=kb_toolbox() # initialise the tool box, which shows some information."
   ]
  },
  {
   "cell_type": "code",
   "execution_count": 3,
   "id": "fa6abecd-df53-4343-a670-46a39af70bf3",
   "metadata": {},
   "outputs": [
    {
     "data": {
      "text/plain": [
       "'The OpenModel Knowledge Base is Alive!'"
      ]
     },
     "execution_count": 3,
     "metadata": {},
     "output_type": "execute_result"
    }
   ],
   "source": [
    "kb.ping() # ping the triple store server to see if it is alive"
   ]
  },
  {
   "cell_type": "code",
   "execution_count": 4,
   "id": "b6597f5a-8700-4507-ace3-a092f1d9e4d2",
   "metadata": {},
   "outputs": [
    {
     "data": {
      "text/plain": [
       "True"
      ]
     },
     "execution_count": 4,
     "metadata": {},
     "output_type": "execute_result"
    }
   ],
   "source": [
    "kb.is_online"
   ]
  },
  {
   "cell_type": "code",
   "execution_count": 5,
   "id": "dc825c71-dee9-4234-b742-a90df5f57fde",
   "metadata": {},
   "outputs": [
    {
     "name": "stdout",
     "output_type": "stream",
     "text": [
      "https://dev.openmodel.app/fuseki3/dataset/data\n"
     ]
    }
   ],
   "source": [
    "print(kb.data_iri)  # this is the external facing end point, which should be used from outside. kb.\n",
    "\n",
    "# you can also check the other end points\n",
    "\n",
    "#kb.query_iri = \"https://dev.openmodel.app/fuseki/dataset/sparql\"\n",
    "#kb.update_iri= \"https://dev.openmodel.app/fuseki3/dataset/update\"\n",
    "#kb.data_iri = \"https://dev.openmodel.app/fuseki3/dataset/data\"\n",
    "#kb.ping_iri = \"https://dev.openmodel.app/fuseki/$/ping\"\n",
    "#kb.stats_iri = \"https://dev.openmodel.app/fuseki/$/stats\""
   ]
  },
  {
   "cell_type": "code",
   "execution_count": 6,
   "id": "7f65f6d9-e19c-40c3-b15c-406e673a2550",
   "metadata": {},
   "outputs": [
    {
     "data": {
      "text/plain": [
       "{'datasets': {'/dataset': {'Requests': 0,\n",
       "   'RequestsGood': 0,\n",
       "   'RequestsBad': 0,\n",
       "   'endpoints': {'_1': {'RequestsBad': 0,\n",
       "     'Requests': 0,\n",
       "     'RequestsGood': 0,\n",
       "     'operation': 'gsp-r',\n",
       "     'description': 'Graph Store Protocol (Read)'},\n",
       "    'get': {'RequestsBad': 0,\n",
       "     'Requests': 0,\n",
       "     'RequestsGood': 0,\n",
       "     'operation': 'gsp-r',\n",
       "     'description': 'Graph Store Protocol (Read)'},\n",
       "    '_2': {'RequestsBad': 0,\n",
       "     'Requests': 0,\n",
       "     'RequestsGood': 0,\n",
       "     'operation': 'gsp-rw',\n",
       "     'description': 'Graph Store Protocol'},\n",
       "    'data': {'RequestsBad': 0,\n",
       "     'Requests': 0,\n",
       "     'RequestsGood': 0,\n",
       "     'operation': 'gsp-rw',\n",
       "     'description': 'Graph Store Protocol'},\n",
       "    '_3': {'RequestsBad': 0,\n",
       "     'Requests': 0,\n",
       "     'RequestsGood': 0,\n",
       "     'operation': 'query',\n",
       "     'description': 'SPARQL Query'},\n",
       "    'sparql': {'RequestsBad': 0,\n",
       "     'Requests': 0,\n",
       "     'RequestsGood': 0,\n",
       "     'operation': 'query',\n",
       "     'description': 'SPARQL Query'},\n",
       "    '_4': {'RequestsBad': 0,\n",
       "     'Requests': 0,\n",
       "     'RequestsGood': 0,\n",
       "     'operation': 'update',\n",
       "     'description': 'SPARQL Update'},\n",
       "    'update': {'RequestsBad': 0,\n",
       "     'Requests': 0,\n",
       "     'RequestsGood': 0,\n",
       "     'operation': 'update',\n",
       "     'description': 'SPARQL Update'}}}}}"
      ]
     },
     "execution_count": 6,
     "metadata": {},
     "output_type": "execute_result"
    }
   ],
   "source": [
    "kb.stats()"
   ]
  },
  {
   "cell_type": "markdown",
   "id": "718bacf3-6fd8-4386-b993-f370096238c3",
   "metadata": {},
   "source": [
    "in the next example we test some queries"
   ]
  },
  {
   "cell_type": "code",
   "execution_count": null,
   "id": "98ec765d-fd9f-40ca-b0ab-364156642557",
   "metadata": {},
   "outputs": [],
   "source": []
  }
 ],
 "metadata": {
  "kernelspec": {
   "display_name": "Python 3 (ipykernel)",
   "language": "python",
   "name": "python3"
  },
  "language_info": {
   "codemirror_mode": {
    "name": "ipython",
    "version": 3
   },
   "file_extension": ".py",
   "mimetype": "text/x-python",
   "name": "python",
   "nbconvert_exporter": "python",
   "pygments_lexer": "ipython3",
   "version": "3.9.13"
  }
 },
 "nbformat": 4,
 "nbformat_minor": 5
}
