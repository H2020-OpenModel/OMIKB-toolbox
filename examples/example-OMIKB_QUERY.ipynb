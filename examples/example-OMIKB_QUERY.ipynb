{
 "cells": [
  {
   "cell_type": "code",
   "execution_count": 1,
   "id": "f280633c-b25e-453f-b001-2332acdbe31d",
   "metadata": {},
   "outputs": [
    {
     "name": "stderr",
     "output_type": "stream",
     "text": [
      "2024-05-29 21:09:04,758 - [INFO]: -----------------------------------\n",
      "2024-05-29 21:09:04,758 - [INFO]: Logger initialized with level INFO\n"
     ]
    }
   ],
   "source": [
    "from omikb.omikb import kb_toolbox\n",
    "import json\n",
    "import rdflib\n",
    "from typing import Union\n",
    "from ontoflow.engine import OntoFlowEngine\n",
    "from tripper import Triplestore"
   ]
  },
  {
   "cell_type": "markdown",
   "id": "3bbd5cfd-6c48-4feb-80f8-0f00c9324b89",
   "metadata": {},
   "source": [
    "# Using the OMIKBK Tool Box to do simple SPARQL queries"
   ]
  },
  {
   "cell_type": "code",
   "execution_count": 2,
   "id": "543e7b7a-d759-4152-9321-8d10ac0c4060",
   "metadata": {},
   "outputs": [
    {
     "name": "stdout",
     "output_type": "stream",
     "text": [
      "Hello Usr: Yout access token is obtained: (Showing last 10 digits only) TGemDdkJjQ\n",
      "Initialised Knowledge Base and OMI access from the jupyter interface for the user:\n",
      "{\n",
      "  \"sub\": \"f8ba08b8-abbc-4aed-91eb-d4b5557d4fc6\",\n",
      "  \"email_verified\": false,\n",
      "  \"name\": \"adham hashibon\",\n",
      "  \"preferred_username\": \"adham\",\n",
      "  \"given_name\": \"adham\",\n",
      "  \"family_name\": \"hashibon\",\n",
      "  \"email\": \"a.hashibon@ucl.ac.uk\"\n",
      "}\n",
      "None\n"
     ]
    }
   ],
   "source": [
    "kb=kb_toolbox() # initialise the tool box, which shows some information."
   ]
  },
  {
   "cell_type": "code",
   "execution_count": 3,
   "id": "d1f3b4bb-d1ef-4261-b44a-1b51be14cb12",
   "metadata": {},
   "outputs": [],
   "source": [
    "# our first query example\n",
    "\n",
    "query = \"\"\"\n",
    "PREFIX ex: <http://example.org/>\n",
    "SELECT ?s ?p ?o\n",
    "WHERE {\n",
    "  ?s ?p ?o .\n",
    "}\n",
    "LIMIT 10\n",
    "\"\"\""
   ]
  },
  {
   "cell_type": "code",
   "execution_count": 4,
   "id": "a83d2481-f5da-4244-9851-4108d0c48fc4",
   "metadata": {},
   "outputs": [
    {
     "data": {
      "text/plain": [
       "{'head': {'vars': ['s', 'p', 'o']},\n",
       " 'results': {'bindings': [{'s': {'type': 'uri',\n",
       "     'value': 'http://example.org/person#Charlie'},\n",
       "    'p': {'type': 'uri', 'value': 'http://example.org/property#name'},\n",
       "    'o': {'type': 'literal', 'value': 'Charlie'}},\n",
       "   {'s': {'type': 'uri', 'value': 'http://example.org/person#Charlie'},\n",
       "    'p': {'type': 'uri', 'value': 'http://example.org/property#age'},\n",
       "    'o': {'type': 'literal', 'value': '35'}},\n",
       "   {'s': {'type': 'uri', 'value': 'http://purl.org/dc/terms/abstract'},\n",
       "    'p': {'type': 'uri',\n",
       "     'value': 'http://www.w3.org/1999/02/22-rdf-syntax-ns#type'},\n",
       "    'o': {'type': 'uri',\n",
       "     'value': 'http://www.w3.org/2002/07/owl#AnnotationProperty'}},\n",
       "   {'s': {'type': 'uri', 'value': 'http://purl.org/dc/terms/abstract'},\n",
       "    'p': {'type': 'uri',\n",
       "     'value': 'http://www.w3.org/2000/01/rdf-schema#isDefinedBy'},\n",
       "    'o': {'type': 'uri', 'value': 'https://w3id.org/emmo/mereocausality#'}},\n",
       "   {'s': {'type': 'uri',\n",
       "     'value': 'http://www.w3.org/2000/01/rdf-schema#isDefinedBy'},\n",
       "    'p': {'type': 'uri',\n",
       "     'value': 'http://www.w3.org/2000/01/rdf-schema#subPropertyOf'},\n",
       "    'o': {'type': 'uri',\n",
       "     'value': 'http://www.w3.org/2000/01/rdf-schema#seeAlso'}},\n",
       "   {'s': {'type': 'uri', 'value': 'http://purl.org/dc/terms/contributor'},\n",
       "    'p': {'type': 'uri',\n",
       "     'value': 'http://www.w3.org/1999/02/22-rdf-syntax-ns#type'},\n",
       "    'o': {'type': 'uri',\n",
       "     'value': 'http://www.w3.org/2002/07/owl#AnnotationProperty'}},\n",
       "   {'s': {'type': 'uri', 'value': 'http://purl.org/dc/terms/contributor'},\n",
       "    'p': {'type': 'uri',\n",
       "     'value': 'http://www.w3.org/2000/01/rdf-schema#isDefinedBy'},\n",
       "    'o': {'type': 'uri', 'value': 'https://w3id.org/emmo/mereocausality#'}},\n",
       "   {'s': {'type': 'uri', 'value': 'http://purl.org/dc/terms/creator'},\n",
       "    'p': {'type': 'uri',\n",
       "     'value': 'http://www.w3.org/1999/02/22-rdf-syntax-ns#type'},\n",
       "    'o': {'type': 'uri',\n",
       "     'value': 'http://www.w3.org/2002/07/owl#AnnotationProperty'}},\n",
       "   {'s': {'type': 'uri', 'value': 'http://purl.org/dc/terms/creator'},\n",
       "    'p': {'type': 'uri',\n",
       "     'value': 'http://www.w3.org/2000/01/rdf-schema#isDefinedBy'},\n",
       "    'o': {'type': 'uri', 'value': 'https://w3id.org/emmo/mereocausality#'}},\n",
       "   {'s': {'type': 'uri', 'value': 'http://purl.org/dc/terms/license'},\n",
       "    'p': {'type': 'uri',\n",
       "     'value': 'http://www.w3.org/1999/02/22-rdf-syntax-ns#type'},\n",
       "    'o': {'type': 'uri',\n",
       "     'value': 'http://www.w3.org/2002/07/owl#AnnotationProperty'}}]}}"
      ]
     },
     "execution_count": 4,
     "metadata": {},
     "output_type": "execute_result"
    }
   ],
   "source": [
    "# use the omikb query method\n",
    "r=kb.query(query)\n",
    "r.json()"
   ]
  },
  {
   "cell_type": "code",
   "execution_count": 5,
   "id": "78021f4c-05de-4a40-ab0c-3bef9cb3821b",
   "metadata": {},
   "outputs": [],
   "source": [
    "q=\"\"\"SELECT ?g \n",
    "WHERE {\n",
    "  GRAPH ?g { }\n",
    "}\n",
    "\"\"\""
   ]
  },
  {
   "cell_type": "code",
   "execution_count": 6,
   "id": "f27c10a6-8ccf-4ef1-93ea-2d9518effdcb",
   "metadata": {},
   "outputs": [
    {
     "data": {
      "text/plain": [
       "{'head': {'vars': ['g']},\n",
       " 'results': {'bindings': [{'g': {'type': 'uri', 'value': 'graph://main'}}]}}"
      ]
     },
     "execution_count": 6,
     "metadata": {},
     "output_type": "execute_result"
    }
   ],
   "source": [
    "r=kb.query(q)\n",
    "r.json()"
   ]
  },
  {
   "cell_type": "code",
   "execution_count": 7,
   "id": "9c62b6cf-0cb9-4922-a8d1-906a8c9274eb",
   "metadata": {},
   "outputs": [],
   "source": [
    "# counting triplets"
   ]
  },
  {
   "cell_type": "code",
   "execution_count": 8,
   "id": "ad02edcd-445b-4c0c-a9b5-113d288d1c89",
   "metadata": {},
   "outputs": [],
   "source": [
    "query = \"\"\"\n",
    "        SELECT (COUNT(*) as ?triplesCount)\n",
    "        WHERE { ?s ?p ?o }\n",
    "        \"\"\""
   ]
  },
  {
   "cell_type": "code",
   "execution_count": 9,
   "id": "2e541952-1516-477f-9a5f-1c7c8786db66",
   "metadata": {},
   "outputs": [],
   "source": [
    "r=kb.query(query)"
   ]
  },
  {
   "cell_type": "code",
   "execution_count": 10,
   "id": "6b3863bb-78b4-4688-a42b-d51f284e34bf",
   "metadata": {},
   "outputs": [
    {
     "data": {
      "text/plain": [
       "{'head': {'vars': ['triplesCount']},\n",
       " 'results': {'bindings': [{'triplesCount': {'type': 'literal',\n",
       "     'datatype': 'http://www.w3.org/2001/XMLSchema#integer',\n",
       "     'value': '121503'}}]}}"
      ]
     },
     "execution_count": 10,
     "metadata": {},
     "output_type": "execute_result"
    }
   ],
   "source": [
    "r.json()"
   ]
  },
  {
   "cell_type": "markdown",
   "id": "59feb532-bd41-4887-b6b8-2287b168991d",
   "metadata": {},
   "source": [
    "## Searching by Keyword\n"
   ]
  },
  {
   "cell_type": "code",
   "execution_count": 11,
   "id": "8d5b1346-daa2-408a-ac28-85dae9d4d5d7",
   "metadata": {},
   "outputs": [],
   "source": [
    "r=kb.search_keyword('Charlie')"
   ]
  },
  {
   "cell_type": "code",
   "execution_count": 12,
   "id": "cac0ac29-9232-472d-8019-db078aa7d7b9",
   "metadata": {},
   "outputs": [
    {
     "data": {
      "text/plain": [
       "{'head': {'vars': ['s', 'p', 'o']},\n",
       " 'results': {'bindings': [{'s': {'type': 'uri',\n",
       "     'value': 'http://example.org/person#Charlie'},\n",
       "    'p': {'type': 'uri', 'value': 'http://example.org/property#name'},\n",
       "    'o': {'type': 'literal', 'value': 'Charlie'}},\n",
       "   {'s': {'type': 'uri', 'value': 'http://example.org/person#Charlie'},\n",
       "    'p': {'type': 'uri', 'value': 'http://example.org/property#age'},\n",
       "    'o': {'type': 'literal', 'value': '35'}}]}}"
      ]
     },
     "execution_count": 12,
     "metadata": {},
     "output_type": "execute_result"
    }
   ],
   "source": [
    "r.json()"
   ]
  },
  {
   "cell_type": "code",
   "execution_count": null,
   "id": "1bbecf24-90c0-4d40-b293-e94f5967d8bd",
   "metadata": {},
   "outputs": [],
   "source": []
  },
  {
   "cell_type": "code",
   "execution_count": null,
   "id": "e37bbd08-74c4-4805-90bb-77e087c67030",
   "metadata": {},
   "outputs": [],
   "source": []
  },
  {
   "cell_type": "code",
   "execution_count": null,
   "id": "89fb5f81-1d4e-44ca-a585-823bd130d769",
   "metadata": {},
   "outputs": [],
   "source": []
  },
  {
   "cell_type": "code",
   "execution_count": null,
   "id": "94f7ea97-4cf9-463e-b198-a58f9525804a",
   "metadata": {},
   "outputs": [],
   "source": []
  }
 ],
 "metadata": {
  "kernelspec": {
   "display_name": "Python 3 (ipykernel)",
   "language": "python",
   "name": "python3"
  },
  "language_info": {
   "codemirror_mode": {
    "name": "ipython",
    "version": 3
   },
   "file_extension": ".py",
   "mimetype": "text/x-python",
   "name": "python",
   "nbconvert_exporter": "python",
   "pygments_lexer": "ipython3",
   "version": "3.9.13"
  }
 },
 "nbformat": 4,
 "nbformat_minor": 5
}
