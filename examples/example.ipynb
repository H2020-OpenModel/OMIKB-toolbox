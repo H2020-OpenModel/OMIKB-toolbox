{
 "cells": [
  {
   "cell_type": "code",
   "execution_count": 1,
   "id": "f280633c-b25e-453f-b001-2332acdbe31d",
   "metadata": {},
   "outputs": [
    {
     "name": "stderr",
     "output_type": "stream",
     "text": [
      "2024-05-29 19:00:57,156 - [INFO]: -----------------------------------\n",
      "2024-05-29 19:00:57,157 - [INFO]: Logger initialized with level INFO\n"
     ]
    }
   ],
   "source": [
    "from omikb.omikb import kb_toolbox\n",
    "import json\n",
    "import rdflib\n",
    "from typing import Union\n",
    "\n",
    "\n",
    "\n",
    "from ontoflow.engine import OntoFlowEngine\n",
    "from tripper import Triplestore"
   ]
  },
  {
   "cell_type": "code",
   "execution_count": 2,
   "id": "543e7b7a-d759-4152-9321-8d10ac0c4060",
   "metadata": {},
   "outputs": [
    {
     "name": "stdout",
     "output_type": "stream",
     "text": [
      "Hello Usr: Yout access token is obtained: (Showing last 10 digits only) XG7FmGIqWg\n",
      "Initialised Knowledge Base and OMI access from the jupyter interface for the user:\n",
      "{\n",
      "  \"sub\": \"f8ba08b8-abbc-4aed-91eb-d4b5557d4fc6\",\n",
      "  \"email_verified\": false,\n",
      "  \"name\": \"adham hashibon\",\n",
      "  \"preferred_username\": \"adham\",\n",
      "  \"given_name\": \"adham\",\n",
      "  \"family_name\": \"hashibon\",\n",
      "  \"email\": \"a.hashibon@ucl.ac.uk\"\n",
      "}\n",
      "None\n"
     ]
    }
   ],
   "source": [
    "kb=kb_toolbox()"
   ]
  },
  {
   "cell_type": "code",
   "execution_count": 3,
   "id": "fa6abecd-df53-4343-a670-46a39af70bf3",
   "metadata": {},
   "outputs": [
    {
     "data": {
      "text/plain": [
       "'The OpenModel Knowledge Base is Alive!'"
      ]
     },
     "execution_count": 3,
     "metadata": {},
     "output_type": "execute_result"
    }
   ],
   "source": [
    "kb.ping() # ping the server to see if it is alive"
   ]
  },
  {
   "cell_type": "code",
   "execution_count": 4,
   "id": "b6597f5a-8700-4507-ace3-a092f1d9e4d2",
   "metadata": {},
   "outputs": [
    {
     "data": {
      "text/plain": [
       "True"
      ]
     },
     "execution_count": 4,
     "metadata": {},
     "output_type": "execute_result"
    }
   ],
   "source": [
    "kb.is_online"
   ]
  },
  {
   "cell_type": "code",
   "execution_count": 5,
   "id": "dc825c71-dee9-4234-b742-a90df5f57fde",
   "metadata": {},
   "outputs": [
    {
     "data": {
      "text/plain": [
       "'https://dev.openmodel.app/fuseki3/dataset/data'"
      ]
     },
     "execution_count": 5,
     "metadata": {},
     "output_type": "execute_result"
    }
   ],
   "source": [
    "kb.data_iri\n"
   ]
  },
  {
   "cell_type": "code",
   "execution_count": 6,
   "id": "7f65f6d9-e19c-40c3-b15c-406e673a2550",
   "metadata": {},
   "outputs": [
    {
     "data": {
      "text/plain": [
       "{'datasets': {'/dataset': {'Requests': 180,\n",
       "   'RequestsGood': 180,\n",
       "   'RequestsBad': 0,\n",
       "   'endpoints': {'_1': {'RequestsBad': 0,\n",
       "     'Requests': 0,\n",
       "     'RequestsGood': 0,\n",
       "     'operation': 'gsp-r',\n",
       "     'description': 'Graph Store Protocol (Read)'},\n",
       "    'get': {'RequestsBad': 0,\n",
       "     'Requests': 0,\n",
       "     'RequestsGood': 0,\n",
       "     'operation': 'gsp-r',\n",
       "     'description': 'Graph Store Protocol (Read)'},\n",
       "    '_2': {'RequestsBad': 0,\n",
       "     'Requests': 8,\n",
       "     'RequestsGood': 8,\n",
       "     'operation': 'gsp-rw',\n",
       "     'description': 'Graph Store Protocol'},\n",
       "    'data': {'RequestsBad': 0,\n",
       "     'Requests': 3,\n",
       "     'RequestsGood': 3,\n",
       "     'operation': 'gsp-rw',\n",
       "     'description': 'Graph Store Protocol'},\n",
       "    '_3': {'RequestsBad': 0,\n",
       "     'Requests': 156,\n",
       "     'RequestsGood': 156,\n",
       "     'operation': 'query',\n",
       "     'description': 'SPARQL Query'},\n",
       "    'sparql': {'RequestsBad': 0,\n",
       "     'Requests': 12,\n",
       "     'RequestsGood': 12,\n",
       "     'operation': 'query',\n",
       "     'description': 'SPARQL Query'},\n",
       "    '_4': {'RequestsBad': 0,\n",
       "     'Requests': 0,\n",
       "     'RequestsGood': 0,\n",
       "     'operation': 'update',\n",
       "     'description': 'SPARQL Update'},\n",
       "    'update': {'RequestsBad': 0,\n",
       "     'Requests': 1,\n",
       "     'RequestsGood': 1,\n",
       "     'operation': 'update',\n",
       "     'description': 'SPARQL Update'}}}}}"
      ]
     },
     "execution_count": 6,
     "metadata": {},
     "output_type": "execute_result"
    }
   ],
   "source": [
    "kb.stats()"
   ]
  },
  {
   "cell_type": "code",
   "execution_count": 7,
   "id": "d1f3b4bb-d1ef-4261-b44a-1b51be14cb12",
   "metadata": {},
   "outputs": [],
   "source": [
    "query = \"\"\"\n",
    "PREFIX ex: <http://example.org/>\n",
    "SELECT ?s ?p ?o\n",
    "WHERE {\n",
    "  ?s ?p ?o .\n",
    "}\n",
    "LIMIT 10\n",
    "\"\"\""
   ]
  },
  {
   "cell_type": "code",
   "execution_count": 8,
   "id": "a83d2481-f5da-4244-9851-4108d0c48fc4",
   "metadata": {},
   "outputs": [
    {
     "data": {
      "text/plain": [
       "{'head': {'vars': ['s', 'p', 'o']},\n",
       " 'results': {'bindings': [{'s': {'type': 'uri',\n",
       "     'value': 'http://example.org/person#Charlie'},\n",
       "    'p': {'type': 'uri', 'value': 'http://example.org/property#name'},\n",
       "    'o': {'type': 'literal', 'value': 'Charlie'}},\n",
       "   {'s': {'type': 'uri', 'value': 'http://example.org/person#Charlie'},\n",
       "    'p': {'type': 'uri', 'value': 'http://example.org/property#age'},\n",
       "    'o': {'type': 'literal', 'value': '35'}},\n",
       "   {'s': {'type': 'uri', 'value': 'http://purl.org/dc/terms/abstract'},\n",
       "    'p': {'type': 'uri',\n",
       "     'value': 'http://www.w3.org/1999/02/22-rdf-syntax-ns#type'},\n",
       "    'o': {'type': 'uri',\n",
       "     'value': 'http://www.w3.org/2002/07/owl#AnnotationProperty'}},\n",
       "   {'s': {'type': 'uri', 'value': 'http://purl.org/dc/terms/abstract'},\n",
       "    'p': {'type': 'uri',\n",
       "     'value': 'http://www.w3.org/2000/01/rdf-schema#isDefinedBy'},\n",
       "    'o': {'type': 'uri', 'value': 'https://w3id.org/emmo/mereocausality#'}},\n",
       "   {'s': {'type': 'uri',\n",
       "     'value': 'http://www.w3.org/2000/01/rdf-schema#isDefinedBy'},\n",
       "    'p': {'type': 'uri',\n",
       "     'value': 'http://www.w3.org/2000/01/rdf-schema#subPropertyOf'},\n",
       "    'o': {'type': 'uri',\n",
       "     'value': 'http://www.w3.org/2000/01/rdf-schema#seeAlso'}},\n",
       "   {'s': {'type': 'uri', 'value': 'http://purl.org/dc/terms/contributor'},\n",
       "    'p': {'type': 'uri',\n",
       "     'value': 'http://www.w3.org/1999/02/22-rdf-syntax-ns#type'},\n",
       "    'o': {'type': 'uri',\n",
       "     'value': 'http://www.w3.org/2002/07/owl#AnnotationProperty'}},\n",
       "   {'s': {'type': 'uri', 'value': 'http://purl.org/dc/terms/contributor'},\n",
       "    'p': {'type': 'uri',\n",
       "     'value': 'http://www.w3.org/2000/01/rdf-schema#isDefinedBy'},\n",
       "    'o': {'type': 'uri', 'value': 'https://w3id.org/emmo/mereocausality#'}},\n",
       "   {'s': {'type': 'uri', 'value': 'http://purl.org/dc/terms/creator'},\n",
       "    'p': {'type': 'uri',\n",
       "     'value': 'http://www.w3.org/1999/02/22-rdf-syntax-ns#type'},\n",
       "    'o': {'type': 'uri',\n",
       "     'value': 'http://www.w3.org/2002/07/owl#AnnotationProperty'}},\n",
       "   {'s': {'type': 'uri', 'value': 'http://purl.org/dc/terms/creator'},\n",
       "    'p': {'type': 'uri',\n",
       "     'value': 'http://www.w3.org/2000/01/rdf-schema#isDefinedBy'},\n",
       "    'o': {'type': 'uri', 'value': 'https://w3id.org/emmo/mereocausality#'}},\n",
       "   {'s': {'type': 'uri', 'value': 'http://purl.org/dc/terms/license'},\n",
       "    'p': {'type': 'uri',\n",
       "     'value': 'http://www.w3.org/1999/02/22-rdf-syntax-ns#type'},\n",
       "    'o': {'type': 'uri',\n",
       "     'value': 'http://www.w3.org/2002/07/owl#AnnotationProperty'}}]}}"
      ]
     },
     "execution_count": 8,
     "metadata": {},
     "output_type": "execute_result"
    }
   ],
   "source": [
    "r=kb.query(query)\n",
    "r.json()"
   ]
  },
  {
   "cell_type": "code",
   "execution_count": 9,
   "id": "a03294cf-4524-47b5-95f6-bc2ca129e99c",
   "metadata": {},
   "outputs": [
    {
     "data": {
      "text/plain": [
       "'https://dev.openmodel.app/fuseki/dataset/sparql'"
      ]
     },
     "execution_count": 9,
     "metadata": {},
     "output_type": "execute_result"
    }
   ],
   "source": [
    "kb.query_iri\n"
   ]
  },
  {
   "cell_type": "code",
   "execution_count": 10,
   "id": "78021f4c-05de-4a40-ab0c-3bef9cb3821b",
   "metadata": {},
   "outputs": [],
   "source": [
    "q=\"\"\"SELECT ?g \n",
    "WHERE {\n",
    "  GRAPH ?g { }\n",
    "}\n",
    "\"\"\""
   ]
  },
  {
   "cell_type": "code",
   "execution_count": 11,
   "id": "f27c10a6-8ccf-4ef1-93ea-2d9518effdcb",
   "metadata": {},
   "outputs": [
    {
     "data": {
      "text/plain": [
       "{'head': {'vars': ['g']},\n",
       " 'results': {'bindings': [{'g': {'type': 'uri', 'value': 'graph://main'}}]}}"
      ]
     },
     "execution_count": 11,
     "metadata": {},
     "output_type": "execute_result"
    }
   ],
   "source": [
    "r=kb.query(q)\n",
    "r.json()"
   ]
  },
  {
   "cell_type": "code",
   "execution_count": 12,
   "id": "d706d3eb-9e99-4ded-8560-cc9448ef1283",
   "metadata": {},
   "outputs": [],
   "source": [
    "from SPARQLWrapper import SPARQLWrapper, JSON, XML, POST, GET"
   ]
  },
  {
   "cell_type": "markdown",
   "id": "fe038572-bd49-47a9-a4d5-2f29222dce77",
   "metadata": {},
   "source": [
    "# Update and insert triplets\n"
   ]
  },
  {
   "cell_type": "code",
   "execution_count": 13,
   "id": "ce78cd8d-7307-47b9-8d8d-c6215f1b5d1c",
   "metadata": {},
   "outputs": [],
   "source": [
    "q=\"\"\"\n",
    "PREFIX ex: <http://example.org/property#>\n",
    "PREFIX person: <http://example.org/person#>\n",
    "\n",
    "INSERT DATA {\n",
    "  person:Charlie ex:name \"Charlie\" .\n",
    "  person:Charlie ex:age \"35\" .\n",
    "}\n",
    "\"\"\"\n"
   ]
  },
  {
   "cell_type": "code",
   "execution_count": 14,
   "id": "bbe67dcf-5181-4aaf-8a89-7174e9f25ef2",
   "metadata": {},
   "outputs": [
    {
     "name": "stdout",
     "output_type": "stream",
     "text": [
      "SPARQL update executed successfully.\n"
     ]
    }
   ],
   "source": [
    "kb.update(q)"
   ]
  },
  {
   "cell_type": "code",
   "execution_count": 15,
   "id": "2702e20c-6e6e-499d-bc78-c6a655ee4d24",
   "metadata": {},
   "outputs": [],
   "source": [
    "q = \"\"\"\n",
    "PREFIX ex: <http://example.org/>\n",
    "PREFIX person: <http://example.org/person#>\n",
    "\n",
    "SELECT ?s ?p ?o\n",
    "WHERE { \n",
    "    person:Charlie ?p ?o .\n",
    "}\n",
    "\"\"\""
   ]
  },
  {
   "cell_type": "code",
   "execution_count": 16,
   "id": "c4cb3d94-c021-4e02-b723-954e8226d892",
   "metadata": {},
   "outputs": [],
   "source": [
    "query = \"\"\"\n",
    "PREFIX ex: <http://example.org/>\n",
    "SELECT ?s ?p ?o\n",
    "WHERE {\n",
    "  ?s ?p ?o .\n",
    "}\n",
    "LIMIT 24\n",
    "\"\"\""
   ]
  },
  {
   "cell_type": "code",
   "execution_count": 17,
   "id": "bc867036-43c5-4324-9baa-ffe6eff49c3c",
   "metadata": {},
   "outputs": [],
   "source": [
    "r=kb.query(query)"
   ]
  },
  {
   "cell_type": "code",
   "execution_count": 18,
   "id": "457cb7c5-8513-472e-8cff-f90321a11a35",
   "metadata": {},
   "outputs": [
    {
     "data": {
      "text/plain": [
       "<Response [200]>"
      ]
     },
     "execution_count": 18,
     "metadata": {},
     "output_type": "execute_result"
    }
   ],
   "source": [
    "r"
   ]
  },
  {
   "cell_type": "code",
   "execution_count": 19,
   "id": "b39de5d2-3595-4e9e-8641-8c2b43c649e6",
   "metadata": {},
   "outputs": [
    {
     "data": {
      "text/plain": [
       "{'head': {'vars': ['s', 'p', 'o']},\n",
       " 'results': {'bindings': [{'s': {'type': 'uri',\n",
       "     'value': 'http://example.org/person#Charlie'},\n",
       "    'p': {'type': 'uri', 'value': 'http://example.org/property#name'},\n",
       "    'o': {'type': 'literal', 'value': 'Charlie'}},\n",
       "   {'s': {'type': 'uri', 'value': 'http://example.org/person#Charlie'},\n",
       "    'p': {'type': 'uri', 'value': 'http://example.org/property#age'},\n",
       "    'o': {'type': 'literal', 'value': '35'}},\n",
       "   {'s': {'type': 'uri', 'value': 'http://purl.org/dc/terms/abstract'},\n",
       "    'p': {'type': 'uri',\n",
       "     'value': 'http://www.w3.org/1999/02/22-rdf-syntax-ns#type'},\n",
       "    'o': {'type': 'uri',\n",
       "     'value': 'http://www.w3.org/2002/07/owl#AnnotationProperty'}},\n",
       "   {'s': {'type': 'uri', 'value': 'http://purl.org/dc/terms/abstract'},\n",
       "    'p': {'type': 'uri',\n",
       "     'value': 'http://www.w3.org/2000/01/rdf-schema#isDefinedBy'},\n",
       "    'o': {'type': 'uri', 'value': 'https://w3id.org/emmo/mereocausality#'}},\n",
       "   {'s': {'type': 'uri',\n",
       "     'value': 'http://www.w3.org/2000/01/rdf-schema#isDefinedBy'},\n",
       "    'p': {'type': 'uri',\n",
       "     'value': 'http://www.w3.org/2000/01/rdf-schema#subPropertyOf'},\n",
       "    'o': {'type': 'uri',\n",
       "     'value': 'http://www.w3.org/2000/01/rdf-schema#seeAlso'}},\n",
       "   {'s': {'type': 'uri', 'value': 'http://purl.org/dc/terms/contributor'},\n",
       "    'p': {'type': 'uri',\n",
       "     'value': 'http://www.w3.org/1999/02/22-rdf-syntax-ns#type'},\n",
       "    'o': {'type': 'uri',\n",
       "     'value': 'http://www.w3.org/2002/07/owl#AnnotationProperty'}},\n",
       "   {'s': {'type': 'uri', 'value': 'http://purl.org/dc/terms/contributor'},\n",
       "    'p': {'type': 'uri',\n",
       "     'value': 'http://www.w3.org/2000/01/rdf-schema#isDefinedBy'},\n",
       "    'o': {'type': 'uri', 'value': 'https://w3id.org/emmo/mereocausality#'}},\n",
       "   {'s': {'type': 'uri', 'value': 'http://purl.org/dc/terms/creator'},\n",
       "    'p': {'type': 'uri',\n",
       "     'value': 'http://www.w3.org/1999/02/22-rdf-syntax-ns#type'},\n",
       "    'o': {'type': 'uri',\n",
       "     'value': 'http://www.w3.org/2002/07/owl#AnnotationProperty'}},\n",
       "   {'s': {'type': 'uri', 'value': 'http://purl.org/dc/terms/creator'},\n",
       "    'p': {'type': 'uri',\n",
       "     'value': 'http://www.w3.org/2000/01/rdf-schema#isDefinedBy'},\n",
       "    'o': {'type': 'uri', 'value': 'https://w3id.org/emmo/mereocausality#'}},\n",
       "   {'s': {'type': 'uri', 'value': 'http://purl.org/dc/terms/license'},\n",
       "    'p': {'type': 'uri',\n",
       "     'value': 'http://www.w3.org/1999/02/22-rdf-syntax-ns#type'},\n",
       "    'o': {'type': 'uri',\n",
       "     'value': 'http://www.w3.org/2002/07/owl#AnnotationProperty'}},\n",
       "   {'s': {'type': 'uri', 'value': 'http://purl.org/dc/terms/license'},\n",
       "    'p': {'type': 'uri',\n",
       "     'value': 'http://www.w3.org/2000/01/rdf-schema#isDefinedBy'},\n",
       "    'o': {'type': 'uri', 'value': 'https://w3id.org/emmo/mereocausality#'}},\n",
       "   {'s': {'type': 'uri', 'value': 'http://purl.org/dc/terms/publisher'},\n",
       "    'p': {'type': 'uri',\n",
       "     'value': 'http://www.w3.org/1999/02/22-rdf-syntax-ns#type'},\n",
       "    'o': {'type': 'uri',\n",
       "     'value': 'http://www.w3.org/2002/07/owl#AnnotationProperty'}},\n",
       "   {'s': {'type': 'uri', 'value': 'http://purl.org/dc/terms/publisher'},\n",
       "    'p': {'type': 'uri',\n",
       "     'value': 'http://www.w3.org/2000/01/rdf-schema#isDefinedBy'},\n",
       "    'o': {'type': 'uri', 'value': 'https://w3id.org/emmo/mereocausality#'}},\n",
       "   {'s': {'type': 'uri', 'value': 'http://purl.org/dc/terms/title'},\n",
       "    'p': {'type': 'uri',\n",
       "     'value': 'http://www.w3.org/1999/02/22-rdf-syntax-ns#type'},\n",
       "    'o': {'type': 'uri',\n",
       "     'value': 'http://www.w3.org/2002/07/owl#AnnotationProperty'}},\n",
       "   {'s': {'type': 'uri', 'value': 'http://purl.org/dc/terms/title'},\n",
       "    'p': {'type': 'uri',\n",
       "     'value': 'http://www.w3.org/2000/01/rdf-schema#isDefinedBy'},\n",
       "    'o': {'type': 'uri', 'value': 'https://w3id.org/emmo/mereocausality#'}},\n",
       "   {'s': {'type': 'uri',\n",
       "     'value': 'http://www.w3.org/1999/02/22-rdf-syntax-ns#HTML'},\n",
       "    'p': {'type': 'uri',\n",
       "     'value': 'http://www.w3.org/1999/02/22-rdf-syntax-ns#type'},\n",
       "    'o': {'type': 'uri',\n",
       "     'value': 'http://www.w3.org/2000/01/rdf-schema#Datatype'}},\n",
       "   {'s': {'type': 'uri',\n",
       "     'value': 'http://www.w3.org/2002/07/owl#minQualifiedCardinality'},\n",
       "    'p': {'type': 'uri',\n",
       "     'value': 'http://www.w3.org/1999/02/22-rdf-syntax-ns#type'},\n",
       "    'o': {'type': 'uri',\n",
       "     'value': 'http://www.w3.org/2002/07/owl#AnnotationProperty'}},\n",
       "   {'s': {'type': 'uri',\n",
       "     'value': 'http://www.w3.org/2002/07/owl#minQualifiedCardinality'},\n",
       "    'p': {'type': 'uri',\n",
       "     'value': 'http://www.w3.org/2000/01/rdf-schema#isDefinedBy'},\n",
       "    'o': {'type': 'uri',\n",
       "     'value': 'https://w3id.org/emmo/disciplines/materials#'}},\n",
       "   {'s': {'type': 'uri',\n",
       "     'value': 'http://www.w3.org/2002/07/owl#qualifiedCardinality'},\n",
       "    'p': {'type': 'uri',\n",
       "     'value': 'http://www.w3.org/1999/02/22-rdf-syntax-ns#type'},\n",
       "    'o': {'type': 'uri',\n",
       "     'value': 'http://www.w3.org/2002/07/owl#AnnotationProperty'}},\n",
       "   {'s': {'type': 'uri',\n",
       "     'value': 'http://www.w3.org/2002/07/owl#qualifiedCardinality'},\n",
       "    'p': {'type': 'uri',\n",
       "     'value': 'http://www.w3.org/2000/01/rdf-schema#isDefinedBy'},\n",
       "    'o': {'type': 'uri',\n",
       "     'value': 'https://w3id.org/emmo/perspectives/physicalistic#'}},\n",
       "   {'s': {'type': 'uri',\n",
       "     'value': 'http://www.w3.org/2004/02/skos/core#hiddenLabel'},\n",
       "    'p': {'type': 'uri',\n",
       "     'value': 'http://www.w3.org/1999/02/22-rdf-syntax-ns#type'},\n",
       "    'o': {'type': 'uri',\n",
       "     'value': 'http://www.w3.org/2002/07/owl#AnnotationProperty'}},\n",
       "   {'s': {'type': 'uri',\n",
       "     'value': 'http://www.w3.org/2004/02/skos/core#hiddenLabel'},\n",
       "    'p': {'type': 'uri',\n",
       "     'value': 'http://www.w3.org/2000/01/rdf-schema#isDefinedBy'},\n",
       "    'o': {'type': 'uri', 'value': 'https://w3id.org/emmo/mereocausality#'}},\n",
       "   {'s': {'type': 'uri',\n",
       "     'value': 'http://www.w3.org/2004/02/skos/core#hiddenLabel'},\n",
       "    'p': {'type': 'uri',\n",
       "     'value': 'http://www.w3.org/2000/01/rdf-schema#subPropertyOf'},\n",
       "    'o': {'type': 'uri',\n",
       "     'value': 'http://www.w3.org/2000/01/rdf-schema#label'}},\n",
       "   {'s': {'type': 'uri',\n",
       "     'value': 'http://www.w3.org/2000/01/rdf-schema#label'},\n",
       "    'p': {'type': 'uri',\n",
       "     'value': 'http://www.w3.org/2000/01/rdf-schema#range'},\n",
       "    'o': {'type': 'uri',\n",
       "     'value': 'http://www.w3.org/2000/01/rdf-schema#Literal'}}]}}"
      ]
     },
     "execution_count": 19,
     "metadata": {},
     "output_type": "execute_result"
    }
   ],
   "source": [
    "r.json()"
   ]
  },
  {
   "cell_type": "code",
   "execution_count": 20,
   "id": "1a640ed8-4191-4804-8ca6-644f8dfdf57e",
   "metadata": {},
   "outputs": [],
   "source": [
    "q = \"\"\"\n",
    "SELECT ?p ?o\n",
    "WHERE { \n",
    "    <http://example.org/person#Charlie> ?p ?o .\n",
    "}\n",
    "\"\"\""
   ]
  },
  {
   "cell_type": "code",
   "execution_count": 21,
   "id": "702b12e0-0314-4a87-a0ea-64adbdb78478",
   "metadata": {},
   "outputs": [],
   "source": [
    "r=kb.query(q)"
   ]
  },
  {
   "cell_type": "code",
   "execution_count": 22,
   "id": "25c7bba1-8dc6-47f3-9e81-510aeddad89c",
   "metadata": {},
   "outputs": [
    {
     "data": {
      "text/plain": [
       "<Response [200]>"
      ]
     },
     "execution_count": 22,
     "metadata": {},
     "output_type": "execute_result"
    }
   ],
   "source": [
    "r\n"
   ]
  },
  {
   "cell_type": "code",
   "execution_count": 23,
   "id": "94152de4-4e20-4bd4-b33a-e6e6632e9c6c",
   "metadata": {},
   "outputs": [
    {
     "data": {
      "text/plain": [
       "{'head': {'vars': ['p', 'o']},\n",
       " 'results': {'bindings': [{'p': {'type': 'uri',\n",
       "     'value': 'http://example.org/property#name'},\n",
       "    'o': {'type': 'literal', 'value': 'Charlie'}},\n",
       "   {'p': {'type': 'uri', 'value': 'http://example.org/property#age'},\n",
       "    'o': {'type': 'literal', 'value': '35'}}]}}"
      ]
     },
     "execution_count": 23,
     "metadata": {},
     "output_type": "execute_result"
    }
   ],
   "source": [
    "r.json()"
   ]
  },
  {
   "cell_type": "code",
   "execution_count": 24,
   "id": "9c62b6cf-0cb9-4922-a8d1-906a8c9274eb",
   "metadata": {},
   "outputs": [],
   "source": [
    "# counting triplets"
   ]
  },
  {
   "cell_type": "code",
   "execution_count": 25,
   "id": "ad02edcd-445b-4c0c-a9b5-113d288d1c89",
   "metadata": {},
   "outputs": [],
   "source": [
    "query = \"\"\"\n",
    "        SELECT (COUNT(*) as ?triplesCount)\n",
    "        WHERE { ?s ?p ?o }\n",
    "        \"\"\""
   ]
  },
  {
   "cell_type": "code",
   "execution_count": 26,
   "id": "2e541952-1516-477f-9a5f-1c7c8786db66",
   "metadata": {},
   "outputs": [],
   "source": [
    "r=kb.query(query)"
   ]
  },
  {
   "cell_type": "code",
   "execution_count": 27,
   "id": "6b3863bb-78b4-4688-a42b-d51f284e34bf",
   "metadata": {},
   "outputs": [
    {
     "data": {
      "text/plain": [
       "{'head': {'vars': ['triplesCount']},\n",
       " 'results': {'bindings': [{'triplesCount': {'type': 'literal',\n",
       "     'datatype': 'http://www.w3.org/2001/XMLSchema#integer',\n",
       "     'value': '71695'}}]}}"
      ]
     },
     "execution_count": 27,
     "metadata": {},
     "output_type": "execute_result"
    }
   ],
   "source": [
    "r.json()"
   ]
  },
  {
   "cell_type": "markdown",
   "id": "59feb532-bd41-4887-b6b8-2287b168991d",
   "metadata": {},
   "source": [
    "## Searching by Keyword\n"
   ]
  },
  {
   "cell_type": "code",
   "execution_count": 28,
   "id": "8d5b1346-daa2-408a-ac28-85dae9d4d5d7",
   "metadata": {},
   "outputs": [],
   "source": [
    "r=kb.search_keyword('Charlie')"
   ]
  },
  {
   "cell_type": "code",
   "execution_count": 29,
   "id": "cac0ac29-9232-472d-8019-db078aa7d7b9",
   "metadata": {},
   "outputs": [
    {
     "data": {
      "text/plain": [
       "{'head': {'vars': ['s', 'p', 'o']},\n",
       " 'results': {'bindings': [{'s': {'type': 'uri',\n",
       "     'value': 'http://example.org/person#Charlie'},\n",
       "    'p': {'type': 'uri', 'value': 'http://example.org/property#name'},\n",
       "    'o': {'type': 'literal', 'value': 'Charlie'}},\n",
       "   {'s': {'type': 'uri', 'value': 'http://example.org/person#Charlie'},\n",
       "    'p': {'type': 'uri', 'value': 'http://example.org/property#age'},\n",
       "    'o': {'type': 'literal', 'value': '35'}}]}}"
      ]
     },
     "execution_count": 29,
     "metadata": {},
     "output_type": "execute_result"
    }
   ],
   "source": [
    "r.json()"
   ]
  },
  {
   "cell_type": "markdown",
   "id": "57774fb5-f298-40dc-8983-9b62890b0196",
   "metadata": {
    "tags": []
   },
   "source": [
    "# Examples using SparqlWrapper\n",
    "## Query and return triplets\n",
    "\n",
    "Note: SPARQLWrapper Does not yet work properly as it cannot handle the OMI proxy! if we do "
   ]
  },
  {
   "cell_type": "code",
   "execution_count": 30,
   "id": "ae10a194-ee6a-4d0e-8aba-1b09cd108ef2",
   "metadata": {},
   "outputs": [
    {
     "data": {
      "text/plain": [
       "'https://dev.openmodel.app/fuseki/dataset/sparql'"
      ]
     },
     "execution_count": 30,
     "metadata": {},
     "output_type": "execute_result"
    }
   ],
   "source": [
    "sparql = SPARQLWrapper(\n",
    "    kb.query_iri\n",
    "    )\n",
    "kb.query_iri  # note this only takes GET methods for now. "
   ]
  },
  {
   "cell_type": "code",
   "execution_count": 31,
   "id": "838c674b-3a35-41c3-8f20-23bba421e106",
   "metadata": {},
   "outputs": [],
   "source": [
    "sparql.setReturnFormat(JSON)"
   ]
  },
  {
   "cell_type": "code",
   "execution_count": 32,
   "id": "37cbcf75-050b-4142-b853-e70b0b998426",
   "metadata": {},
   "outputs": [],
   "source": [
    "q = \"\"\"\n",
    "SELECT ?p ?o\n",
    "WHERE { \n",
    "    <http://example.org/person#Charlie> ?p ?o .\n",
    "}\n",
    "\"\"\"\n",
    "sparql.setQuery(q)"
   ]
  },
  {
   "cell_type": "code",
   "execution_count": 33,
   "id": "cd3d8b7e-403a-4e93-9d5b-04848b1db4a2",
   "metadata": {},
   "outputs": [],
   "source": [
    "ret = sparql.queryAndConvert()"
   ]
  },
  {
   "cell_type": "code",
   "execution_count": 34,
   "id": "0ac9d341-ee9e-41fa-a000-c9f0fd6fca91",
   "metadata": {},
   "outputs": [
    {
     "data": {
      "text/plain": [
       "'\\nSELECT ?p ?o\\nWHERE { \\n    <http://example.org/person#Charlie> ?p ?o .\\n}\\n'"
      ]
     },
     "execution_count": 34,
     "metadata": {},
     "output_type": "execute_result"
    }
   ],
   "source": [
    "sparql.queryString"
   ]
  },
  {
   "cell_type": "code",
   "execution_count": 35,
   "id": "7d1969ab-6fd9-4375-b07f-52801408f6ab",
   "metadata": {},
   "outputs": [
    {
     "data": {
      "text/plain": [
       "{'head': {'vars': ['p', 'o']},\n",
       " 'results': {'bindings': [{'p': {'type': 'uri',\n",
       "     'value': 'http://example.org/property#name'},\n",
       "    'o': {'type': 'literal', 'value': 'Charlie'}},\n",
       "   {'p': {'type': 'uri', 'value': 'http://example.org/property#age'},\n",
       "    'o': {'type': 'literal', 'value': '35'}}]}}"
      ]
     },
     "execution_count": 35,
     "metadata": {},
     "output_type": "execute_result"
    }
   ],
   "source": [
    "ret"
   ]
  },
  {
   "cell_type": "code",
   "execution_count": 36,
   "id": "25a5bea5-8073-4990-91f7-f9cd7cb7250b",
   "metadata": {},
   "outputs": [],
   "source": [
    "#for r in ret[\"results\"][\"bindings\"]:\n",
    "#        print(r['s']['value'], \"----[\", r['p']['value'], \"]---->\", r['o']['value'])"
   ]
  },
  {
   "cell_type": "code",
   "execution_count": 37,
   "id": "d98a6ea0-9f7e-4162-8439-53c67e050034",
   "metadata": {},
   "outputs": [
    {
     "name": "stdout",
     "output_type": "stream",
     "text": [
      "<http://example.org/person#Charlie> ----[ http://example.org/property#name ]----> Charlie\n",
      "<http://example.org/person#Charlie> ----[ http://example.org/property#age ]----> 35\n"
     ]
    }
   ],
   "source": [
    "for r in ret[\"results\"][\"bindings\"]:\n",
    "    print(\"<http://example.org/person#Charlie>\", \"----[\", r['p']['value'], \"]---->\", r['o']['value'])"
   ]
  },
  {
   "cell_type": "markdown",
   "id": "25c6cdd4-036a-47d4-a897-503e2093b8a6",
   "metadata": {},
   "source": [
    "# Importing Ontology Files \n",
    "\n",
    "Note: we can support ctalouge and import files, as well as reasoning, but for now, ontology files should be uploaded one by one.\n",
    "\n",
    "for example if ontology X uses (imports) ontology Y, simply upload X (without the import) and X. \n",
    "\n",
    "The actual behaviour should be tested first, and then implement the option. (potentially building on ontomanager from DOME 4.0)"
   ]
  },
  {
   "cell_type": "code",
   "execution_count": 38,
   "id": "67119da0-f003-47ff-89b9-e32ee565c846",
   "metadata": {},
   "outputs": [
    {
     "name": "stdout",
     "output_type": "stream",
     "text": [
      "Successfully added 30841 triplets to the dataspace default in the knowledge base.\n"
     ]
    },
    {
     "data": {
      "text/plain": [
       "<Response [200]>"
      ]
     },
     "execution_count": 38,
     "metadata": {},
     "output_type": "execute_result"
    }
   ],
   "source": [
    "kb.import_ontology(\"https://emmo-repo.github.io/versions/1.0.0-rc1/emmo.ttl\")"
   ]
  },
  {
   "cell_type": "code",
   "execution_count": 39,
   "id": "ed494007-758e-4bc3-bd9e-eb691c513b93",
   "metadata": {},
   "outputs": [],
   "source": [
    "q=\"\"\"PREFIX rdfs: <http://www.w3.org/2000/01/rdf-schema#>\n",
    "\n",
    "SELECT ?class WHERE {\n",
    "  ?class rdfs:label \"PhysicsEquationSolution\"@en .\n",
    "}\n",
    "\"\"\""
   ]
  },
  {
   "cell_type": "code",
   "execution_count": 40,
   "id": "c3dd79c0-d1d6-4c36-a015-e16735edc0e3",
   "metadata": {},
   "outputs": [],
   "source": [
    "r=kb.query(q)"
   ]
  },
  {
   "cell_type": "code",
   "execution_count": 41,
   "id": "7cab2138-c3e4-44e4-b97c-a4c7ce08b204",
   "metadata": {},
   "outputs": [
    {
     "data": {
      "text/plain": [
       "<Response [200]>"
      ]
     },
     "execution_count": 41,
     "metadata": {},
     "output_type": "execute_result"
    }
   ],
   "source": [
    "r"
   ]
  },
  {
   "cell_type": "code",
   "execution_count": 42,
   "id": "fb179683-79db-48f8-a4fe-222bc3191977",
   "metadata": {},
   "outputs": [
    {
     "data": {
      "text/plain": [
       "{'head': {'vars': ['class']},\n",
       " 'results': {'bindings': [{'class': {'type': 'uri',\n",
       "     'value': 'https://w3id.org/emmo#EMMO_6e0664f2_4d4d_4407_bf60_e1b3c07198d7'}}]}}"
      ]
     },
     "execution_count": 42,
     "metadata": {},
     "output_type": "execute_result"
    }
   ],
   "source": [
    "r.json()"
   ]
  },
  {
   "cell_type": "code",
   "execution_count": 43,
   "id": "dc7a4178-9384-45ea-8ab7-75e9fea6b11e",
   "metadata": {},
   "outputs": [],
   "source": [
    "q=\"\"\"PREFIX rdfs: <http://www.w3.org/2000/01/rdf-schema#>\n",
    "PREFIX rdf: <http://www.w3.org/1999/02/22-rdf-syntax-ns#>\n",
    "PREFIX owl: <http://www.w3.org/2002/07/owl#>\n",
    "\n",
    "SELECT ?property ?propertyLabel WHERE {\n",
    "  ?class rdfs:label \"PhysicsEquationSolution\"@en .\n",
    "  ?class ?property ?attribute .\n",
    "  OPTIONAL {\n",
    "    ?property rdfs:label ?propertyLabel .\n",
    "  }\n",
    "}\n",
    "\"\"\""
   ]
  },
  {
   "cell_type": "code",
   "execution_count": 44,
   "id": "42fa760a-2f07-4ff4-99f9-515a0a95db15",
   "metadata": {},
   "outputs": [],
   "source": [
    "r=kb.query(q)"
   ]
  },
  {
   "cell_type": "code",
   "execution_count": 45,
   "id": "379c1807-5054-44f3-b890-04814e8460dd",
   "metadata": {},
   "outputs": [
    {
     "data": {
      "text/plain": [
       "{'head': {'vars': ['property', 'propertyLabel']},\n",
       " 'results': {'bindings': [{'property': {'type': 'uri',\n",
       "     'value': 'http://www.w3.org/1999/02/22-rdf-syntax-ns#type'}},\n",
       "   {'property': {'type': 'uri',\n",
       "     'value': 'http://www.w3.org/2000/01/rdf-schema#isDefinedBy'}},\n",
       "   {'property': {'type': 'uri',\n",
       "     'value': 'http://www.w3.org/2000/01/rdf-schema#label'}},\n",
       "   {'property': {'type': 'uri',\n",
       "     'value': 'http://www.w3.org/2000/01/rdf-schema#comment'}},\n",
       "   {'property': {'type': 'uri',\n",
       "     'value': 'http://www.w3.org/2000/01/rdf-schema#comment'}},\n",
       "   {'property': {'type': 'uri',\n",
       "     'value': 'http://www.w3.org/2004/02/skos/core#prefLabel'}},\n",
       "   {'property': {'type': 'uri',\n",
       "     'value': 'https://w3id.org/emmo#EMMO_967080e5_2f42_4eb2_a3a9_c58143e835f9'},\n",
       "    'propertyLabel': {'type': 'literal',\n",
       "     'xml:lang': 'en',\n",
       "     'value': 'elucidation'}},\n",
       "   {'property': {'type': 'uri',\n",
       "     'value': 'http://www.w3.org/2000/01/rdf-schema#subClassOf'}},\n",
       "   {'property': {'type': 'uri',\n",
       "     'value': 'http://www.w3.org/2004/02/skos/core#example'}}]}}"
      ]
     },
     "execution_count": 45,
     "metadata": {},
     "output_type": "execute_result"
    }
   ],
   "source": [
    "r.json()\n",
    "x=r.json()\n",
    "x"
   ]
  },
  {
   "cell_type": "code",
   "execution_count": 46,
   "id": "aaa55c62-6668-4f5b-8142-ad75c202afd3",
   "metadata": {},
   "outputs": [],
   "source": [
    "q=\"\"\"PREFIX rdfs: <http://www.w3.org/2000/01/rdf-schema#>\n",
    "PREFIX rdf: <http://www.w3.org/1999/02/22-rdf-syntax-ns#>\n",
    "\n",
    "CONSTRUCT {\n",
    "  ?s ?p ?o .\n",
    "  ?o ?prop ?value .\n",
    "} WHERE {\n",
    "  ?s rdfs:label \"PhysicsEquationSolution\"@en .\n",
    "  ?s ?p ?o .\n",
    "  OPTIONAL {\n",
    "    ?o ?prop ?value .\n",
    "  }\n",
    "}\n",
    "\"\"\""
   ]
  },
  {
   "cell_type": "code",
   "execution_count": 47,
   "id": "7e53d45e-e6cc-4d32-b2a4-92666739d7fb",
   "metadata": {},
   "outputs": [],
   "source": [
    "r=kb.query(q)"
   ]
  },
  {
   "cell_type": "code",
   "execution_count": 48,
   "id": "c92f787e-7608-4f42-86c1-196de66bb393",
   "metadata": {},
   "outputs": [],
   "source": [
    "response_text = r.content.decode('utf-8')"
   ]
  },
  {
   "cell_type": "code",
   "execution_count": 49,
   "id": "d96b4b30-7e2e-4a1c-9320-ffc3cb85058d",
   "metadata": {},
   "outputs": [
    {
     "data": {
      "text/plain": [
       "'PREFIX :               <https://w3id.org/emmo#>\\nPREFIX base:           <http://webprotege.stanford.edu/>\\nPREFIX dcterms:        <http://purl.org/dc/terms/>\\nPREFIX emmo:           <https://w3id.org/emmo#>\\nPREFIX foaf:           <http://xmlns.com/foaf/0.1/>\\nPREFIX kpa:            <http://open-model.eu/ontoflow/kpa#>\\nPREFIX kpa-converters: <http://open-model.eu/ontoflow/kpa-converters#>\\nPREFIX ns1:            <http://emmo.info/emmo#>\\nPREFIX oteio:          <https://w3id.org/emmo/domain/oteio#>\\nPREFIX owl:            <http://www.w3.org/2002/07/owl#>\\nPREFIX rdf:            <http://www.w3.org/1999/02/22-rdf-syntax-ns#>\\nPREFIX rdfs:           <http://www.w3.org/2000/01/rdf-schema#>\\nPREFIX schema:         <http://schema.org/>\\nPREFIX skos:           <http://www.w3.org/2004/02/skos/core#>\\nPREFIX swrl:           <http://www.w3.org/2003/11/swrl#>\\nPREFIX xml:            <http://www.w3.org/XML/1998/namespace>\\nPREFIX xsd:            <http://www.w3.org/2001/XMLSchema#>\\n\\nemmo:EMMO_54ee6b5e_5261_44a8_86eb_5717e7fdb9d0\\n        rdf:type          owl:Class;\\n        rdfs:comment      \"The class of general mathematical symbolic objects respecting mathematical syntactic rules.\"@en , \"A mathematical object in this branch is not representing a concept but an actual graphical object built using mathematcal symbols arranged in some way, according to math conventions.\"@en;\\n        rdfs:isDefinedBy  <https://w3id.org/emmo/disciplines/models#>;\\n        rdfs:label        \"Mathematical\"@en;\\n        rdfs:subClassOf   emmo:EMMO_d8d2144e_5c8d_455d_a643_5caf4d8d9df8;\\n        skos:prefLabel    \"Mathematical\"@en;\\n        emmo:EMMO_967080e5_2f42_4eb2_a3a9_c58143e835f9\\n                \"The class of general mathematical symbolic objects respecting mathematical syntactic rules.\"@en;\\n        emmo:EMMO_c7b62dd7_063a_4c2a_8504_42f7264ba83f\\n                \"A mathematical object in this branch is not representing a concept but an actual graphical object built using mathematcal symbols arranged in some way, according to math conventions.\"@en .\\n\\nemmo:EMMO_6e0664f2_4d4d_4407_bf60_e1b3c07198d7\\n        rdf:type          owl:Class;\\n        rdfs:comment      \"This must be a mathematical function v(t), x(t).\\\\nA dataset as solution is a conventional sign.\"@en , \"A function solution of a physics equation that provides a methods for the prediction of some quantitiative properties of an object.\"@en;\\n        rdfs:isDefinedBy  <https://w3id.org/emmo/disciplines/models#>;\\n        rdfs:label        \"PhysicsEquationSolution\"@en;\\n        rdfs:subClassOf   emmo:EMMO_54ee6b5e_5261_44a8_86eb_5717e7fdb9d0;\\n        skos:example      \"A parabolic function is a prediction of the trajectory of a falling object in a gravitational field. While it has predictive capabilities it lacks of an analogical character, since it does not show the law behind that trajectory.\"@en;\\n        skos:prefLabel    \"PhysicsEquationSolution\"@en;\\n        emmo:EMMO_967080e5_2f42_4eb2_a3a9_c58143e835f9\\n                \"A function solution of a physics equation that provides a methods for the prediction of some quantitiative properties of an object.\"@en .\\n'"
      ]
     },
     "execution_count": 49,
     "metadata": {},
     "output_type": "execute_result"
    }
   ],
   "source": [
    "response_text"
   ]
  },
  {
   "cell_type": "code",
   "execution_count": 50,
   "id": "f8edf0d2-3fc2-4bf9-a3e3-4adc1113ae44",
   "metadata": {},
   "outputs": [
    {
     "data": {
      "text/plain": [
       "<Graph identifier=N39d38c5511d34c7288d98e1138e4f487 (<class 'rdflib.graph.Graph'>)>"
      ]
     },
     "execution_count": 50,
     "metadata": {},
     "output_type": "execute_result"
    }
   ],
   "source": [
    "g = rdflib.Graph()\n",
    "g.parse(data=response_text, format=\"turtle\")"
   ]
  },
  {
   "cell_type": "code",
   "execution_count": 51,
   "id": "0a6c24e1-9a64-49ab-a3f1-75b09b74e6f5",
   "metadata": {},
   "outputs": [
    {
     "name": "stdout",
     "output_type": "stream",
     "text": [
      "https://w3id.org/emmo#EMMO_54ee6b5e_5261_44a8_86eb_5717e7fdb9d0 http://www.w3.org/2004/02/skos/core#prefLabel Mathematical \n",
      "\n",
      "https://w3id.org/emmo#EMMO_6e0664f2_4d4d_4407_bf60_e1b3c07198d7 http://www.w3.org/2000/01/rdf-schema#label PhysicsEquationSolution \n",
      "\n",
      "https://w3id.org/emmo#EMMO_6e0664f2_4d4d_4407_bf60_e1b3c07198d7 http://www.w3.org/1999/02/22-rdf-syntax-ns#type http://www.w3.org/2002/07/owl#Class \n",
      "\n",
      "https://w3id.org/emmo#EMMO_54ee6b5e_5261_44a8_86eb_5717e7fdb9d0 https://w3id.org/emmo#EMMO_c7b62dd7_063a_4c2a_8504_42f7264ba83f A mathematical object in this branch is not representing a concept but an actual graphical object built using mathematcal symbols arranged in some way, according to math conventions. \n",
      "\n",
      "https://w3id.org/emmo#EMMO_54ee6b5e_5261_44a8_86eb_5717e7fdb9d0 https://w3id.org/emmo#EMMO_967080e5_2f42_4eb2_a3a9_c58143e835f9 The class of general mathematical symbolic objects respecting mathematical syntactic rules. \n",
      "\n",
      "https://w3id.org/emmo#EMMO_6e0664f2_4d4d_4407_bf60_e1b3c07198d7 http://www.w3.org/2004/02/skos/core#example A parabolic function is a prediction of the trajectory of a falling object in a gravitational field. While it has predictive capabilities it lacks of an analogical character, since it does not show the law behind that trajectory. \n",
      "\n",
      "https://w3id.org/emmo#EMMO_54ee6b5e_5261_44a8_86eb_5717e7fdb9d0 http://www.w3.org/2000/01/rdf-schema#label Mathematical \n",
      "\n",
      "https://w3id.org/emmo#EMMO_6e0664f2_4d4d_4407_bf60_e1b3c07198d7 http://www.w3.org/2000/01/rdf-schema#isDefinedBy https://w3id.org/emmo/disciplines/models# \n",
      "\n",
      "https://w3id.org/emmo#EMMO_54ee6b5e_5261_44a8_86eb_5717e7fdb9d0 http://www.w3.org/2000/01/rdf-schema#comment The class of general mathematical symbolic objects respecting mathematical syntactic rules. \n",
      "\n",
      "https://w3id.org/emmo#EMMO_6e0664f2_4d4d_4407_bf60_e1b3c07198d7 https://w3id.org/emmo#EMMO_967080e5_2f42_4eb2_a3a9_c58143e835f9 A function solution of a physics equation that provides a methods for the prediction of some quantitiative properties of an object. \n",
      "\n",
      "https://w3id.org/emmo#EMMO_6e0664f2_4d4d_4407_bf60_e1b3c07198d7 http://www.w3.org/2000/01/rdf-schema#subClassOf https://w3id.org/emmo#EMMO_54ee6b5e_5261_44a8_86eb_5717e7fdb9d0 \n",
      "\n",
      "https://w3id.org/emmo#EMMO_54ee6b5e_5261_44a8_86eb_5717e7fdb9d0 http://www.w3.org/1999/02/22-rdf-syntax-ns#type http://www.w3.org/2002/07/owl#Class \n",
      "\n",
      "https://w3id.org/emmo#EMMO_54ee6b5e_5261_44a8_86eb_5717e7fdb9d0 http://www.w3.org/2000/01/rdf-schema#comment A mathematical object in this branch is not representing a concept but an actual graphical object built using mathematcal symbols arranged in some way, according to math conventions. \n",
      "\n",
      "https://w3id.org/emmo#EMMO_54ee6b5e_5261_44a8_86eb_5717e7fdb9d0 http://www.w3.org/2000/01/rdf-schema#isDefinedBy https://w3id.org/emmo/disciplines/models# \n",
      "\n",
      "https://w3id.org/emmo#EMMO_54ee6b5e_5261_44a8_86eb_5717e7fdb9d0 http://www.w3.org/2000/01/rdf-schema#subClassOf https://w3id.org/emmo#EMMO_d8d2144e_5c8d_455d_a643_5caf4d8d9df8 \n",
      "\n",
      "https://w3id.org/emmo#EMMO_6e0664f2_4d4d_4407_bf60_e1b3c07198d7 http://www.w3.org/2000/01/rdf-schema#comment This must be a mathematical function v(t), x(t).\n",
      "A dataset as solution is a conventional sign. \n",
      "\n",
      "https://w3id.org/emmo#EMMO_6e0664f2_4d4d_4407_bf60_e1b3c07198d7 http://www.w3.org/2004/02/skos/core#prefLabel PhysicsEquationSolution \n",
      "\n",
      "https://w3id.org/emmo#EMMO_6e0664f2_4d4d_4407_bf60_e1b3c07198d7 http://www.w3.org/2000/01/rdf-schema#comment A function solution of a physics equation that provides a methods for the prediction of some quantitiative properties of an object. \n",
      "\n"
     ]
    }
   ],
   "source": [
    "for s, p, o in g:\n",
    "    print(s, p, o, \"\\n\")"
   ]
  },
  {
   "cell_type": "markdown",
   "id": "c23bf4ba-9869-4a50-b410-4c36306be0d3",
   "metadata": {},
   "source": [
    "# Upload the Microstructural Ontology "
   ]
  },
  {
   "cell_type": "code",
   "execution_count": 52,
   "id": "6d962d39-61cc-43d5-8758-bb64607f599a",
   "metadata": {},
   "outputs": [
    {
     "name": "stdout",
     "output_type": "stream",
     "text": [
      "Successfully added 762 triplets to the dataspace default in the knowledge base.\n"
     ]
    },
    {
     "data": {
      "text/plain": [
       "<Response [200]>"
      ]
     },
     "execution_count": 52,
     "metadata": {},
     "output_type": "execute_result"
    }
   ],
   "source": [
    "kb.import_ontology(\"https://raw.githubusercontent.com/emmo-repo/domain-microstructure/master/microstructure.ttl\")"
   ]
  },
  {
   "cell_type": "code",
   "execution_count": 53,
   "id": "bface0cc-7f05-4647-a6b6-6db3e0b62cc1",
   "metadata": {},
   "outputs": [
    {
     "data": {
      "text/plain": [
       "{'datasets': {'/dataset': {'Requests': 193,\n",
       "   'RequestsGood': 193,\n",
       "   'RequestsBad': 0,\n",
       "   'endpoints': {'_1': {'RequestsBad': 0,\n",
       "     'Requests': 0,\n",
       "     'RequestsGood': 0,\n",
       "     'operation': 'gsp-r',\n",
       "     'description': 'Graph Store Protocol (Read)'},\n",
       "    'get': {'RequestsBad': 0,\n",
       "     'Requests': 0,\n",
       "     'RequestsGood': 0,\n",
       "     'operation': 'gsp-r',\n",
       "     'description': 'Graph Store Protocol (Read)'},\n",
       "    '_2': {'RequestsBad': 0,\n",
       "     'Requests': 8,\n",
       "     'RequestsGood': 8,\n",
       "     'operation': 'gsp-rw',\n",
       "     'description': 'Graph Store Protocol'},\n",
       "    'data': {'RequestsBad': 0,\n",
       "     'Requests': 5,\n",
       "     'RequestsGood': 5,\n",
       "     'operation': 'gsp-rw',\n",
       "     'description': 'Graph Store Protocol'},\n",
       "    '_3': {'RequestsBad': 0,\n",
       "     'Requests': 156,\n",
       "     'RequestsGood': 156,\n",
       "     'operation': 'query',\n",
       "     'description': 'SPARQL Query'},\n",
       "    'sparql': {'RequestsBad': 0,\n",
       "     'Requests': 22,\n",
       "     'RequestsGood': 22,\n",
       "     'operation': 'query',\n",
       "     'description': 'SPARQL Query'},\n",
       "    '_4': {'RequestsBad': 0,\n",
       "     'Requests': 0,\n",
       "     'RequestsGood': 0,\n",
       "     'operation': 'update',\n",
       "     'description': 'SPARQL Update'},\n",
       "    'update': {'RequestsBad': 0,\n",
       "     'Requests': 2,\n",
       "     'RequestsGood': 2,\n",
       "     'operation': 'update',\n",
       "     'description': 'SPARQL Update'}}}}}"
      ]
     },
     "execution_count": 53,
     "metadata": {},
     "output_type": "execute_result"
    }
   ],
   "source": [
    "kb.stats()"
   ]
  },
  {
   "cell_type": "code",
   "execution_count": 54,
   "id": "6c72a441-39ed-4f61-a165-f719e5a74f4d",
   "metadata": {},
   "outputs": [],
   "source": [
    "# query to count all triples\n",
    "query = \"\"\"\n",
    "        SELECT (COUNT(*) as ?triplesCount)\n",
    "        WHERE { ?s ?p ?o }\n",
    "        \"\"\""
   ]
  },
  {
   "cell_type": "code",
   "execution_count": 55,
   "id": "1637ced3-18c9-409f-9ee9-0fc0a2b95faf",
   "metadata": {},
   "outputs": [],
   "source": [
    "c=kb.query(query)"
   ]
  },
  {
   "cell_type": "code",
   "execution_count": 56,
   "id": "bba553f2-d9c9-4c5c-bb35-82aabbe350fd",
   "metadata": {},
   "outputs": [
    {
     "data": {
      "text/plain": [
       "{'head': {'vars': ['triplesCount']},\n",
       " 'results': {'bindings': [{'triplesCount': {'type': 'literal',\n",
       "     'datatype': 'http://www.w3.org/2001/XMLSchema#integer',\n",
       "     'value': '81627'}}]}}"
      ]
     },
     "execution_count": 56,
     "metadata": {},
     "output_type": "execute_result"
    }
   ],
   "source": [
    "c.json()"
   ]
  },
  {
   "cell_type": "code",
   "execution_count": 57,
   "id": "ba17994f-0cae-466b-91f6-6f57ae847d21",
   "metadata": {},
   "outputs": [
    {
     "name": "stdout",
     "output_type": "stream",
     "text": [
      "Successfully added 122 triplets to the dataspace default in the knowledge base.\n"
     ]
    }
   ],
   "source": [
    "x=kb.import_ontology(\"https://raw.githubusercontent.com/H2020-OpenModel/OntoFlow/v2.0.0/examples/openmodel_example/openmodel_example.ttl\")\n"
   ]
  },
  {
   "cell_type": "markdown",
   "id": "20106d12-88ce-49b0-b461-7836f495cef5",
   "metadata": {
    "tags": []
   },
   "source": [
    "# Lets install ontoflow here. "
   ]
  },
  {
   "cell_type": "code",
   "execution_count": 58,
   "id": "fd14f9c8-339a-4450-b16f-f4313ac91955",
   "metadata": {},
   "outputs": [
    {
     "name": "stdout",
     "output_type": "stream",
     "text": [
      "Collecting git+https://github.com/H2020-OpenModel/OntoFlow/\n",
      "  Cloning https://github.com/H2020-OpenModel/OntoFlow/ to /tmp/pip-req-build-tcdpdcua\n",
      "  Running command git clone --filter=blob:none --quiet https://github.com/H2020-OpenModel/OntoFlow/ /tmp/pip-req-build-tcdpdcua\n",
      "  Resolved https://github.com/H2020-OpenModel/OntoFlow/ to commit eb1506ee722dbb0fd118081d710b2c5c83f68475\n",
      "  Installing build dependencies ... \u001b[?25ldone\n",
      "\u001b[?25h  Getting requirements to build wheel ... \u001b[?25ldone\n",
      "\u001b[?25h  Installing backend dependencies ... \u001b[?25ldone\n",
      "\u001b[?25h  Preparing metadata (pyproject.toml) ... \u001b[?25ldone\n",
      "\u001b[?25hCollecting pybacktrip@ git+https://github.com/EMMC-ASBL/PyBackTrip@v2.0.0 (from ontoflow==2.0.0)\n",
      "  Cloning https://github.com/EMMC-ASBL/PyBackTrip (to revision v2.0.0) to /tmp/pip-install-4g5jogfi/pybacktrip_79d8b74a32724e0ebc204ce894ebf46f\n",
      "  Running command git clone --filter=blob:none --quiet https://github.com/EMMC-ASBL/PyBackTrip /tmp/pip-install-4g5jogfi/pybacktrip_79d8b74a32724e0ebc204ce894ebf46f\n",
      "  Resolved https://github.com/EMMC-ASBL/PyBackTrip to commit 3fe6f55d36536a5c6e158c705d7106e3038397b9\n",
      "  Installing build dependencies ... \u001b[?25ldone\n",
      "\u001b[?25h  Getting requirements to build wheel ... \u001b[?25ldone\n",
      "\u001b[?25h  Installing backend dependencies ... \u001b[?25ldone\n",
      "\u001b[?25h  Preparing metadata (pyproject.toml) ... \u001b[?25ldone\n",
      "\u001b[?25hCollecting sim-cmcl-mods-wrapper@ git+https://github.com/EMMC-ASBL/MoDSInterface (from ontoflow==2.0.0)\n",
      "  Cloning https://github.com/EMMC-ASBL/MoDSInterface to /tmp/pip-install-4g5jogfi/sim-cmcl-mods-wrapper_0776c4db7f35417f826d8eade4e4d0c8\n",
      "  Running command git clone --filter=blob:none --quiet https://github.com/EMMC-ASBL/MoDSInterface /tmp/pip-install-4g5jogfi/sim-cmcl-mods-wrapper_0776c4db7f35417f826d8eade4e4d0c8\n",
      "  Resolved https://github.com/EMMC-ASBL/MoDSInterface to commit a0c2385325a8fa08aa818fc051c70d7ba5e659ac\n",
      "  Preparing metadata (setup.py) ... \u001b[?25ldone\n",
      "\u001b[?25hRequirement already satisfied: pyyaml in /opt/conda/lib/python3.9/site-packages (from ontoflow==2.0.0) (6.0.1)\n",
      "Requirement already satisfied: python-dotenv in /home/jovyan/.local/lib/python3.9/site-packages (from ontoflow==2.0.0) (0.21.0)\n",
      "Requirement already satisfied: rdflib in /home/jovyan/.local/lib/python3.9/site-packages (from ontoflow==2.0.0) (6.3.2)\n",
      "Requirement already satisfied: pydot in /home/jovyan/.local/lib/python3.9/site-packages (from ontoflow==2.0.0) (2.0.0)\n",
      "Requirement already satisfied: tripper>=0.2.4 in /home/jovyan/.local/lib/python3.9/site-packages (from pybacktrip@ git+https://github.com/EMMC-ASBL/PyBackTrip@v2.0.0->ontoflow==2.0.0) (0.2.16)\n",
      "Requirement already satisfied: SPARQLWrapper>=2.0.0 in /home/jovyan/.local/lib/python3.9/site-packages (from pybacktrip@ git+https://github.com/EMMC-ASBL/PyBackTrip@v2.0.0->ontoflow==2.0.0) (2.0.0)\n",
      "Requirement already satisfied: pystardog>=0.14.0 in /home/jovyan/.local/lib/python3.9/site-packages (from pybacktrip@ git+https://github.com/EMMC-ASBL/PyBackTrip@v2.0.0->ontoflow==2.0.0) (0.17.0)\n",
      "Requirement already satisfied: pyparsing>=3 in /opt/conda/lib/python3.9/site-packages (from pydot->ontoflow==2.0.0) (3.0.9)\n",
      "Requirement already satisfied: isodate<0.7.0,>=0.6.0 in /home/jovyan/.local/lib/python3.9/site-packages (from rdflib->ontoflow==2.0.0) (0.6.1)\n",
      "Requirement already satisfied: osp-core==3.8.0 in /home/jovyan/.local/lib/python3.9/site-packages (from sim-cmcl-mods-wrapper@ git+https://github.com/EMMC-ASBL/MoDSInterface->ontoflow==2.0.0) (3.8.0)\n",
      "Requirement already satisfied: graphviz in /opt/conda/lib/python3.9/site-packages (from osp-core==3.8.0->sim-cmcl-mods-wrapper@ git+https://github.com/EMMC-ASBL/MoDSInterface->ontoflow==2.0.0) (0.20.3)\n",
      "Requirement already satisfied: numpy in /opt/conda/lib/python3.9/site-packages (from osp-core==3.8.0->sim-cmcl-mods-wrapper@ git+https://github.com/EMMC-ASBL/MoDSInterface->ontoflow==2.0.0) (1.26.4)\n",
      "Requirement already satisfied: requests in /home/jovyan/.local/lib/python3.9/site-packages (from osp-core==3.8.0->sim-cmcl-mods-wrapper@ git+https://github.com/EMMC-ASBL/MoDSInterface->ontoflow==2.0.0) (2.32.2)\n",
      "Requirement already satisfied: websockets<11 in /home/jovyan/.local/lib/python3.9/site-packages (from osp-core==3.8.0->sim-cmcl-mods-wrapper@ git+https://github.com/EMMC-ASBL/MoDSInterface->ontoflow==2.0.0) (10.4)\n",
      "Requirement already satisfied: six in /opt/conda/lib/python3.9/site-packages (from isodate<0.7.0,>=0.6.0->rdflib->ontoflow==2.0.0) (1.16.0)\n",
      "Requirement already satisfied: requests-toolbelt>=0.9.1 in /home/jovyan/.local/lib/python3.9/site-packages (from pystardog>=0.14.0->pybacktrip@ git+https://github.com/EMMC-ASBL/PyBackTrip@v2.0.0->ontoflow==2.0.0) (1.0.0)\n",
      "Requirement already satisfied: contextlib2>=0.5.5 in /home/jovyan/.local/lib/python3.9/site-packages (from pystardog>=0.14.0->pybacktrip@ git+https://github.com/EMMC-ASBL/PyBackTrip@v2.0.0->ontoflow==2.0.0) (21.6.0)\n",
      "Requirement already satisfied: pint<0.24,>=0.16.1 in /home/jovyan/.local/lib/python3.9/site-packages (from tripper>=0.2.4->pybacktrip@ git+https://github.com/EMMC-ASBL/PyBackTrip@v2.0.0->ontoflow==2.0.0) (0.23)\n",
      "Requirement already satisfied: typing-extensions in /opt/conda/lib/python3.9/site-packages (from pint<0.24,>=0.16.1->tripper>=0.2.4->pybacktrip@ git+https://github.com/EMMC-ASBL/PyBackTrip@v2.0.0->ontoflow==2.0.0) (4.11.0)\n",
      "Requirement already satisfied: charset-normalizer<4,>=2 in /opt/conda/lib/python3.9/site-packages (from requests->osp-core==3.8.0->sim-cmcl-mods-wrapper@ git+https://github.com/EMMC-ASBL/MoDSInterface->ontoflow==2.0.0) (2.1.1)\n",
      "Requirement already satisfied: idna<4,>=2.5 in /opt/conda/lib/python3.9/site-packages (from requests->osp-core==3.8.0->sim-cmcl-mods-wrapper@ git+https://github.com/EMMC-ASBL/MoDSInterface->ontoflow==2.0.0) (3.4)\n",
      "Requirement already satisfied: urllib3<3,>=1.21.1 in /opt/conda/lib/python3.9/site-packages (from requests->osp-core==3.8.0->sim-cmcl-mods-wrapper@ git+https://github.com/EMMC-ASBL/MoDSInterface->ontoflow==2.0.0) (1.26.11)\n",
      "Requirement already satisfied: certifi>=2017.4.17 in /opt/conda/lib/python3.9/site-packages (from requests->osp-core==3.8.0->sim-cmcl-mods-wrapper@ git+https://github.com/EMMC-ASBL/MoDSInterface->ontoflow==2.0.0) (2024.2.2)\n"
     ]
    }
   ],
   "source": [
    "!pip install git+https://github.com/H2020-OpenModel/OntoFlow/"
   ]
  },
  {
   "cell_type": "markdown",
   "id": "30d774c8-b053-49d4-a036-52b27190fa5c",
   "metadata": {},
   "source": [
    "## lets try it "
   ]
  },
  {
   "cell_type": "code",
   "execution_count": 59,
   "id": "a41a47a3-4ae6-4e25-839c-aa1333eff07b",
   "metadata": {},
   "outputs": [],
   "source": [
    "data = {\n",
    "    \"target\": \"http://webprotege.stanford.edu/Density\",\n",
    "    \"mco\": \"mods\",\n",
    "    \"kpis\": [\n",
    "        {\"name\": \"Accuracy\", \"weight\": 3, \"maximise\": \"True\"},\n",
    "        {\"name\": \"SimulationTime\", \"weight\": 1, \"maximise\": \"False\"},\n",
    "        {\"name\": \"OpenSource\", \"weight\": 5, \"maximise\": \"False\"}\n",
    "    ]\n",
    "}"
   ]
  },
  {
   "cell_type": "code",
   "execution_count": 60,
   "id": "eb835154-de3d-4b2c-a969-ff394b62eae0",
   "metadata": {},
   "outputs": [],
   "source": [
    "ts = Triplestore(backend=\"fuseki\", triplestore_url=\"https://dev.openmodel.app/kdb\", database=\"dataset\")"
   ]
  },
  {
   "cell_type": "code",
   "execution_count": 61,
   "id": "f6126d8a-ff7f-4aea-8377-5964f6a6608a",
   "metadata": {},
   "outputs": [
    {
     "name": "stdout",
     "output_type": "stream",
     "text": [
      "404 Client Error: Not Found for url: https://dev.openmodel.app/kdb/dataset?graph=graph://main\n"
     ]
    }
   ],
   "source": [
    "engine = OntoFlowEngine(triplestore=ts)"
   ]
  },
  {
   "cell_type": "code",
   "execution_count": 62,
   "id": "66ebf23c-0fd5-4c75-acb7-3c6aadc138c7",
   "metadata": {},
   "outputs": [
    {
     "name": "stderr",
     "output_type": "stream",
     "text": [
      "2024-05-29 18:56:13,065 - [INFO]: Getting mapping route for http://webprotege.stanford.edu/Density\n",
      "2024-05-29 18:56:13,066 - [INFO]: Getting KPIs for http://webprotege.stanford.edu/Density\n",
      "2024-05-29 18:56:13,066 - [INFO]: \n",
      "SELECT ?kpa_class ?kpa_value WHERE {\n",
      "                <http://webprotege.stanford.edu/Density> rdfs:subClassOf ?bnode .\n",
      "                ?bnode rdf:type owl:Restriction .\n",
      "                ?bnode owl:onProperty kpa:hasKPA .\n",
      "                ?bnode owl:hasValue ?kpa_ind .\n",
      "                ?kpa_ind rdf:type ?kpa_class .\n",
      "                ?kpa_ind kpa:KPAValue ?kpa_value .\n",
      "                FILTER(STRSTARTS(STR(?kpa_class), \"http://open-model.eu/ontoflow/kpa#\"))\n",
      "            }\n",
      "\n"
     ]
    },
    {
     "name": "stdout",
     "output_type": "stream",
     "text": [
      "404 Client Error: Not Found for url: https://dev.openmodel.app/kdb/dataset?query=PREFIX+owl%3A+%3Chttp%3A%2F%2Fwww.w3.org%2F2002%2F07%2Fowl%23%3E+PREFIX+rdf%3A+%3Chttp%3A%2F%2Fwww.w3.org%2F1999%2F02%2F22-rdf-syntax-ns%23%3E+PREFIX+rdfs%3A+%3Chttp%3A%2F%2Fwww.w3.org%2F2000%2F01%2Frdf-schema%23%3E+PREFIX+schema%3A+%3Chttp%3A%2F%2Fschema.org%2F%3E+PREFIX+%3A+%3CNone%3E+PREFIX+xml%3A+%3Chttp%3A%2F%2Fwww.w3.org%2FXML%2F1998%2Fnamespace%3E+PREFIX+xsd%3A+%3Chttp%3A%2F%2Fwww.w3.org%2F2001%2FXMLSchema%23%3E+PREFIX+kpa%3A+%3Chttp%3A%2F%2Fopen-model.eu%2Fontoflow%2Fkpa%23%3ESELECT+%3Fkpa_class+%3Fkpa_value+FROM+%3Cgraph%3A%2F%2Fmain%3E+WHERE+%7B%0A++++++++++++++++%3Chttp%3A%2F%2Fwebprotege.stanford.edu%2FDensity%3E+rdfs%3AsubClassOf+%3Fbnode+.%0A++++++++++++++++%3Fbnode+rdf%3Atype+owl%3ARestriction+.%0A++++++++++++++++%3Fbnode+owl%3AonProperty+kpa%3AhasKPA+.%0A++++++++++++++++%3Fbnode+owl%3AhasValue+%3Fkpa_ind+.%0A++++++++++++++++%3Fkpa_ind+rdf%3Atype+%3Fkpa_class+.%0A++++++++++++++++%3Fkpa_ind+kpa%3AKPAValue+%3Fkpa_value+.%0A++++++++++++++++FILTER%28STRSTARTS%28STR%28%3Fkpa_class%29%2C+%22http%3A%2F%2Fopen-model.eu%2Fontoflow%2Fkpa%23%22%29%29%0A++++++++++++%7D\n"
     ]
    },
    {
     "ename": "KeyError",
     "evalue": "'head'",
     "output_type": "error",
     "traceback": [
      "\u001b[0;31m---------------------------------------------------------------------------\u001b[0m",
      "\u001b[0;31mKeyError\u001b[0m                                  Traceback (most recent call last)",
      "Cell \u001b[0;32mIn [62], line 1\u001b[0m\n\u001b[0;32m----> 1\u001b[0m bestRoute \u001b[38;5;241m=\u001b[39m \u001b[43mengine\u001b[49m\u001b[38;5;241;43m.\u001b[39;49m\u001b[43mgetBestRoute\u001b[49m\u001b[43m(\u001b[49m\u001b[43mdata\u001b[49m\u001b[43m[\u001b[49m\u001b[38;5;124;43m'\u001b[39;49m\u001b[38;5;124;43mtarget\u001b[39;49m\u001b[38;5;124;43m'\u001b[39;49m\u001b[43m]\u001b[49m\u001b[43m,\u001b[49m\u001b[43m \u001b[49m\u001b[43mdata\u001b[49m\u001b[43m[\u001b[49m\u001b[38;5;124;43m'\u001b[39;49m\u001b[38;5;124;43mkpis\u001b[39;49m\u001b[38;5;124;43m'\u001b[39;49m\u001b[43m]\u001b[49m\u001b[43m,\u001b[49m\u001b[43m \u001b[49m\u001b[43mdata\u001b[49m\u001b[43m[\u001b[49m\u001b[38;5;124;43m'\u001b[39;49m\u001b[38;5;124;43mmco\u001b[39;49m\u001b[38;5;124;43m'\u001b[39;49m\u001b[43m]\u001b[49m\u001b[43m)\u001b[49m\n",
      "File \u001b[0;32m~/.local/lib/python3.9/site-packages/ontoflow/engine.py:88\u001b[0m, in \u001b[0;36mOntoFlowEngine.getBestRoute\u001b[0;34m(self, target, kpis, mco, foldername)\u001b[0m\n\u001b[1;32m     85\u001b[0m \u001b[38;5;28mself\u001b[39m\u001b[38;5;241m.\u001b[39mkpis\u001b[38;5;241m.\u001b[39mextend([kpi[\u001b[38;5;124m\"\u001b[39m\u001b[38;5;124mname\u001b[39m\u001b[38;5;124m\"\u001b[39m] \u001b[38;5;28;01mfor\u001b[39;00m kpi \u001b[38;5;129;01min\u001b[39;00m kpis])\n\u001b[1;32m     87\u001b[0m \u001b[38;5;66;03m# Build the tree and get the routes\u001b[39;00m\n\u001b[0;32m---> 88\u001b[0m root \u001b[38;5;241m=\u001b[39m Node(\u001b[38;5;241m0\u001b[39m, target, \u001b[38;5;124m\"\u001b[39m\u001b[38;5;124m\"\u001b[39m, kpis\u001b[38;5;241m=\u001b[39m\u001b[38;5;28;43mself\u001b[39;49m\u001b[38;5;241;43m.\u001b[39;49m\u001b[43m_getKpis\u001b[49m\u001b[43m(\u001b[49m\u001b[43mtarget\u001b[49m\u001b[43m)\u001b[49m)\n\u001b[1;32m     89\u001b[0m \u001b[38;5;28mself\u001b[39m\u001b[38;5;241m.\u001b[39m_exploreNode(root)\n\u001b[1;32m     90\u001b[0m root\u001b[38;5;241m.\u001b[39mgenerateRoutes()\n",
      "File \u001b[0;32m~/.local/lib/python3.9/site-packages/ontoflow/engine.py:273\u001b[0m, in \u001b[0;36mOntoFlowEngine._getKpis\u001b[0;34m(self, iri)\u001b[0m\n\u001b[1;32m    271\u001b[0m \u001b[38;5;66;03m# COMMENT: We get all the KPIs of the node and then filter. We could retrieve only the ones we need.\u001b[39;00m\n\u001b[1;32m    272\u001b[0m _kpis \u001b[38;5;241m=\u001b[39m {}\n\u001b[0;32m--> 273\u001b[0m nodeKpis \u001b[38;5;241m=\u001b[39m \u001b[38;5;28;43mself\u001b[39;49m\u001b[38;5;241;43m.\u001b[39;49m\u001b[43m_getNodeKpis\u001b[49m\u001b[43m(\u001b[49m\u001b[43miri\u001b[49m\u001b[43m)\u001b[49m\n\u001b[1;32m    274\u001b[0m logger\u001b[38;5;241m.\u001b[39minfo(\u001b[38;5;124m\"\u001b[39m\u001b[38;5;124mNode KPIs: \u001b[39m\u001b[38;5;132;01m{}\u001b[39;00m\u001b[38;5;124m\"\u001b[39m\u001b[38;5;241m.\u001b[39mformat(nodeKpis))\n\u001b[1;32m    276\u001b[0m \u001b[38;5;28;01mfor\u001b[39;00m kpi \u001b[38;5;129;01min\u001b[39;00m \u001b[38;5;28mself\u001b[39m\u001b[38;5;241m.\u001b[39mkpis:\n",
      "File \u001b[0;32m~/.local/lib/python3.9/site-packages/ontoflow/engine.py:322\u001b[0m, in \u001b[0;36mOntoFlowEngine._getNodeKpis\u001b[0;34m(self, iri)\u001b[0m\n\u001b[1;32m    311\u001b[0m internalPatters \u001b[38;5;241m=\u001b[39m [\n\u001b[1;32m    312\u001b[0m     \u001b[38;5;124;03m\"\"\"SELECT ?base_kpa_class ?converter_fun ?kpa_class WHERE {{\u001b[39;00m\n\u001b[1;32m    313\u001b[0m \u001b[38;5;124;03m        ?kpa_class rdfs:subClassOf+ ?base_kpa_class .\u001b[39;00m\n\u001b[0;32m   (...)\u001b[0m\n\u001b[1;32m    318\u001b[0m \u001b[38;5;124;03m    }}\"\"\"\u001b[39;00m,\n\u001b[1;32m    319\u001b[0m ]\n\u001b[1;32m    321\u001b[0m nodeKpis \u001b[38;5;241m=\u001b[39m {}\n\u001b[0;32m--> 322\u001b[0m triplesKpis \u001b[38;5;241m=\u001b[39m \u001b[38;5;28;43mself\u001b[39;49m\u001b[38;5;241;43m.\u001b[39;49m\u001b[43m_query\u001b[49m\u001b[43m(\u001b[49m\u001b[43mpatterns\u001b[49m\u001b[43m,\u001b[49m\u001b[43m \u001b[49m\u001b[43miri\u001b[49m\u001b[43m)\u001b[49m\n\u001b[1;32m    323\u001b[0m kpaClassesFound \u001b[38;5;241m=\u001b[39m [\u001b[38;5;124m\"\u001b[39m\u001b[38;5;124m<\u001b[39m\u001b[38;5;132;01m{}\u001b[39;00m\u001b[38;5;124m>\u001b[39m\u001b[38;5;124m\"\u001b[39m\u001b[38;5;241m.\u001b[39mformat(kpi[\u001b[38;5;241m0\u001b[39m]) \u001b[38;5;28;01mfor\u001b[39;00m kpi \u001b[38;5;129;01min\u001b[39;00m triplesKpis]\n\u001b[1;32m    324\u001b[0m kpaValues \u001b[38;5;241m=\u001b[39m {kpi[\u001b[38;5;241m0\u001b[39m]: kpi[\u001b[38;5;241m1\u001b[39m] \u001b[38;5;28;01mfor\u001b[39;00m kpi \u001b[38;5;129;01min\u001b[39;00m triplesKpis}\n",
      "File \u001b[0;32m~/.local/lib/python3.9/site-packages/ontoflow/engine.py:361\u001b[0m, in \u001b[0;36mOntoFlowEngine._query\u001b[0;34m(self, patterns, iri)\u001b[0m\n\u001b[1;32m    357\u001b[0m     q \u001b[38;5;241m=\u001b[39m pattern\u001b[38;5;241m.\u001b[39mformat(\n\u001b[1;32m    358\u001b[0m         iri\u001b[38;5;241m=\u001b[39miriForm, kpa_ns\u001b[38;5;241m=\u001b[39m\u001b[38;5;28mstr\u001b[39m(\u001b[38;5;28mself\u001b[39m\u001b[38;5;241m.\u001b[39m__kpaTriplestore\u001b[38;5;241m.\u001b[39mnamespaces[\u001b[38;5;124m\"\u001b[39m\u001b[38;5;124mkpa\u001b[39m\u001b[38;5;124m\"\u001b[39m])\n\u001b[1;32m    359\u001b[0m     )\n\u001b[1;32m    360\u001b[0m     logger\u001b[38;5;241m.\u001b[39minfo(\u001b[38;5;124m\"\u001b[39m\u001b[38;5;130;01m\\n\u001b[39;00m\u001b[38;5;132;01m{}\u001b[39;00m\u001b[38;5;130;01m\\n\u001b[39;00m\u001b[38;5;124m\"\u001b[39m\u001b[38;5;241m.\u001b[39mformat(q))\n\u001b[0;32m--> 361\u001b[0m     results \u001b[38;5;241m+\u001b[39m\u001b[38;5;241m=\u001b[39m \u001b[38;5;28;43mself\u001b[39;49m\u001b[38;5;241;43m.\u001b[39;49m\u001b[43mtriplestore\u001b[49m\u001b[38;5;241;43m.\u001b[39;49m\u001b[43mquery\u001b[49m\u001b[43m(\u001b[49m\u001b[43mq\u001b[49m\u001b[43m)\u001b[49m\n\u001b[1;32m    363\u001b[0m logger\u001b[38;5;241m.\u001b[39minfo(results)\n\u001b[1;32m    364\u001b[0m \u001b[38;5;28;01mreturn\u001b[39;00m results\n",
      "File \u001b[0;32m~/.local/lib/python3.9/site-packages/tripper/triplestore.py:405\u001b[0m, in \u001b[0;36mTriplestore.query\u001b[0;34m(self, query_object, **kwargs)\u001b[0m\n\u001b[1;32m    390\u001b[0m \u001b[38;5;124;03m\"\"\"SPARQL query.\u001b[39;00m\n\u001b[1;32m    391\u001b[0m \n\u001b[1;32m    392\u001b[0m \u001b[38;5;124;03mParameters:\u001b[39;00m\n\u001b[0;32m   (...)\u001b[0m\n\u001b[1;32m    402\u001b[0m \n\u001b[1;32m    403\u001b[0m \u001b[38;5;124;03m\"\"\"\u001b[39;00m\n\u001b[1;32m    404\u001b[0m \u001b[38;5;28mself\u001b[39m\u001b[38;5;241m.\u001b[39m_check_method(\u001b[38;5;124m\"\u001b[39m\u001b[38;5;124mquery\u001b[39m\u001b[38;5;124m\"\u001b[39m)\n\u001b[0;32m--> 405\u001b[0m \u001b[38;5;28;01mreturn\u001b[39;00m \u001b[38;5;28;43mself\u001b[39;49m\u001b[38;5;241;43m.\u001b[39;49m\u001b[43mbackend\u001b[49m\u001b[38;5;241;43m.\u001b[39;49m\u001b[43mquery\u001b[49m\u001b[43m(\u001b[49m\u001b[43mquery_object\u001b[49m\u001b[38;5;241;43m=\u001b[39;49m\u001b[43mquery_object\u001b[49m\u001b[43m,\u001b[49m\u001b[43m \u001b[49m\u001b[38;5;241;43m*\u001b[39;49m\u001b[38;5;241;43m*\u001b[39;49m\u001b[43mkwargs\u001b[49m\u001b[43m)\u001b[49m\n",
      "File \u001b[0;32m~/.local/lib/python3.9/site-packages/pybacktrip/backends/fuseki.py:246\u001b[0m, in \u001b[0;36mFusekiStrategy.query\u001b[0;34m(self, query_object, **kwargs)\u001b[0m\n\u001b[1;32m    240\u001b[0m queryStr \u001b[38;5;241m=\u001b[39m (\n\u001b[1;32m    241\u001b[0m     \u001b[38;5;124mf\u001b[39m\u001b[38;5;124m\"\u001b[39m\u001b[38;5;132;01m{\u001b[39;00mquery_object[:iw]\u001b[38;5;132;01m}\u001b[39;00m\u001b[38;5;124mFROM <\u001b[39m\u001b[38;5;132;01m{\u001b[39;00m\u001b[38;5;28mself\u001b[39m\u001b[38;5;241m.\u001b[39m__GRAPH\u001b[38;5;132;01m}\u001b[39;00m\u001b[38;5;124m> \u001b[39m\u001b[38;5;132;01m{\u001b[39;00mquery_object[iw:]\u001b[38;5;132;01m}\u001b[39;00m\u001b[38;5;124m\"\u001b[39m\u001b[38;5;241m.\u001b[39mstrip()\n\u001b[1;32m    242\u001b[0m )\n\u001b[1;32m    244\u001b[0m res \u001b[38;5;241m=\u001b[39m \u001b[38;5;28mself\u001b[39m\u001b[38;5;241m.\u001b[39m__request(\u001b[38;5;124m\"\u001b[39m\u001b[38;5;124mGET\u001b[39m\u001b[38;5;124m\"\u001b[39m, queryStr)\n\u001b[0;32m--> 246\u001b[0m queryVars \u001b[38;5;241m=\u001b[39m \u001b[43mres\u001b[49m\u001b[43m[\u001b[49m\u001b[38;5;124;43m\"\u001b[39;49m\u001b[38;5;124;43mhead\u001b[39;49m\u001b[38;5;124;43m\"\u001b[39;49m\u001b[43m]\u001b[49m[\u001b[38;5;124m\"\u001b[39m\u001b[38;5;124mvars\u001b[39m\u001b[38;5;124m\"\u001b[39m]\n\u001b[1;32m    247\u001b[0m queryBindings \u001b[38;5;241m=\u001b[39m res[\u001b[38;5;124m\"\u001b[39m\u001b[38;5;124mresults\u001b[39m\u001b[38;5;124m\"\u001b[39m][\u001b[38;5;124m\"\u001b[39m\u001b[38;5;124mbindings\u001b[39m\u001b[38;5;124m\"\u001b[39m]\n\u001b[1;32m    249\u001b[0m triplesRes \u001b[38;5;241m=\u001b[39m []\n",
      "\u001b[0;31mKeyError\u001b[0m: 'head'"
     ]
    }
   ],
   "source": [
    "bestRoute = engine.getBestRoute(data['target'], data['kpis'], data['mco'])\n"
   ]
  },
  {
   "cell_type": "code",
   "execution_count": 7,
   "id": "f3a32704-d470-4049-8906-46a66cee31ab",
   "metadata": {},
   "outputs": [],
   "source": [
    "import requests \n",
    "url = \"https://raw.githubusercontent.com/H2020-OpenModel/OntoFlow/v2.0.0/examples/openmodel_example/openmodel_example.ttl\"\n",
    "response = requests.get(url)\n",
    "# Ensure the request was successful\n",
    "if response.status_code == 200:\n",
    "    ontology = response.text\n",
    "else:\n",
    "    print(f\"Failed to fetch data from URL. Status code: {response.status_code}\")\n",
    "    exit(1)"
   ]
  },
  {
   "cell_type": "code",
   "execution_count": 8,
   "id": "36d9484a-1b47-4149-b5a7-413a205268f2",
   "metadata": {},
   "outputs": [],
   "source": [
    "data = {\n",
    "    \"target\": \"http://webprotege.stanford.edu/Density\",\n",
    "    \"mco\": \"mods\",\n",
    "    \"kpis\": [\n",
    "        {\"name\": \"Accuracy\", \"weight\": 3, \"maximise\": \"True\"},\n",
    "        {\"name\": \"SimulationTime\", \"weight\": 1, \"maximise\": \"False\"},\n",
    "        {\"name\": \"OpenSource\", \"weight\": 5, \"maximise\": \"False\"}\n",
    "    ]\n",
    "}"
   ]
  },
  {
   "cell_type": "code",
   "execution_count": 9,
   "id": "e22f7c3c-e17e-49f3-b2d7-c5825bc595e3",
   "metadata": {},
   "outputs": [],
   "source": [
    "__triplestore_url = \"http://fuseki:3030\"\n",
    "ts = Triplestore(\n",
    "        backend=\"fuseki\", triplestore_url=__triplestore_url, database=\"dataset\"\n",
    "    )"
   ]
  },
  {
   "cell_type": "code",
   "execution_count": 10,
   "id": "955d5466-f578-4435-bd83-5b3d30b4c94c",
   "metadata": {},
   "outputs": [],
   "source": [
    "ts.parse(data=ontology, format=\"turtle\")"
   ]
  },
  {
   "cell_type": "code",
   "execution_count": 11,
   "id": "0a61ec78-621f-49f1-a21b-5f3ba9b7c446",
   "metadata": {},
   "outputs": [
    {
     "data": {
      "text/plain": [
       "Namespace('http://emmo.info/emmo#')"
      ]
     },
     "execution_count": 11,
     "metadata": {},
     "output_type": "execute_result"
    }
   ],
   "source": [
    "ts.bind(\"emmo\", \"http://emmo.info/emmo#\")"
   ]
  },
  {
   "cell_type": "code",
   "execution_count": null,
   "id": "3e7d5146-03b3-4b6c-a8bb-0581534dfc8e",
   "metadata": {},
   "outputs": [
    {
     "name": "stderr",
     "output_type": "stream",
     "text": [
      "2024-05-29 19:01:40,109 - [INFO]: Getting mapping route for http://webprotege.stanford.edu/Density\n",
      "2024-05-29 19:01:40,110 - [INFO]: Getting KPIs for http://webprotege.stanford.edu/Density\n",
      "2024-05-29 19:01:40,110 - [INFO]: \n",
      "SELECT ?kpa_class ?kpa_value WHERE {\n",
      "                <http://webprotege.stanford.edu/Density> rdfs:subClassOf ?bnode .\n",
      "                ?bnode rdf:type owl:Restriction .\n",
      "                ?bnode owl:onProperty kpa:hasKPA .\n",
      "                ?bnode owl:hasValue ?kpa_ind .\n",
      "                ?kpa_ind rdf:type ?kpa_class .\n",
      "                ?kpa_ind kpa:KPAValue ?kpa_value .\n",
      "                FILTER(STRSTARTS(STR(?kpa_class), \"http://open-model.eu/ontoflow/kpa#\"))\n",
      "            }\n",
      "\n",
      "2024-05-29 19:01:40,162 - [INFO]: \n",
      "SELECT ?kpa_class ?kpa_value ?kpa_ind WHERE {\n",
      "                <http://webprotege.stanford.edu/Density> kpa:hasKPA ?kpa_ind .\n",
      "                ?kpa_ind rdf:type ?kpa_class .\n",
      "                ?kpa_ind kpa:KPAValue ?kpa_value .\n",
      "                FILTER(STRSTARTS(STR(?kpa_class), \"http://open-model.eu/ontoflow/kpa#\"))\n",
      "            }\n",
      "\n",
      "2024-05-29 19:01:40,199 - [INFO]: []\n",
      "2024-05-29 19:01:40,200 - [INFO]: Node KPIs: {}\n",
      "2024-05-29 19:01:40,200 - [INFO]: \n",
      "SELECT ?sub ?rel ?obj WHERE {\n",
      "                ?sub rdf:type <http://webprotege.stanford.edu/Density> .\n",
      "                BIND(rdf:type AS ?rel) .\n",
      "                BIND(<http://webprotege.stanford.edu/Density> AS ?obj) .\n",
      "            }\n",
      "\n",
      "2024-05-29 19:01:40,239 - [INFO]: []\n",
      "2024-05-29 19:01:40,240 - [INFO]: \n",
      "SELECT ?sub ?rel ?obj WHERE {\n",
      "                ?sub rdf:type owl:Class ;\n",
      "                        rdfs:subClassOf ?restriction .\n",
      "                ?restriction rdf:type owl:Restriction ;\n",
      "                            owl:onProperty emmo:EMMO_c4bace1d_4db0_4cd3_87e9_18122bae2840 ;\n",
      "                            ?p <http://webprotege.stanford.edu/Density> .\n",
      "                FILTER (?p IN (owl:onClass, owl:someValuesFrom))\n",
      "                BIND(emmo:EMMO_c4bace1d_4db0_4cd3_87e9_18122bae2840 AS ?rel) .\n",
      "                BIND(<http://webprotege.stanford.edu/Density> AS ?obj) .\n",
      "            }\n",
      "\n",
      "2024-05-29 19:01:40,278 - [INFO]: []\n",
      "2024-05-29 19:01:40,279 - [INFO]: Outputs models of http://webprotege.stanford.edu/Density: []\n",
      "2024-05-29 19:01:40,280 - [INFO]: \n",
      "SELECT ?sub ?rel ?obj WHERE {\n",
      "                ?sub rdf:type owl:Class ;\n",
      "                        rdfs:subClassOf <http://webprotege.stanford.edu/Density> .\n",
      "                BIND(rdfs:subClassOf AS ?rel) .\n",
      "                BIND(<http://webprotege.stanford.edu/Density> as ?obj) .\n",
      "            }\n",
      "\n",
      "2024-05-29 19:01:40,315 - [INFO]: [('http://webprotege.stanford.edu/FluidDensity', 'http://www.w3.org/2000/01/rdf-schema#subClassOf', 'http://webprotege.stanford.edu/Density')]\n",
      "2024-05-29 19:01:40,316 - [INFO]: Subclasses of http://webprotege.stanford.edu/Density: [('http://webprotege.stanford.edu/FluidDensity', 'http://www.w3.org/2000/01/rdf-schema#subClassOf', 'http://webprotege.stanford.edu/Density')]\n",
      "2024-05-29 19:01:40,316 - [INFO]: Getting KPIs for http://webprotege.stanford.edu/FluidDensity\n",
      "2024-05-29 19:01:40,317 - [INFO]: \n",
      "SELECT ?kpa_class ?kpa_value WHERE {\n",
      "                <http://webprotege.stanford.edu/FluidDensity> rdfs:subClassOf ?bnode .\n",
      "                ?bnode rdf:type owl:Restriction .\n",
      "                ?bnode owl:onProperty kpa:hasKPA .\n",
      "                ?bnode owl:hasValue ?kpa_ind .\n",
      "                ?kpa_ind rdf:type ?kpa_class .\n",
      "                ?kpa_ind kpa:KPAValue ?kpa_value .\n",
      "                FILTER(STRSTARTS(STR(?kpa_class), \"http://open-model.eu/ontoflow/kpa#\"))\n",
      "            }\n",
      "\n",
      "2024-05-29 19:01:40,357 - [INFO]: \n",
      "SELECT ?kpa_class ?kpa_value ?kpa_ind WHERE {\n",
      "                <http://webprotege.stanford.edu/FluidDensity> kpa:hasKPA ?kpa_ind .\n",
      "                ?kpa_ind rdf:type ?kpa_class .\n",
      "                ?kpa_ind kpa:KPAValue ?kpa_value .\n",
      "                FILTER(STRSTARTS(STR(?kpa_class), \"http://open-model.eu/ontoflow/kpa#\"))\n",
      "            }\n",
      "\n",
      "2024-05-29 19:01:40,394 - [INFO]: []\n",
      "2024-05-29 19:01:40,395 - [INFO]: Node KPIs: {}\n",
      "2024-05-29 19:01:40,396 - [INFO]: \n",
      "SELECT ?sub ?rel ?obj WHERE {\n",
      "                ?sub rdf:type <http://webprotege.stanford.edu/FluidDensity> .\n",
      "                BIND(rdf:type AS ?rel) .\n",
      "                BIND(<http://webprotege.stanford.edu/FluidDensity> AS ?obj) .\n",
      "            }\n",
      "\n",
      "2024-05-29 19:01:40,429 - [INFO]: []\n",
      "2024-05-29 19:01:40,430 - [INFO]: \n",
      "SELECT ?sub ?rel ?obj WHERE {\n",
      "                ?sub rdf:type owl:Class ;\n",
      "                        rdfs:subClassOf ?restriction .\n",
      "                ?restriction rdf:type owl:Restriction ;\n",
      "                            owl:onProperty emmo:EMMO_c4bace1d_4db0_4cd3_87e9_18122bae2840 ;\n",
      "                            ?p <http://webprotege.stanford.edu/FluidDensity> .\n",
      "                FILTER (?p IN (owl:onClass, owl:someValuesFrom))\n",
      "                BIND(emmo:EMMO_c4bace1d_4db0_4cd3_87e9_18122bae2840 AS ?rel) .\n",
      "                BIND(<http://webprotege.stanford.edu/FluidDensity> AS ?obj) .\n",
      "            }\n",
      "\n",
      "2024-05-29 19:01:40,473 - [INFO]: [('http://webprotege.stanford.edu/LAMMPS2Density', 'http://emmo.info/emmo#EMMO_c4bace1d_4db0_4cd3_87e9_18122bae2840', 'http://webprotege.stanford.edu/FluidDensity'), ('http://webprotege.stanford.edu/LAMMPS2Density', 'http://emmo.info/emmo#EMMO_c4bace1d_4db0_4cd3_87e9_18122bae2840', 'http://webprotege.stanford.edu/FluidDensity'), ('http://webprotege.stanford.edu/LAMMPS2Density', 'http://emmo.info/emmo#EMMO_c4bace1d_4db0_4cd3_87e9_18122bae2840', 'http://webprotege.stanford.edu/FluidDensity'), ('http://webprotege.stanford.edu/LAMMPS2Density', 'http://emmo.info/emmo#EMMO_c4bace1d_4db0_4cd3_87e9_18122bae2840', 'http://webprotege.stanford.edu/FluidDensity'), ('http://webprotege.stanford.edu/LAMMPS2Density', 'http://emmo.info/emmo#EMMO_c4bace1d_4db0_4cd3_87e9_18122bae2840', 'http://webprotege.stanford.edu/FluidDensity'), ('http://webprotege.stanford.edu/LAMMPS2Density', 'http://emmo.info/emmo#EMMO_c4bace1d_4db0_4cd3_87e9_18122bae2840', 'http://webprotege.stanford.edu/FluidDensity')]\n",
      "2024-05-29 19:01:40,474 - [INFO]: Outputs models of http://webprotege.stanford.edu/FluidDensity: [('http://webprotege.stanford.edu/LAMMPS2Density', 'http://emmo.info/emmo#EMMO_c4bace1d_4db0_4cd3_87e9_18122bae2840', 'http://webprotege.stanford.edu/FluidDensity'), ('http://webprotege.stanford.edu/LAMMPS2Density', 'http://emmo.info/emmo#EMMO_c4bace1d_4db0_4cd3_87e9_18122bae2840', 'http://webprotege.stanford.edu/FluidDensity'), ('http://webprotege.stanford.edu/LAMMPS2Density', 'http://emmo.info/emmo#EMMO_c4bace1d_4db0_4cd3_87e9_18122bae2840', 'http://webprotege.stanford.edu/FluidDensity'), ('http://webprotege.stanford.edu/LAMMPS2Density', 'http://emmo.info/emmo#EMMO_c4bace1d_4db0_4cd3_87e9_18122bae2840', 'http://webprotege.stanford.edu/FluidDensity'), ('http://webprotege.stanford.edu/LAMMPS2Density', 'http://emmo.info/emmo#EMMO_c4bace1d_4db0_4cd3_87e9_18122bae2840', 'http://webprotege.stanford.edu/FluidDensity'), ('http://webprotege.stanford.edu/LAMMPS2Density', 'http://emmo.info/emmo#EMMO_c4bace1d_4db0_4cd3_87e9_18122bae2840', 'http://webprotege.stanford.edu/FluidDensity')]\n",
      "2024-05-29 19:01:40,475 - [INFO]: Getting KPIs for http://webprotege.stanford.edu/LAMMPS2Density\n",
      "2024-05-29 19:01:40,475 - [INFO]: \n",
      "SELECT ?kpa_class ?kpa_value WHERE {\n",
      "                <http://webprotege.stanford.edu/LAMMPS2Density> rdfs:subClassOf ?bnode .\n",
      "                ?bnode rdf:type owl:Restriction .\n",
      "                ?bnode owl:onProperty kpa:hasKPA .\n",
      "                ?bnode owl:hasValue ?kpa_ind .\n",
      "                ?kpa_ind rdf:type ?kpa_class .\n",
      "                ?kpa_ind kpa:KPAValue ?kpa_value .\n",
      "                FILTER(STRSTARTS(STR(?kpa_class), \"http://open-model.eu/ontoflow/kpa#\"))\n",
      "            }\n",
      "\n",
      "/home/jovyan/.local/lib/python3.9/site-packages/tripper/literal.py:169: UserWarning: unknown datatype: http://www.w3.org/2001/XMLSchema#positiveInteger - assuming xsd:string\n",
      "  warnings.warn(\n",
      "2024-05-29 19:01:40,516 - [INFO]: \n",
      "SELECT ?kpa_class ?kpa_value ?kpa_ind WHERE {\n",
      "                <http://webprotege.stanford.edu/LAMMPS2Density> kpa:hasKPA ?kpa_ind .\n",
      "                ?kpa_ind rdf:type ?kpa_class .\n",
      "                ?kpa_ind kpa:KPAValue ?kpa_value .\n",
      "                FILTER(STRSTARTS(STR(?kpa_class), \"http://open-model.eu/ontoflow/kpa#\"))\n",
      "            }\n",
      "\n",
      "2024-05-29 19:01:40,551 - [INFO]: [('http://open-model.eu/ontoflow/kpa#NumericalSimulationTime', Literal('900', datatype='http://www.w3.org/2001/XMLSchema#positiveInteger')), ('http://open-model.eu/ontoflow/kpa#NumericalSimulationTime', Literal('900', datatype='http://www.w3.org/2001/XMLSchema#positiveInteger')), ('http://open-model.eu/ontoflow/kpa#NumericalSimulationTime', Literal('900', datatype='http://www.w3.org/2001/XMLSchema#positiveInteger')), ('http://open-model.eu/ontoflow/kpa#NumericalSimulationTime', Literal('900', datatype='http://www.w3.org/2001/XMLSchema#positiveInteger')), ('http://open-model.eu/ontoflow/kpa#NumericalSimulationTime', Literal('900', datatype='http://www.w3.org/2001/XMLSchema#positiveInteger')), ('http://open-model.eu/ontoflow/kpa#NumericalSimulationTime', Literal('900', datatype='http://www.w3.org/2001/XMLSchema#positiveInteger'))]\n",
      "2024-05-29 19:01:40,714 - [INFO]: Node KPIs: {'SimulationTime': {'value': 900.0}}\n",
      "2024-05-29 19:01:40,715 - [INFO]: \n",
      "SELECT ?sub ?rel ?obj WHERE {\n",
      "                <http://webprotege.stanford.edu/LAMMPS2Density> rdf:type owl:Class ;\n",
      "                    rdfs:subClassOf ?restriction .\n",
      "                ?restriction rdf:type owl:Restriction ;\n",
      "                            owl:onProperty emmo:EMMO_36e69413_8c59_4799_946c_10b05d266e22 ;\n",
      "                            ?p ?sub .\n",
      "                FILTER (?p IN (owl:onClass, owl:someValuesFrom))\n",
      "                BIND(emmo:EMMO_36e69413_8c59_4799_946c_10b05d266e22 AS ?rel) .\n",
      "                BIND(<http://webprotege.stanford.edu/LAMMPS2Density> AS ?obj) .\n",
      "            }\n",
      "\n",
      "2024-05-29 19:01:40,745 - [INFO]: [('http://webprotege.stanford.edu/LAMMPSLog', 'http://emmo.info/emmo#EMMO_36e69413_8c59_4799_946c_10b05d266e22', 'http://webprotege.stanford.edu/LAMMPS2Density'), ('http://webprotege.stanford.edu/LAMMPSLog', 'http://emmo.info/emmo#EMMO_36e69413_8c59_4799_946c_10b05d266e22', 'http://webprotege.stanford.edu/LAMMPS2Density'), ('http://webprotege.stanford.edu/LAMMPSLog', 'http://emmo.info/emmo#EMMO_36e69413_8c59_4799_946c_10b05d266e22', 'http://webprotege.stanford.edu/LAMMPS2Density'), ('http://webprotege.stanford.edu/LAMMPSLog', 'http://emmo.info/emmo#EMMO_36e69413_8c59_4799_946c_10b05d266e22', 'http://webprotege.stanford.edu/LAMMPS2Density'), ('http://webprotege.stanford.edu/LAMMPSLog', 'http://emmo.info/emmo#EMMO_36e69413_8c59_4799_946c_10b05d266e22', 'http://webprotege.stanford.edu/LAMMPS2Density'), ('http://webprotege.stanford.edu/LAMMPSLog', 'http://emmo.info/emmo#EMMO_36e69413_8c59_4799_946c_10b05d266e22', 'http://webprotege.stanford.edu/LAMMPS2Density')]\n",
      "2024-05-29 19:01:40,746 - [INFO]: Getting KPIs for http://webprotege.stanford.edu/LAMMPSLog\n",
      "2024-05-29 19:01:40,746 - [INFO]: \n",
      "SELECT ?kpa_class ?kpa_value WHERE {\n",
      "                <http://webprotege.stanford.edu/LAMMPSLog> rdfs:subClassOf ?bnode .\n",
      "                ?bnode rdf:type owl:Restriction .\n",
      "                ?bnode owl:onProperty kpa:hasKPA .\n",
      "                ?bnode owl:hasValue ?kpa_ind .\n",
      "                ?kpa_ind rdf:type ?kpa_class .\n",
      "                ?kpa_ind kpa:KPAValue ?kpa_value .\n",
      "                FILTER(STRSTARTS(STR(?kpa_class), \"http://open-model.eu/ontoflow/kpa#\"))\n",
      "            }\n",
      "\n",
      "2024-05-29 19:01:40,779 - [INFO]: \n",
      "SELECT ?kpa_class ?kpa_value ?kpa_ind WHERE {\n",
      "                <http://webprotege.stanford.edu/LAMMPSLog> kpa:hasKPA ?kpa_ind .\n",
      "                ?kpa_ind rdf:type ?kpa_class .\n",
      "                ?kpa_ind kpa:KPAValue ?kpa_value .\n",
      "                FILTER(STRSTARTS(STR(?kpa_class), \"http://open-model.eu/ontoflow/kpa#\"))\n",
      "            }\n",
      "\n",
      "2024-05-29 19:01:40,822 - [INFO]: []\n",
      "2024-05-29 19:01:40,823 - [INFO]: Node KPIs: {}\n",
      "2024-05-29 19:01:40,824 - [INFO]: \n",
      "SELECT ?sub ?rel ?obj WHERE {\n",
      "                ?sub rdf:type <http://webprotege.stanford.edu/LAMMPSLog> .\n",
      "                BIND(rdf:type AS ?rel) .\n",
      "                BIND(<http://webprotege.stanford.edu/LAMMPSLog> AS ?obj) .\n",
      "            }\n",
      "\n",
      "2024-05-29 19:01:40,865 - [INFO]: []\n",
      "2024-05-29 19:01:40,867 - [INFO]: \n",
      "SELECT ?sub ?rel ?obj WHERE {\n",
      "                ?sub rdf:type owl:Class ;\n",
      "                        rdfs:subClassOf ?restriction .\n",
      "                ?restriction rdf:type owl:Restriction ;\n",
      "                            owl:onProperty emmo:EMMO_c4bace1d_4db0_4cd3_87e9_18122bae2840 ;\n",
      "                            ?p <http://webprotege.stanford.edu/LAMMPSLog> .\n",
      "                FILTER (?p IN (owl:onClass, owl:someValuesFrom))\n",
      "                BIND(emmo:EMMO_c4bace1d_4db0_4cd3_87e9_18122bae2840 AS ?rel) .\n",
      "                BIND(<http://webprotege.stanford.edu/LAMMPSLog> AS ?obj) .\n",
      "            }\n",
      "\n",
      "2024-05-29 19:01:40,908 - [INFO]: [('http://webprotege.stanford.edu/LAMMPSSimulation', 'http://emmo.info/emmo#EMMO_c4bace1d_4db0_4cd3_87e9_18122bae2840', 'http://webprotege.stanford.edu/LAMMPSLog'), ('http://webprotege.stanford.edu/LAMMPSSimulation', 'http://emmo.info/emmo#EMMO_c4bace1d_4db0_4cd3_87e9_18122bae2840', 'http://webprotege.stanford.edu/LAMMPSLog'), ('http://webprotege.stanford.edu/LAMMPSSimulation', 'http://emmo.info/emmo#EMMO_c4bace1d_4db0_4cd3_87e9_18122bae2840', 'http://webprotege.stanford.edu/LAMMPSLog'), ('http://webprotege.stanford.edu/LAMMPSSimulation', 'http://emmo.info/emmo#EMMO_c4bace1d_4db0_4cd3_87e9_18122bae2840', 'http://webprotege.stanford.edu/LAMMPSLog'), ('http://webprotege.stanford.edu/LAMMPSSimulation', 'http://emmo.info/emmo#EMMO_c4bace1d_4db0_4cd3_87e9_18122bae2840', 'http://webprotege.stanford.edu/LAMMPSLog'), ('http://webprotege.stanford.edu/LAMMPSSimulation', 'http://emmo.info/emmo#EMMO_c4bace1d_4db0_4cd3_87e9_18122bae2840', 'http://webprotege.stanford.edu/LAMMPSLog')]\n",
      "2024-05-29 19:01:40,909 - [INFO]: Outputs models of http://webprotege.stanford.edu/LAMMPSLog: [('http://webprotege.stanford.edu/LAMMPSSimulation', 'http://emmo.info/emmo#EMMO_c4bace1d_4db0_4cd3_87e9_18122bae2840', 'http://webprotege.stanford.edu/LAMMPSLog'), ('http://webprotege.stanford.edu/LAMMPSSimulation', 'http://emmo.info/emmo#EMMO_c4bace1d_4db0_4cd3_87e9_18122bae2840', 'http://webprotege.stanford.edu/LAMMPSLog'), ('http://webprotege.stanford.edu/LAMMPSSimulation', 'http://emmo.info/emmo#EMMO_c4bace1d_4db0_4cd3_87e9_18122bae2840', 'http://webprotege.stanford.edu/LAMMPSLog'), ('http://webprotege.stanford.edu/LAMMPSSimulation', 'http://emmo.info/emmo#EMMO_c4bace1d_4db0_4cd3_87e9_18122bae2840', 'http://webprotege.stanford.edu/LAMMPSLog'), ('http://webprotege.stanford.edu/LAMMPSSimulation', 'http://emmo.info/emmo#EMMO_c4bace1d_4db0_4cd3_87e9_18122bae2840', 'http://webprotege.stanford.edu/LAMMPSLog'), ('http://webprotege.stanford.edu/LAMMPSSimulation', 'http://emmo.info/emmo#EMMO_c4bace1d_4db0_4cd3_87e9_18122bae2840', 'http://webprotege.stanford.edu/LAMMPSLog')]\n",
      "2024-05-29 19:01:40,910 - [INFO]: Getting KPIs for http://webprotege.stanford.edu/LAMMPSSimulation\n",
      "2024-05-29 19:01:40,910 - [INFO]: \n",
      "SELECT ?kpa_class ?kpa_value WHERE {\n",
      "                <http://webprotege.stanford.edu/LAMMPSSimulation> rdfs:subClassOf ?bnode .\n",
      "                ?bnode rdf:type owl:Restriction .\n",
      "                ?bnode owl:onProperty kpa:hasKPA .\n",
      "                ?bnode owl:hasValue ?kpa_ind .\n",
      "                ?kpa_ind rdf:type ?kpa_class .\n",
      "                ?kpa_ind kpa:KPAValue ?kpa_value .\n",
      "                FILTER(STRSTARTS(STR(?kpa_class), \"http://open-model.eu/ontoflow/kpa#\"))\n",
      "            }\n",
      "\n",
      "2024-05-29 19:01:40,962 - [INFO]: \n",
      "SELECT ?kpa_class ?kpa_value ?kpa_ind WHERE {\n",
      "                <http://webprotege.stanford.edu/LAMMPSSimulation> kpa:hasKPA ?kpa_ind .\n",
      "                ?kpa_ind rdf:type ?kpa_class .\n",
      "                ?kpa_ind kpa:KPAValue ?kpa_value .\n",
      "                FILTER(STRSTARTS(STR(?kpa_class), \"http://open-model.eu/ontoflow/kpa#\"))\n",
      "            }\n",
      "\n",
      "2024-05-29 19:01:41,000 - [INFO]: [('http://open-model.eu/ontoflow/kpa#OrdinalAccuracy', Literal('Medium')), ('http://open-model.eu/ontoflow/kpa#NumericalSimulationTime', Literal('3600', datatype='http://www.w3.org/2001/XMLSchema#positiveInteger')), ('http://open-model.eu/ontoflow/kpa#OrdinalAccuracy', Literal('Medium')), ('http://open-model.eu/ontoflow/kpa#NumericalSimulationTime', Literal('3600', datatype='http://www.w3.org/2001/XMLSchema#positiveInteger')), ('http://open-model.eu/ontoflow/kpa#OrdinalAccuracy', Literal('Medium')), ('http://open-model.eu/ontoflow/kpa#NumericalSimulationTime', Literal('3600', datatype='http://www.w3.org/2001/XMLSchema#positiveInteger')), ('http://open-model.eu/ontoflow/kpa#OrdinalAccuracy', Literal('Medium')), ('http://open-model.eu/ontoflow/kpa#NumericalSimulationTime', Literal('3600', datatype='http://www.w3.org/2001/XMLSchema#positiveInteger')), ('http://open-model.eu/ontoflow/kpa#OrdinalAccuracy', Literal('Medium')), ('http://open-model.eu/ontoflow/kpa#NumericalSimulationTime', Literal('3600', datatype='http://www.w3.org/2001/XMLSchema#positiveInteger')), ('http://open-model.eu/ontoflow/kpa#OrdinalAccuracy', Literal('Medium')), ('http://open-model.eu/ontoflow/kpa#NumericalSimulationTime', Literal('3600', datatype='http://www.w3.org/2001/XMLSchema#positiveInteger'))]\n",
      "2024-05-29 19:01:41,032 - [INFO]: Node KPIs: {'Accuracy': {'value': 25}, 'SimulationTime': {'value': 3600.0}}\n",
      "2024-05-29 19:01:41,033 - [INFO]: \n",
      "SELECT ?sub ?rel ?obj WHERE {\n",
      "                <http://webprotege.stanford.edu/LAMMPSSimulation> rdf:type owl:Class ;\n",
      "                    rdfs:subClassOf ?restriction .\n",
      "                ?restriction rdf:type owl:Restriction ;\n",
      "                            owl:onProperty emmo:EMMO_36e69413_8c59_4799_946c_10b05d266e22 ;\n",
      "                            ?p ?sub .\n",
      "                FILTER (?p IN (owl:onClass, owl:someValuesFrom))\n",
      "                BIND(emmo:EMMO_36e69413_8c59_4799_946c_10b05d266e22 AS ?rel) .\n",
      "                BIND(<http://webprotege.stanford.edu/LAMMPSSimulation> AS ?obj) .\n",
      "            }\n",
      "\n",
      "2024-05-29 19:01:41,073 - [INFO]: [('http://webprotege.stanford.edu/LAMMPSDatasetInput', 'http://emmo.info/emmo#EMMO_36e69413_8c59_4799_946c_10b05d266e22', 'http://webprotege.stanford.edu/LAMMPSSimulation'), ('http://webprotege.stanford.edu/LAMMPSDatasetInput', 'http://emmo.info/emmo#EMMO_36e69413_8c59_4799_946c_10b05d266e22', 'http://webprotege.stanford.edu/LAMMPSSimulation'), ('http://webprotege.stanford.edu/LAMMPSDatasetInput', 'http://emmo.info/emmo#EMMO_36e69413_8c59_4799_946c_10b05d266e22', 'http://webprotege.stanford.edu/LAMMPSSimulation'), ('http://webprotege.stanford.edu/LAMMPSDatasetInput', 'http://emmo.info/emmo#EMMO_36e69413_8c59_4799_946c_10b05d266e22', 'http://webprotege.stanford.edu/LAMMPSSimulation'), ('http://webprotege.stanford.edu/LAMMPSDatasetInput', 'http://emmo.info/emmo#EMMO_36e69413_8c59_4799_946c_10b05d266e22', 'http://webprotege.stanford.edu/LAMMPSSimulation'), ('http://webprotege.stanford.edu/LAMMPSDatasetInput', 'http://emmo.info/emmo#EMMO_36e69413_8c59_4799_946c_10b05d266e22', 'http://webprotege.stanford.edu/LAMMPSSimulation')]\n",
      "2024-05-29 19:01:41,074 - [INFO]: Getting KPIs for http://webprotege.stanford.edu/LAMMPSDatasetInput\n",
      "2024-05-29 19:01:41,075 - [INFO]: \n",
      "SELECT ?kpa_class ?kpa_value WHERE {\n",
      "                <http://webprotege.stanford.edu/LAMMPSDatasetInput> rdfs:subClassOf ?bnode .\n",
      "                ?bnode rdf:type owl:Restriction .\n",
      "                ?bnode owl:onProperty kpa:hasKPA .\n",
      "                ?bnode owl:hasValue ?kpa_ind .\n",
      "                ?kpa_ind rdf:type ?kpa_class .\n",
      "                ?kpa_ind kpa:KPAValue ?kpa_value .\n",
      "                FILTER(STRSTARTS(STR(?kpa_class), \"http://open-model.eu/ontoflow/kpa#\"))\n",
      "            }\n",
      "\n",
      "2024-05-29 19:01:41,109 - [INFO]: \n",
      "SELECT ?kpa_class ?kpa_value ?kpa_ind WHERE {\n",
      "                <http://webprotege.stanford.edu/LAMMPSDatasetInput> kpa:hasKPA ?kpa_ind .\n",
      "                ?kpa_ind rdf:type ?kpa_class .\n",
      "                ?kpa_ind kpa:KPAValue ?kpa_value .\n",
      "                FILTER(STRSTARTS(STR(?kpa_class), \"http://open-model.eu/ontoflow/kpa#\"))\n",
      "            }\n",
      "\n",
      "2024-05-29 19:01:41,160 - [INFO]: []\n",
      "2024-05-29 19:01:41,161 - [INFO]: Node KPIs: {}\n",
      "2024-05-29 19:01:41,161 - [INFO]: \n",
      "SELECT ?sub ?rel ?obj WHERE {\n",
      "                ?sub rdf:type <http://webprotege.stanford.edu/LAMMPSDatasetInput> .\n",
      "                BIND(rdf:type AS ?rel) .\n",
      "                BIND(<http://webprotege.stanford.edu/LAMMPSDatasetInput> AS ?obj) .\n",
      "            }\n",
      "\n",
      "2024-05-29 19:01:41,205 - [INFO]: []\n",
      "2024-05-29 19:01:41,206 - [INFO]: \n",
      "SELECT ?sub ?rel ?obj WHERE {\n",
      "                ?sub rdf:type owl:Class ;\n",
      "                        rdfs:subClassOf ?restriction .\n",
      "                ?restriction rdf:type owl:Restriction ;\n",
      "                            owl:onProperty emmo:EMMO_c4bace1d_4db0_4cd3_87e9_18122bae2840 ;\n",
      "                            ?p <http://webprotege.stanford.edu/LAMMPSDatasetInput> .\n",
      "                FILTER (?p IN (owl:onClass, owl:someValuesFrom))\n",
      "                BIND(emmo:EMMO_c4bace1d_4db0_4cd3_87e9_18122bae2840 AS ?rel) .\n",
      "                BIND(<http://webprotege.stanford.edu/LAMMPSDatasetInput> AS ?obj) .\n",
      "            }\n",
      "\n",
      "2024-05-29 19:01:41,243 - [INFO]: [('http://webprotege.stanford.edu/MoltemplateProcess1', 'http://emmo.info/emmo#EMMO_c4bace1d_4db0_4cd3_87e9_18122bae2840', 'http://webprotege.stanford.edu/LAMMPSDatasetInput'), ('http://webprotege.stanford.edu/MoltemplateProcess2', 'http://emmo.info/emmo#EMMO_c4bace1d_4db0_4cd3_87e9_18122bae2840', 'http://webprotege.stanford.edu/LAMMPSDatasetInput'), ('http://webprotege.stanford.edu/MoltemplateProcess1', 'http://emmo.info/emmo#EMMO_c4bace1d_4db0_4cd3_87e9_18122bae2840', 'http://webprotege.stanford.edu/LAMMPSDatasetInput'), ('http://webprotege.stanford.edu/MoltemplateProcess2', 'http://emmo.info/emmo#EMMO_c4bace1d_4db0_4cd3_87e9_18122bae2840', 'http://webprotege.stanford.edu/LAMMPSDatasetInput'), ('http://webprotege.stanford.edu/MoltemplateProcess1', 'http://emmo.info/emmo#EMMO_c4bace1d_4db0_4cd3_87e9_18122bae2840', 'http://webprotege.stanford.edu/LAMMPSDatasetInput'), ('http://webprotege.stanford.edu/MoltemplateProcess2', 'http://emmo.info/emmo#EMMO_c4bace1d_4db0_4cd3_87e9_18122bae2840', 'http://webprotege.stanford.edu/LAMMPSDatasetInput'), ('http://webprotege.stanford.edu/MoltemplateProcess1', 'http://emmo.info/emmo#EMMO_c4bace1d_4db0_4cd3_87e9_18122bae2840', 'http://webprotege.stanford.edu/LAMMPSDatasetInput'), ('http://webprotege.stanford.edu/MoltemplateProcess2', 'http://emmo.info/emmo#EMMO_c4bace1d_4db0_4cd3_87e9_18122bae2840', 'http://webprotege.stanford.edu/LAMMPSDatasetInput'), ('http://webprotege.stanford.edu/MoltemplateProcess1', 'http://emmo.info/emmo#EMMO_c4bace1d_4db0_4cd3_87e9_18122bae2840', 'http://webprotege.stanford.edu/LAMMPSDatasetInput'), ('http://webprotege.stanford.edu/MoltemplateProcess2', 'http://emmo.info/emmo#EMMO_c4bace1d_4db0_4cd3_87e9_18122bae2840', 'http://webprotege.stanford.edu/LAMMPSDatasetInput'), ('http://webprotege.stanford.edu/MoltemplateProcess1', 'http://emmo.info/emmo#EMMO_c4bace1d_4db0_4cd3_87e9_18122bae2840', 'http://webprotege.stanford.edu/LAMMPSDatasetInput'), ('http://webprotege.stanford.edu/MoltemplateProcess2', 'http://emmo.info/emmo#EMMO_c4bace1d_4db0_4cd3_87e9_18122bae2840', 'http://webprotege.stanford.edu/LAMMPSDatasetInput')]\n",
      "2024-05-29 19:01:41,244 - [INFO]: Outputs models of http://webprotege.stanford.edu/LAMMPSDatasetInput: [('http://webprotege.stanford.edu/MoltemplateProcess1', 'http://emmo.info/emmo#EMMO_c4bace1d_4db0_4cd3_87e9_18122bae2840', 'http://webprotege.stanford.edu/LAMMPSDatasetInput'), ('http://webprotege.stanford.edu/MoltemplateProcess2', 'http://emmo.info/emmo#EMMO_c4bace1d_4db0_4cd3_87e9_18122bae2840', 'http://webprotege.stanford.edu/LAMMPSDatasetInput'), ('http://webprotege.stanford.edu/MoltemplateProcess1', 'http://emmo.info/emmo#EMMO_c4bace1d_4db0_4cd3_87e9_18122bae2840', 'http://webprotege.stanford.edu/LAMMPSDatasetInput'), ('http://webprotege.stanford.edu/MoltemplateProcess2', 'http://emmo.info/emmo#EMMO_c4bace1d_4db0_4cd3_87e9_18122bae2840', 'http://webprotege.stanford.edu/LAMMPSDatasetInput'), ('http://webprotege.stanford.edu/MoltemplateProcess1', 'http://emmo.info/emmo#EMMO_c4bace1d_4db0_4cd3_87e9_18122bae2840', 'http://webprotege.stanford.edu/LAMMPSDatasetInput'), ('http://webprotege.stanford.edu/MoltemplateProcess2', 'http://emmo.info/emmo#EMMO_c4bace1d_4db0_4cd3_87e9_18122bae2840', 'http://webprotege.stanford.edu/LAMMPSDatasetInput'), ('http://webprotege.stanford.edu/MoltemplateProcess1', 'http://emmo.info/emmo#EMMO_c4bace1d_4db0_4cd3_87e9_18122bae2840', 'http://webprotege.stanford.edu/LAMMPSDatasetInput'), ('http://webprotege.stanford.edu/MoltemplateProcess2', 'http://emmo.info/emmo#EMMO_c4bace1d_4db0_4cd3_87e9_18122bae2840', 'http://webprotege.stanford.edu/LAMMPSDatasetInput'), ('http://webprotege.stanford.edu/MoltemplateProcess1', 'http://emmo.info/emmo#EMMO_c4bace1d_4db0_4cd3_87e9_18122bae2840', 'http://webprotege.stanford.edu/LAMMPSDatasetInput'), ('http://webprotege.stanford.edu/MoltemplateProcess2', 'http://emmo.info/emmo#EMMO_c4bace1d_4db0_4cd3_87e9_18122bae2840', 'http://webprotege.stanford.edu/LAMMPSDatasetInput'), ('http://webprotege.stanford.edu/MoltemplateProcess1', 'http://emmo.info/emmo#EMMO_c4bace1d_4db0_4cd3_87e9_18122bae2840', 'http://webprotege.stanford.edu/LAMMPSDatasetInput'), ('http://webprotege.stanford.edu/MoltemplateProcess2', 'http://emmo.info/emmo#EMMO_c4bace1d_4db0_4cd3_87e9_18122bae2840', 'http://webprotege.stanford.edu/LAMMPSDatasetInput')]\n",
      "2024-05-29 19:01:41,245 - [INFO]: Getting KPIs for http://webprotege.stanford.edu/MoltemplateProcess1\n",
      "2024-05-29 19:01:41,245 - [INFO]: \n",
      "SELECT ?kpa_class ?kpa_value WHERE {\n",
      "                <http://webprotege.stanford.edu/MoltemplateProcess1> rdfs:subClassOf ?bnode .\n",
      "                ?bnode rdf:type owl:Restriction .\n",
      "                ?bnode owl:onProperty kpa:hasKPA .\n",
      "                ?bnode owl:hasValue ?kpa_ind .\n",
      "                ?kpa_ind rdf:type ?kpa_class .\n",
      "                ?kpa_ind kpa:KPAValue ?kpa_value .\n",
      "                FILTER(STRSTARTS(STR(?kpa_class), \"http://open-model.eu/ontoflow/kpa#\"))\n",
      "            }\n",
      "\n",
      "2024-05-29 19:01:41,296 - [INFO]: \n",
      "SELECT ?kpa_class ?kpa_value ?kpa_ind WHERE {\n",
      "                <http://webprotege.stanford.edu/MoltemplateProcess1> kpa:hasKPA ?kpa_ind .\n",
      "                ?kpa_ind rdf:type ?kpa_class .\n",
      "                ?kpa_ind kpa:KPAValue ?kpa_value .\n",
      "                FILTER(STRSTARTS(STR(?kpa_class), \"http://open-model.eu/ontoflow/kpa#\"))\n",
      "            }\n",
      "\n",
      "2024-05-29 19:01:41,341 - [INFO]: [('http://open-model.eu/ontoflow/kpa#OrdinalAccuracy', Literal('Low')), ('http://open-model.eu/ontoflow/kpa#NumericalSimulationTime', Literal('60', datatype='http://www.w3.org/2001/XMLSchema#positiveInteger')), ('http://open-model.eu/ontoflow/kpa#OrdinalAccuracy', Literal('Low')), ('http://open-model.eu/ontoflow/kpa#NumericalSimulationTime', Literal('60', datatype='http://www.w3.org/2001/XMLSchema#positiveInteger')), ('http://open-model.eu/ontoflow/kpa#OrdinalAccuracy', Literal('Low')), ('http://open-model.eu/ontoflow/kpa#NumericalSimulationTime', Literal('60', datatype='http://www.w3.org/2001/XMLSchema#positiveInteger')), ('http://open-model.eu/ontoflow/kpa#OrdinalAccuracy', Literal('Low')), ('http://open-model.eu/ontoflow/kpa#NumericalSimulationTime', Literal('60', datatype='http://www.w3.org/2001/XMLSchema#positiveInteger')), ('http://open-model.eu/ontoflow/kpa#OrdinalAccuracy', Literal('Low')), ('http://open-model.eu/ontoflow/kpa#NumericalSimulationTime', Literal('60', datatype='http://www.w3.org/2001/XMLSchema#positiveInteger')), ('http://open-model.eu/ontoflow/kpa#OrdinalAccuracy', Literal('Low')), ('http://open-model.eu/ontoflow/kpa#NumericalSimulationTime', Literal('60', datatype='http://www.w3.org/2001/XMLSchema#positiveInteger'))]\n",
      "2024-05-29 19:01:41,378 - [INFO]: Node KPIs: {'Accuracy': {'value': 5}, 'SimulationTime': {'value': 60.0}}\n",
      "2024-05-29 19:01:41,379 - [INFO]: \n",
      "SELECT ?sub ?rel ?obj WHERE {\n",
      "                <http://webprotege.stanford.edu/MoltemplateProcess1> rdf:type owl:Class ;\n",
      "                    rdfs:subClassOf ?restriction .\n",
      "                ?restriction rdf:type owl:Restriction ;\n",
      "                            owl:onProperty emmo:EMMO_36e69413_8c59_4799_946c_10b05d266e22 ;\n",
      "                            ?p ?sub .\n",
      "                FILTER (?p IN (owl:onClass, owl:someValuesFrom))\n",
      "                BIND(emmo:EMMO_36e69413_8c59_4799_946c_10b05d266e22 AS ?rel) .\n",
      "                BIND(<http://webprotege.stanford.edu/MoltemplateProcess1> AS ?obj) .\n",
      "            }\n",
      "\n",
      "2024-05-29 19:01:41,432 - [INFO]: [('http://webprotege.stanford.edu/WaterDensityDatasetInput', 'http://emmo.info/emmo#EMMO_36e69413_8c59_4799_946c_10b05d266e22', 'http://webprotege.stanford.edu/MoltemplateProcess1'), ('http://webprotege.stanford.edu/WaterDensityDatasetInput', 'http://emmo.info/emmo#EMMO_36e69413_8c59_4799_946c_10b05d266e22', 'http://webprotege.stanford.edu/MoltemplateProcess1'), ('http://webprotege.stanford.edu/WaterDensityDatasetInput', 'http://emmo.info/emmo#EMMO_36e69413_8c59_4799_946c_10b05d266e22', 'http://webprotege.stanford.edu/MoltemplateProcess1'), ('http://webprotege.stanford.edu/WaterDensityDatasetInput', 'http://emmo.info/emmo#EMMO_36e69413_8c59_4799_946c_10b05d266e22', 'http://webprotege.stanford.edu/MoltemplateProcess1'), ('http://webprotege.stanford.edu/WaterDensityDatasetInput', 'http://emmo.info/emmo#EMMO_36e69413_8c59_4799_946c_10b05d266e22', 'http://webprotege.stanford.edu/MoltemplateProcess1'), ('http://webprotege.stanford.edu/WaterDensityDatasetInput', 'http://emmo.info/emmo#EMMO_36e69413_8c59_4799_946c_10b05d266e22', 'http://webprotege.stanford.edu/MoltemplateProcess1')]\n",
      "2024-05-29 19:01:41,433 - [INFO]: Getting KPIs for http://webprotege.stanford.edu/WaterDensityDatasetInput\n",
      "2024-05-29 19:01:41,434 - [INFO]: \n",
      "SELECT ?kpa_class ?kpa_value WHERE {\n",
      "                <http://webprotege.stanford.edu/WaterDensityDatasetInput> rdfs:subClassOf ?bnode .\n",
      "                ?bnode rdf:type owl:Restriction .\n",
      "                ?bnode owl:onProperty kpa:hasKPA .\n",
      "                ?bnode owl:hasValue ?kpa_ind .\n",
      "                ?kpa_ind rdf:type ?kpa_class .\n",
      "                ?kpa_ind kpa:KPAValue ?kpa_value .\n",
      "                FILTER(STRSTARTS(STR(?kpa_class), \"http://open-model.eu/ontoflow/kpa#\"))\n",
      "            }\n",
      "\n",
      "2024-05-29 19:01:41,477 - [INFO]: \n",
      "SELECT ?kpa_class ?kpa_value ?kpa_ind WHERE {\n",
      "                <http://webprotege.stanford.edu/WaterDensityDatasetInput> kpa:hasKPA ?kpa_ind .\n",
      "                ?kpa_ind rdf:type ?kpa_class .\n",
      "                ?kpa_ind kpa:KPAValue ?kpa_value .\n",
      "                FILTER(STRSTARTS(STR(?kpa_class), \"http://open-model.eu/ontoflow/kpa#\"))\n",
      "            }\n",
      "\n",
      "2024-05-29 19:01:41,518 - [INFO]: []\n",
      "2024-05-29 19:01:41,519 - [INFO]: Node KPIs: {}\n",
      "2024-05-29 19:01:41,521 - [INFO]: \n",
      "SELECT ?sub ?rel ?obj WHERE {\n",
      "                ?sub rdf:type <http://webprotege.stanford.edu/WaterDensityDatasetInput> .\n",
      "                BIND(rdf:type AS ?rel) .\n",
      "                BIND(<http://webprotege.stanford.edu/WaterDensityDatasetInput> AS ?obj) .\n",
      "            }\n",
      "\n",
      "2024-05-29 19:01:41,566 - [INFO]: [('http://webprotege.stanford.edu/WaterDensityDatasetInput1', 'http://www.w3.org/1999/02/22-rdf-syntax-ns#type', 'http://webprotege.stanford.edu/WaterDensityDatasetInput'), ('http://webprotege.stanford.edu/WaterDensityDatasetInput2', 'http://www.w3.org/1999/02/22-rdf-syntax-ns#type', 'http://webprotege.stanford.edu/WaterDensityDatasetInput')]\n",
      "2024-05-29 19:01:41,567 - [INFO]: Getting KPIs for http://webprotege.stanford.edu/WaterDensityDatasetInput1\n",
      "2024-05-29 19:01:41,568 - [INFO]: \n",
      "SELECT ?kpa_class ?kpa_value WHERE {\n",
      "                <http://webprotege.stanford.edu/WaterDensityDatasetInput1> rdfs:subClassOf ?bnode .\n",
      "                ?bnode rdf:type owl:Restriction .\n",
      "                ?bnode owl:onProperty kpa:hasKPA .\n",
      "                ?bnode owl:hasValue ?kpa_ind .\n",
      "                ?kpa_ind rdf:type ?kpa_class .\n",
      "                ?kpa_ind kpa:KPAValue ?kpa_value .\n",
      "                FILTER(STRSTARTS(STR(?kpa_class), \"http://open-model.eu/ontoflow/kpa#\"))\n",
      "            }\n",
      "\n",
      "2024-05-29 19:01:41,606 - [INFO]: \n",
      "SELECT ?kpa_class ?kpa_value ?kpa_ind WHERE {\n",
      "                <http://webprotege.stanford.edu/WaterDensityDatasetInput1> kpa:hasKPA ?kpa_ind .\n",
      "                ?kpa_ind rdf:type ?kpa_class .\n",
      "                ?kpa_ind kpa:KPAValue ?kpa_value .\n",
      "                FILTER(STRSTARTS(STR(?kpa_class), \"http://open-model.eu/ontoflow/kpa#\"))\n",
      "            }\n",
      "\n",
      "2024-05-29 19:01:41,643 - [INFO]: [('http://open-model.eu/ontoflow/kpa#BoolOpenSource', Literal('true'), 'http://open-model.eu/ontoflow/example#OpenSource_1')]\n",
      "2024-05-29 19:01:41,674 - [INFO]: Node KPIs: {'OpenSource': {'value': 1}}\n",
      "2024-05-29 19:01:41,675 - [INFO]: Getting KPIs for http://webprotege.stanford.edu/WaterDensityDatasetInput2\n",
      "2024-05-29 19:01:41,676 - [INFO]: \n",
      "SELECT ?kpa_class ?kpa_value WHERE {\n",
      "                <http://webprotege.stanford.edu/WaterDensityDatasetInput2> rdfs:subClassOf ?bnode .\n",
      "                ?bnode rdf:type owl:Restriction .\n",
      "                ?bnode owl:onProperty kpa:hasKPA .\n",
      "                ?bnode owl:hasValue ?kpa_ind .\n",
      "                ?kpa_ind rdf:type ?kpa_class .\n",
      "                ?kpa_ind kpa:KPAValue ?kpa_value .\n",
      "                FILTER(STRSTARTS(STR(?kpa_class), \"http://open-model.eu/ontoflow/kpa#\"))\n",
      "            }\n",
      "\n",
      "2024-05-29 19:01:41,714 - [INFO]: \n",
      "SELECT ?kpa_class ?kpa_value ?kpa_ind WHERE {\n",
      "                <http://webprotege.stanford.edu/WaterDensityDatasetInput2> kpa:hasKPA ?kpa_ind .\n",
      "                ?kpa_ind rdf:type ?kpa_class .\n",
      "                ?kpa_ind kpa:KPAValue ?kpa_value .\n",
      "                FILTER(STRSTARTS(STR(?kpa_class), \"http://open-model.eu/ontoflow/kpa#\"))\n",
      "            }\n",
      "\n",
      "2024-05-29 19:01:41,750 - [INFO]: [('http://open-model.eu/ontoflow/kpa#BoolOpenSource', Literal('false'), 'http://open-model.eu/ontoflow/example#OpenSource_2')]\n",
      "2024-05-29 19:01:41,784 - [INFO]: Node KPIs: {'OpenSource': {'value': 0}}\n",
      "2024-05-29 19:01:41,785 - [INFO]: Node http://webprotege.stanford.edu/WaterDensityDatasetInput has an individual\n",
      "2024-05-29 19:01:41,786 - [INFO]: Getting KPIs for http://webprotege.stanford.edu/MoltemplateProcess2\n",
      "2024-05-29 19:01:41,788 - [INFO]: \n",
      "SELECT ?kpa_class ?kpa_value WHERE {\n",
      "                <http://webprotege.stanford.edu/MoltemplateProcess2> rdfs:subClassOf ?bnode .\n",
      "                ?bnode rdf:type owl:Restriction .\n",
      "                ?bnode owl:onProperty kpa:hasKPA .\n",
      "                ?bnode owl:hasValue ?kpa_ind .\n",
      "                ?kpa_ind rdf:type ?kpa_class .\n",
      "                ?kpa_ind kpa:KPAValue ?kpa_value .\n",
      "                FILTER(STRSTARTS(STR(?kpa_class), \"http://open-model.eu/ontoflow/kpa#\"))\n",
      "            }\n",
      "\n",
      "2024-05-29 19:01:41,835 - [INFO]: \n",
      "SELECT ?kpa_class ?kpa_value ?kpa_ind WHERE {\n",
      "                <http://webprotege.stanford.edu/MoltemplateProcess2> kpa:hasKPA ?kpa_ind .\n",
      "                ?kpa_ind rdf:type ?kpa_class .\n",
      "                ?kpa_ind kpa:KPAValue ?kpa_value .\n",
      "                FILTER(STRSTARTS(STR(?kpa_class), \"http://open-model.eu/ontoflow/kpa#\"))\n",
      "            }\n",
      "\n",
      "2024-05-29 19:01:41,875 - [INFO]: [('http://open-model.eu/ontoflow/kpa#OrdinalAccuracy', Literal('High')), ('http://open-model.eu/ontoflow/kpa#NumericalSimulationTime', Literal('3600', datatype='http://www.w3.org/2001/XMLSchema#positiveInteger')), ('http://open-model.eu/ontoflow/kpa#OrdinalAccuracy', Literal('High')), ('http://open-model.eu/ontoflow/kpa#NumericalSimulationTime', Literal('3600', datatype='http://www.w3.org/2001/XMLSchema#positiveInteger')), ('http://open-model.eu/ontoflow/kpa#OrdinalAccuracy', Literal('High')), ('http://open-model.eu/ontoflow/kpa#NumericalSimulationTime', Literal('3600', datatype='http://www.w3.org/2001/XMLSchema#positiveInteger')), ('http://open-model.eu/ontoflow/kpa#OrdinalAccuracy', Literal('High')), ('http://open-model.eu/ontoflow/kpa#NumericalSimulationTime', Literal('3600', datatype='http://www.w3.org/2001/XMLSchema#positiveInteger')), ('http://open-model.eu/ontoflow/kpa#OrdinalAccuracy', Literal('High')), ('http://open-model.eu/ontoflow/kpa#NumericalSimulationTime', Literal('3600', datatype='http://www.w3.org/2001/XMLSchema#positiveInteger')), ('http://open-model.eu/ontoflow/kpa#OrdinalAccuracy', Literal('High')), ('http://open-model.eu/ontoflow/kpa#NumericalSimulationTime', Literal('3600', datatype='http://www.w3.org/2001/XMLSchema#positiveInteger'))]\n",
      "2024-05-29 19:01:41,910 - [INFO]: Node KPIs: {'Accuracy': {'value': 50}, 'SimulationTime': {'value': 3600.0}}\n",
      "2024-05-29 19:01:41,911 - [INFO]: \n",
      "SELECT ?sub ?rel ?obj WHERE {\n",
      "                <http://webprotege.stanford.edu/MoltemplateProcess2> rdf:type owl:Class ;\n",
      "                    rdfs:subClassOf ?restriction .\n",
      "                ?restriction rdf:type owl:Restriction ;\n",
      "                            owl:onProperty emmo:EMMO_36e69413_8c59_4799_946c_10b05d266e22 ;\n",
      "                            ?p ?sub .\n",
      "                FILTER (?p IN (owl:onClass, owl:someValuesFrom))\n",
      "                BIND(emmo:EMMO_36e69413_8c59_4799_946c_10b05d266e22 AS ?rel) .\n",
      "                BIND(<http://webprotege.stanford.edu/MoltemplateProcess2> AS ?obj) .\n",
      "            }\n",
      "\n",
      "2024-05-29 19:01:41,946 - [INFO]: [('http://webprotege.stanford.edu/WaterDensityDatasetInput', 'http://emmo.info/emmo#EMMO_36e69413_8c59_4799_946c_10b05d266e22', 'http://webprotege.stanford.edu/MoltemplateProcess2'), ('http://webprotege.stanford.edu/WaterDensityDatasetInput', 'http://emmo.info/emmo#EMMO_36e69413_8c59_4799_946c_10b05d266e22', 'http://webprotege.stanford.edu/MoltemplateProcess2'), ('http://webprotege.stanford.edu/WaterDensityDatasetInput', 'http://emmo.info/emmo#EMMO_36e69413_8c59_4799_946c_10b05d266e22', 'http://webprotege.stanford.edu/MoltemplateProcess2'), ('http://webprotege.stanford.edu/WaterDensityDatasetInput', 'http://emmo.info/emmo#EMMO_36e69413_8c59_4799_946c_10b05d266e22', 'http://webprotege.stanford.edu/MoltemplateProcess2'), ('http://webprotege.stanford.edu/WaterDensityDatasetInput', 'http://emmo.info/emmo#EMMO_36e69413_8c59_4799_946c_10b05d266e22', 'http://webprotege.stanford.edu/MoltemplateProcess2'), ('http://webprotege.stanford.edu/WaterDensityDatasetInput', 'http://emmo.info/emmo#EMMO_36e69413_8c59_4799_946c_10b05d266e22', 'http://webprotege.stanford.edu/MoltemplateProcess2')]\n",
      "2024-05-29 19:01:41,947 - [INFO]: \n",
      "SELECT ?sub ?rel ?obj WHERE {\n",
      "                ?sub rdf:type owl:Class ;\n",
      "                        rdfs:subClassOf <http://webprotege.stanford.edu/LAMMPSDatasetInput> .\n",
      "                BIND(rdfs:subClassOf AS ?rel) .\n",
      "                BIND(<http://webprotege.stanford.edu/LAMMPSDatasetInput> as ?obj) .\n",
      "            }\n",
      "\n",
      "2024-05-29 19:01:41,999 - [INFO]: []\n",
      "2024-05-29 19:01:42,004 - [INFO]: Subclasses of http://webprotege.stanford.edu/LAMMPSDatasetInput: []\n",
      "2024-05-29 19:01:42,005 - [INFO]: \n",
      "SELECT ?sub ?rel ?obj WHERE {\n",
      "                ?sub rdf:type owl:Class ;\n",
      "                        rdfs:subClassOf <http://webprotege.stanford.edu/LAMMPSLog> .\n",
      "                BIND(rdfs:subClassOf AS ?rel) .\n",
      "                BIND(<http://webprotege.stanford.edu/LAMMPSLog> as ?obj) .\n",
      "            }\n",
      "\n",
      "2024-05-29 19:01:42,061 - [INFO]: []\n",
      "2024-05-29 19:01:42,062 - [INFO]: Subclasses of http://webprotege.stanford.edu/LAMMPSLog: []\n",
      "2024-05-29 19:01:42,063 - [INFO]: \n",
      "SELECT ?sub ?rel ?obj WHERE {\n",
      "                ?sub rdf:type owl:Class ;\n",
      "                        rdfs:subClassOf <http://webprotege.stanford.edu/FluidDensity> .\n",
      "                BIND(rdfs:subClassOf AS ?rel) .\n",
      "                BIND(<http://webprotege.stanford.edu/FluidDensity> as ?obj) .\n",
      "            }\n",
      "\n",
      "2024-05-29 19:01:42,101 - [INFO]: []\n",
      "2024-05-29 19:01:42,102 - [INFO]: Subclasses of http://webprotege.stanford.edu/FluidDensity: []\n"
     ]
    }
   ],
   "source": [
    "ts.bind(\"base\", \"http://webprotege.stanford.edu/\")\n",
    "\n",
    "# Initialize the engine\n",
    "engine = OntoFlowEngine(triplestore=ts)\n",
    "\n",
    "# Get the best route\n",
    "bestRoute = engine.getBestRoute(data['target'], data['kpis'], data['mco'])"
   ]
  },
  {
   "cell_type": "code",
   "execution_count": null,
   "id": "1bbecf24-90c0-4d40-b293-e94f5967d8bd",
   "metadata": {},
   "outputs": [],
   "source": []
  },
  {
   "cell_type": "code",
   "execution_count": null,
   "id": "e37bbd08-74c4-4805-90bb-77e087c67030",
   "metadata": {},
   "outputs": [],
   "source": []
  }
 ],
 "metadata": {
  "kernelspec": {
   "display_name": "Python 3 (ipykernel)",
   "language": "python",
   "name": "python3"
  },
  "language_info": {
   "codemirror_mode": {
    "name": "ipython",
    "version": 3
   },
   "file_extension": ".py",
   "mimetype": "text/x-python",
   "name": "python",
   "nbconvert_exporter": "python",
   "pygments_lexer": "ipython3",
   "version": "3.9.13"
  }
 },
 "nbformat": 4,
 "nbformat_minor": 5
}
