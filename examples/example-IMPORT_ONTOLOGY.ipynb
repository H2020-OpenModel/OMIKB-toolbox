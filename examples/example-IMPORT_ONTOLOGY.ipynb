{
 "cells": [
  {
   "cell_type": "code",
   "execution_count": 1,
   "id": "f280633c-b25e-453f-b001-2332acdbe31d",
   "metadata": {},
   "outputs": [
    {
     "name": "stderr",
     "output_type": "stream",
     "text": [
      "2024-05-29 21:08:41,204 - [INFO]: -----------------------------------\n",
      "2024-05-29 21:08:41,204 - [INFO]: Logger initialized with level INFO\n"
     ]
    }
   ],
   "source": [
    "from omikb.omikb import kb_toolbox\n",
    "import json\n",
    "import rdflib\n",
    "from typing import Union\n",
    "from ontoflow.engine import OntoFlowEngine\n",
    "from tripper import Triplestore"
   ]
  },
  {
   "cell_type": "code",
   "execution_count": 2,
   "id": "d706d3eb-9e99-4ded-8560-cc9448ef1283",
   "metadata": {},
   "outputs": [],
   "source": [
    "from SPARQLWrapper import SPARQLWrapper, JSON, XML, POST, GET"
   ]
  },
  {
   "cell_type": "code",
   "execution_count": 3,
   "id": "543e7b7a-d759-4152-9321-8d10ac0c4060",
   "metadata": {},
   "outputs": [
    {
     "name": "stdout",
     "output_type": "stream",
     "text": [
      "Hello Usr: Yout access token is obtained: (Showing last 10 digits only) TGemDdkJjQ\n",
      "Initialised Knowledge Base and OMI access from the jupyter interface for the user:\n",
      "{\n",
      "  \"sub\": \"f8ba08b8-abbc-4aed-91eb-d4b5557d4fc6\",\n",
      "  \"email_verified\": false,\n",
      "  \"name\": \"adham hashibon\",\n",
      "  \"preferred_username\": \"adham\",\n",
      "  \"given_name\": \"adham\",\n",
      "  \"family_name\": \"hashibon\",\n",
      "  \"email\": \"a.hashibon@ucl.ac.uk\"\n",
      "}\n",
      "None\n"
     ]
    }
   ],
   "source": [
    "kb=kb_toolbox()"
   ]
  },
  {
   "cell_type": "markdown",
   "id": "25c6cdd4-036a-47d4-a897-503e2093b8a6",
   "metadata": {},
   "source": [
    "# Importing Ontology Files \n",
    "\n",
    "Note: we can support ctalouge and import files, as well as reasoning, but for now, ontology files should be uploaded one by one.\n",
    "\n",
    "for example if ontology X uses (imports) ontology Y, simply upload X (without the import) and X. \n",
    "\n",
    "The actual behaviour should be tested first, and then implement the option. (potentially building on ontomanager from DOME 4.0)"
   ]
  },
  {
   "cell_type": "code",
   "execution_count": 4,
   "id": "67119da0-f003-47ff-89b9-e32ee565c846",
   "metadata": {},
   "outputs": [
    {
     "name": "stdout",
     "output_type": "stream",
     "text": [
      "Successfully added 30841 triplets to the dataspace default in the knowledge base.\n"
     ]
    },
    {
     "data": {
      "text/plain": [
       "<Response [200]>"
      ]
     },
     "execution_count": 4,
     "metadata": {},
     "output_type": "execute_result"
    }
   ],
   "source": [
    "kb.import_ontology(\"https://emmo-repo.github.io/versions/1.0.0-rc1/emmo.ttl\")"
   ]
  },
  {
   "cell_type": "code",
   "execution_count": 5,
   "id": "ed494007-758e-4bc3-bd9e-eb691c513b93",
   "metadata": {},
   "outputs": [],
   "source": [
    "q=\"\"\"PREFIX rdfs: <http://www.w3.org/2000/01/rdf-schema#>\n",
    "\n",
    "SELECT ?class WHERE {\n",
    "  ?class rdfs:label \"PhysicsEquationSolution\"@en .\n",
    "}\n",
    "\"\"\""
   ]
  },
  {
   "cell_type": "code",
   "execution_count": 6,
   "id": "c3dd79c0-d1d6-4c36-a015-e16735edc0e3",
   "metadata": {},
   "outputs": [],
   "source": [
    "r=kb.query(q)"
   ]
  },
  {
   "cell_type": "code",
   "execution_count": 7,
   "id": "7cab2138-c3e4-44e4-b97c-a4c7ce08b204",
   "metadata": {},
   "outputs": [
    {
     "data": {
      "text/plain": [
       "<Response [200]>"
      ]
     },
     "execution_count": 7,
     "metadata": {},
     "output_type": "execute_result"
    }
   ],
   "source": [
    "r"
   ]
  },
  {
   "cell_type": "code",
   "execution_count": 8,
   "id": "fb179683-79db-48f8-a4fe-222bc3191977",
   "metadata": {},
   "outputs": [
    {
     "data": {
      "text/plain": [
       "{'head': {'vars': ['class']},\n",
       " 'results': {'bindings': [{'class': {'type': 'uri',\n",
       "     'value': 'https://w3id.org/emmo#EMMO_6e0664f2_4d4d_4407_bf60_e1b3c07198d7'}}]}}"
      ]
     },
     "execution_count": 8,
     "metadata": {},
     "output_type": "execute_result"
    }
   ],
   "source": [
    "r.json()"
   ]
  },
  {
   "cell_type": "code",
   "execution_count": 9,
   "id": "dc7a4178-9384-45ea-8ab7-75e9fea6b11e",
   "metadata": {},
   "outputs": [],
   "source": [
    "q=\"\"\"PREFIX rdfs: <http://www.w3.org/2000/01/rdf-schema#>\n",
    "PREFIX rdf: <http://www.w3.org/1999/02/22-rdf-syntax-ns#>\n",
    "PREFIX owl: <http://www.w3.org/2002/07/owl#>\n",
    "\n",
    "SELECT ?property ?propertyLabel WHERE {\n",
    "  ?class rdfs:label \"PhysicsEquationSolution\"@en .\n",
    "  ?class ?property ?attribute .\n",
    "  OPTIONAL {\n",
    "    ?property rdfs:label ?propertyLabel .\n",
    "  }\n",
    "}\n",
    "\"\"\""
   ]
  },
  {
   "cell_type": "code",
   "execution_count": 10,
   "id": "42fa760a-2f07-4ff4-99f9-515a0a95db15",
   "metadata": {},
   "outputs": [],
   "source": [
    "r=kb.query(q)"
   ]
  },
  {
   "cell_type": "code",
   "execution_count": 11,
   "id": "379c1807-5054-44f3-b890-04814e8460dd",
   "metadata": {},
   "outputs": [
    {
     "data": {
      "text/plain": [
       "{'head': {'vars': ['property', 'propertyLabel']},\n",
       " 'results': {'bindings': [{'property': {'type': 'uri',\n",
       "     'value': 'http://www.w3.org/1999/02/22-rdf-syntax-ns#type'}},\n",
       "   {'property': {'type': 'uri',\n",
       "     'value': 'http://www.w3.org/2000/01/rdf-schema#isDefinedBy'}},\n",
       "   {'property': {'type': 'uri',\n",
       "     'value': 'http://www.w3.org/2000/01/rdf-schema#label'}},\n",
       "   {'property': {'type': 'uri',\n",
       "     'value': 'http://www.w3.org/2000/01/rdf-schema#comment'}},\n",
       "   {'property': {'type': 'uri',\n",
       "     'value': 'http://www.w3.org/2000/01/rdf-schema#comment'}},\n",
       "   {'property': {'type': 'uri',\n",
       "     'value': 'http://www.w3.org/2004/02/skos/core#prefLabel'}},\n",
       "   {'property': {'type': 'uri',\n",
       "     'value': 'https://w3id.org/emmo#EMMO_967080e5_2f42_4eb2_a3a9_c58143e835f9'},\n",
       "    'propertyLabel': {'type': 'literal',\n",
       "     'xml:lang': 'en',\n",
       "     'value': 'elucidation'}},\n",
       "   {'property': {'type': 'uri',\n",
       "     'value': 'http://www.w3.org/2000/01/rdf-schema#subClassOf'}},\n",
       "   {'property': {'type': 'uri',\n",
       "     'value': 'http://www.w3.org/2004/02/skos/core#example'}}]}}"
      ]
     },
     "execution_count": 11,
     "metadata": {},
     "output_type": "execute_result"
    }
   ],
   "source": [
    "r.json()\n",
    "x=r.json()\n",
    "x"
   ]
  },
  {
   "cell_type": "code",
   "execution_count": 12,
   "id": "aaa55c62-6668-4f5b-8142-ad75c202afd3",
   "metadata": {},
   "outputs": [],
   "source": [
    "q=\"\"\"PREFIX rdfs: <http://www.w3.org/2000/01/rdf-schema#>\n",
    "PREFIX rdf: <http://www.w3.org/1999/02/22-rdf-syntax-ns#>\n",
    "\n",
    "CONSTRUCT {\n",
    "  ?s ?p ?o .\n",
    "  ?o ?prop ?value .\n",
    "} WHERE {\n",
    "  ?s rdfs:label \"PhysicsEquationSolution\"@en .\n",
    "  ?s ?p ?o .\n",
    "  OPTIONAL {\n",
    "    ?o ?prop ?value .\n",
    "  }\n",
    "}\n",
    "\"\"\""
   ]
  },
  {
   "cell_type": "code",
   "execution_count": 13,
   "id": "7e53d45e-e6cc-4d32-b2a4-92666739d7fb",
   "metadata": {},
   "outputs": [],
   "source": [
    "r=kb.query(q)"
   ]
  },
  {
   "cell_type": "code",
   "execution_count": 14,
   "id": "c92f787e-7608-4f42-86c1-196de66bb393",
   "metadata": {},
   "outputs": [],
   "source": [
    "response_text = r.content.decode('utf-8')"
   ]
  },
  {
   "cell_type": "code",
   "execution_count": 15,
   "id": "d96b4b30-7e2e-4a1c-9320-ffc3cb85058d",
   "metadata": {},
   "outputs": [
    {
     "data": {
      "text/plain": [
       "'PREFIX :               <https://w3id.org/emmo#>\\nPREFIX base:           <http://webprotege.stanford.edu/>\\nPREFIX dcterms:        <http://purl.org/dc/terms/>\\nPREFIX emmo:           <https://w3id.org/emmo#>\\nPREFIX foaf:           <http://xmlns.com/foaf/0.1/>\\nPREFIX kpa:            <http://open-model.eu/ontoflow/kpa#>\\nPREFIX kpa-converters: <http://open-model.eu/ontoflow/kpa-converters#>\\nPREFIX ns1:            <http://emmo.info/emmo#>\\nPREFIX oteio:          <https://w3id.org/emmo/domain/oteio#>\\nPREFIX owl:            <http://www.w3.org/2002/07/owl#>\\nPREFIX rdf:            <http://www.w3.org/1999/02/22-rdf-syntax-ns#>\\nPREFIX rdfs:           <http://www.w3.org/2000/01/rdf-schema#>\\nPREFIX schema:         <http://schema.org/>\\nPREFIX skos:           <http://www.w3.org/2004/02/skos/core#>\\nPREFIX swrl:           <http://www.w3.org/2003/11/swrl#>\\nPREFIX xml:            <http://www.w3.org/XML/1998/namespace>\\nPREFIX xsd:            <http://www.w3.org/2001/XMLSchema#>\\n\\nemmo:EMMO_54ee6b5e_5261_44a8_86eb_5717e7fdb9d0\\n        rdf:type          owl:Class;\\n        rdfs:comment      \"The class of general mathematical symbolic objects respecting mathematical syntactic rules.\"@en , \"A mathematical object in this branch is not representing a concept but an actual graphical object built using mathematcal symbols arranged in some way, according to math conventions.\"@en;\\n        rdfs:isDefinedBy  <https://w3id.org/emmo/disciplines/models#>;\\n        rdfs:label        \"Mathematical\"@en;\\n        rdfs:subClassOf   emmo:EMMO_d8d2144e_5c8d_455d_a643_5caf4d8d9df8;\\n        skos:prefLabel    \"Mathematical\"@en;\\n        emmo:EMMO_967080e5_2f42_4eb2_a3a9_c58143e835f9\\n                \"The class of general mathematical symbolic objects respecting mathematical syntactic rules.\"@en;\\n        emmo:EMMO_c7b62dd7_063a_4c2a_8504_42f7264ba83f\\n                \"A mathematical object in this branch is not representing a concept but an actual graphical object built using mathematcal symbols arranged in some way, according to math conventions.\"@en .\\n\\nemmo:EMMO_6e0664f2_4d4d_4407_bf60_e1b3c07198d7\\n        rdf:type          owl:Class;\\n        rdfs:comment      \"This must be a mathematical function v(t), x(t).\\\\nA dataset as solution is a conventional sign.\"@en , \"A function solution of a physics equation that provides a methods for the prediction of some quantitiative properties of an object.\"@en;\\n        rdfs:isDefinedBy  <https://w3id.org/emmo/disciplines/models#>;\\n        rdfs:label        \"PhysicsEquationSolution\"@en;\\n        rdfs:subClassOf   emmo:EMMO_54ee6b5e_5261_44a8_86eb_5717e7fdb9d0;\\n        skos:example      \"A parabolic function is a prediction of the trajectory of a falling object in a gravitational field. While it has predictive capabilities it lacks of an analogical character, since it does not show the law behind that trajectory.\"@en;\\n        skos:prefLabel    \"PhysicsEquationSolution\"@en;\\n        emmo:EMMO_967080e5_2f42_4eb2_a3a9_c58143e835f9\\n                \"A function solution of a physics equation that provides a methods for the prediction of some quantitiative properties of an object.\"@en .\\n'"
      ]
     },
     "execution_count": 15,
     "metadata": {},
     "output_type": "execute_result"
    }
   ],
   "source": [
    "response_text"
   ]
  },
  {
   "cell_type": "code",
   "execution_count": 16,
   "id": "f8edf0d2-3fc2-4bf9-a3e3-4adc1113ae44",
   "metadata": {},
   "outputs": [
    {
     "data": {
      "text/plain": [
       "<Graph identifier=N8ae64cfd5623456d809fe2cc9f01be97 (<class 'rdflib.graph.Graph'>)>"
      ]
     },
     "execution_count": 16,
     "metadata": {},
     "output_type": "execute_result"
    }
   ],
   "source": [
    "g = rdflib.Graph()\n",
    "g.parse(data=response_text, format=\"turtle\")"
   ]
  },
  {
   "cell_type": "code",
   "execution_count": 17,
   "id": "0a6c24e1-9a64-49ab-a3f1-75b09b74e6f5",
   "metadata": {},
   "outputs": [
    {
     "name": "stdout",
     "output_type": "stream",
     "text": [
      "https://w3id.org/emmo#EMMO_6e0664f2_4d4d_4407_bf60_e1b3c07198d7 https://w3id.org/emmo#EMMO_967080e5_2f42_4eb2_a3a9_c58143e835f9 A function solution of a physics equation that provides a methods for the prediction of some quantitiative properties of an object. \n",
      "\n",
      "https://w3id.org/emmo#EMMO_54ee6b5e_5261_44a8_86eb_5717e7fdb9d0 http://www.w3.org/2000/01/rdf-schema#isDefinedBy https://w3id.org/emmo/disciplines/models# \n",
      "\n",
      "https://w3id.org/emmo#EMMO_6e0664f2_4d4d_4407_bf60_e1b3c07198d7 http://www.w3.org/2000/01/rdf-schema#label PhysicsEquationSolution \n",
      "\n",
      "https://w3id.org/emmo#EMMO_54ee6b5e_5261_44a8_86eb_5717e7fdb9d0 http://www.w3.org/2000/01/rdf-schema#label Mathematical \n",
      "\n",
      "https://w3id.org/emmo#EMMO_54ee6b5e_5261_44a8_86eb_5717e7fdb9d0 http://www.w3.org/2004/02/skos/core#prefLabel Mathematical \n",
      "\n",
      "https://w3id.org/emmo#EMMO_54ee6b5e_5261_44a8_86eb_5717e7fdb9d0 http://www.w3.org/2000/01/rdf-schema#comment The class of general mathematical symbolic objects respecting mathematical syntactic rules. \n",
      "\n",
      "https://w3id.org/emmo#EMMO_6e0664f2_4d4d_4407_bf60_e1b3c07198d7 http://www.w3.org/2000/01/rdf-schema#subClassOf https://w3id.org/emmo#EMMO_54ee6b5e_5261_44a8_86eb_5717e7fdb9d0 \n",
      "\n",
      "https://w3id.org/emmo#EMMO_6e0664f2_4d4d_4407_bf60_e1b3c07198d7 http://www.w3.org/2000/01/rdf-schema#isDefinedBy https://w3id.org/emmo/disciplines/models# \n",
      "\n",
      "https://w3id.org/emmo#EMMO_54ee6b5e_5261_44a8_86eb_5717e7fdb9d0 http://www.w3.org/1999/02/22-rdf-syntax-ns#type http://www.w3.org/2002/07/owl#Class \n",
      "\n",
      "https://w3id.org/emmo#EMMO_6e0664f2_4d4d_4407_bf60_e1b3c07198d7 http://www.w3.org/2004/02/skos/core#example A parabolic function is a prediction of the trajectory of a falling object in a gravitational field. While it has predictive capabilities it lacks of an analogical character, since it does not show the law behind that trajectory. \n",
      "\n",
      "https://w3id.org/emmo#EMMO_6e0664f2_4d4d_4407_bf60_e1b3c07198d7 http://www.w3.org/2000/01/rdf-schema#comment A function solution of a physics equation that provides a methods for the prediction of some quantitiative properties of an object. \n",
      "\n",
      "https://w3id.org/emmo#EMMO_6e0664f2_4d4d_4407_bf60_e1b3c07198d7 http://www.w3.org/2004/02/skos/core#prefLabel PhysicsEquationSolution \n",
      "\n",
      "https://w3id.org/emmo#EMMO_54ee6b5e_5261_44a8_86eb_5717e7fdb9d0 https://w3id.org/emmo#EMMO_967080e5_2f42_4eb2_a3a9_c58143e835f9 The class of general mathematical symbolic objects respecting mathematical syntactic rules. \n",
      "\n",
      "https://w3id.org/emmo#EMMO_54ee6b5e_5261_44a8_86eb_5717e7fdb9d0 https://w3id.org/emmo#EMMO_c7b62dd7_063a_4c2a_8504_42f7264ba83f A mathematical object in this branch is not representing a concept but an actual graphical object built using mathematcal symbols arranged in some way, according to math conventions. \n",
      "\n",
      "https://w3id.org/emmo#EMMO_54ee6b5e_5261_44a8_86eb_5717e7fdb9d0 http://www.w3.org/2000/01/rdf-schema#subClassOf https://w3id.org/emmo#EMMO_d8d2144e_5c8d_455d_a643_5caf4d8d9df8 \n",
      "\n",
      "https://w3id.org/emmo#EMMO_54ee6b5e_5261_44a8_86eb_5717e7fdb9d0 http://www.w3.org/2000/01/rdf-schema#comment A mathematical object in this branch is not representing a concept but an actual graphical object built using mathematcal symbols arranged in some way, according to math conventions. \n",
      "\n",
      "https://w3id.org/emmo#EMMO_6e0664f2_4d4d_4407_bf60_e1b3c07198d7 http://www.w3.org/1999/02/22-rdf-syntax-ns#type http://www.w3.org/2002/07/owl#Class \n",
      "\n",
      "https://w3id.org/emmo#EMMO_6e0664f2_4d4d_4407_bf60_e1b3c07198d7 http://www.w3.org/2000/01/rdf-schema#comment This must be a mathematical function v(t), x(t).\n",
      "A dataset as solution is a conventional sign. \n",
      "\n"
     ]
    }
   ],
   "source": [
    "for s, p, o in g:\n",
    "    print(s, p, o, \"\\n\")"
   ]
  },
  {
   "cell_type": "markdown",
   "id": "c23bf4ba-9869-4a50-b410-4c36306be0d3",
   "metadata": {},
   "source": [
    "# Upload the Microstructural Ontology "
   ]
  },
  {
   "cell_type": "code",
   "execution_count": 18,
   "id": "6d962d39-61cc-43d5-8758-bb64607f599a",
   "metadata": {},
   "outputs": [
    {
     "name": "stdout",
     "output_type": "stream",
     "text": [
      "Successfully added 762 triplets to the dataspace default in the knowledge base.\n"
     ]
    },
    {
     "data": {
      "text/plain": [
       "<Response [200]>"
      ]
     },
     "execution_count": 18,
     "metadata": {},
     "output_type": "execute_result"
    }
   ],
   "source": [
    "kb.import_ontology(\"https://raw.githubusercontent.com/emmo-repo/domain-microstructure/master/microstructure.ttl\")"
   ]
  },
  {
   "cell_type": "code",
   "execution_count": 19,
   "id": "bface0cc-7f05-4647-a6b6-6db3e0b62cc1",
   "metadata": {},
   "outputs": [
    {
     "data": {
      "text/plain": [
       "{'datasets': {'/dataset': {'Requests': 5,\n",
       "   'RequestsGood': 5,\n",
       "   'RequestsBad': 0,\n",
       "   'endpoints': {'_1': {'RequestsBad': 0,\n",
       "     'Requests': 0,\n",
       "     'RequestsGood': 0,\n",
       "     'operation': 'gsp-r',\n",
       "     'description': 'Graph Store Protocol (Read)'},\n",
       "    'get': {'RequestsBad': 0,\n",
       "     'Requests': 0,\n",
       "     'RequestsGood': 0,\n",
       "     'operation': 'gsp-r',\n",
       "     'description': 'Graph Store Protocol (Read)'},\n",
       "    '_2': {'RequestsBad': 0,\n",
       "     'Requests': 0,\n",
       "     'RequestsGood': 0,\n",
       "     'operation': 'gsp-rw',\n",
       "     'description': 'Graph Store Protocol'},\n",
       "    'data': {'RequestsBad': 0,\n",
       "     'Requests': 2,\n",
       "     'RequestsGood': 2,\n",
       "     'operation': 'gsp-rw',\n",
       "     'description': 'Graph Store Protocol'},\n",
       "    '_3': {'RequestsBad': 0,\n",
       "     'Requests': 0,\n",
       "     'RequestsGood': 0,\n",
       "     'operation': 'query',\n",
       "     'description': 'SPARQL Query'},\n",
       "    'sparql': {'RequestsBad': 0,\n",
       "     'Requests': 3,\n",
       "     'RequestsGood': 3,\n",
       "     'operation': 'query',\n",
       "     'description': 'SPARQL Query'},\n",
       "    '_4': {'RequestsBad': 0,\n",
       "     'Requests': 0,\n",
       "     'RequestsGood': 0,\n",
       "     'operation': 'update',\n",
       "     'description': 'SPARQL Update'},\n",
       "    'update': {'RequestsBad': 0,\n",
       "     'Requests': 0,\n",
       "     'RequestsGood': 0,\n",
       "     'operation': 'update',\n",
       "     'description': 'SPARQL Update'}}}}}"
      ]
     },
     "execution_count": 19,
     "metadata": {},
     "output_type": "execute_result"
    }
   ],
   "source": [
    "kb.stats()"
   ]
  },
  {
   "cell_type": "code",
   "execution_count": 20,
   "id": "6c72a441-39ed-4f61-a165-f719e5a74f4d",
   "metadata": {},
   "outputs": [],
   "source": [
    "# query to count all triples\n",
    "query = \"\"\"\n",
    "        SELECT (COUNT(*) as ?triplesCount)\n",
    "        WHERE { ?s ?p ?o }\n",
    "        \"\"\""
   ]
  },
  {
   "cell_type": "code",
   "execution_count": 21,
   "id": "1637ced3-18c9-409f-9ee9-0fc0a2b95faf",
   "metadata": {},
   "outputs": [],
   "source": [
    "c=kb.query(query)"
   ]
  },
  {
   "cell_type": "code",
   "execution_count": 22,
   "id": "bba553f2-d9c9-4c5c-bb35-82aabbe350fd",
   "metadata": {},
   "outputs": [
    {
     "data": {
      "text/plain": [
       "{'head': {'vars': ['triplesCount']},\n",
       " 'results': {'bindings': [{'triplesCount': {'type': 'literal',\n",
       "     'datatype': 'http://www.w3.org/2001/XMLSchema#integer',\n",
       "     'value': '121443'}}]}}"
      ]
     },
     "execution_count": 22,
     "metadata": {},
     "output_type": "execute_result"
    }
   ],
   "source": [
    "c.json()"
   ]
  },
  {
   "cell_type": "code",
   "execution_count": 23,
   "id": "ba17994f-0cae-466b-91f6-6f57ae847d21",
   "metadata": {},
   "outputs": [
    {
     "name": "stdout",
     "output_type": "stream",
     "text": [
      "Successfully added 122 triplets to the dataspace default in the knowledge base.\n"
     ]
    }
   ],
   "source": [
    "x=kb.import_ontology(\"https://raw.githubusercontent.com/H2020-OpenModel/OntoFlow/v2.0.0/examples/openmodel_example/openmodel_example.ttl\")"
   ]
  },
  {
   "cell_type": "code",
   "execution_count": null,
   "id": "3fbde5d7-0083-45e0-8513-2e90c2139823",
   "metadata": {},
   "outputs": [],
   "source": []
  },
  {
   "cell_type": "code",
   "execution_count": null,
   "id": "8b55fa1f-7e96-4ba7-8d26-0ac6cc491b73",
   "metadata": {},
   "outputs": [],
   "source": []
  }
 ],
 "metadata": {
  "kernelspec": {
   "display_name": "Python 3 (ipykernel)",
   "language": "python",
   "name": "python3"
  },
  "language_info": {
   "codemirror_mode": {
    "name": "ipython",
    "version": 3
   },
   "file_extension": ".py",
   "mimetype": "text/x-python",
   "name": "python",
   "nbconvert_exporter": "python",
   "pygments_lexer": "ipython3",
   "version": "3.9.13"
  }
 },
 "nbformat": 4,
 "nbformat_minor": 5
}
