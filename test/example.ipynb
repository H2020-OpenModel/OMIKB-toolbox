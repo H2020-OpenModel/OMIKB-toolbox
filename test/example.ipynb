{
 "cells": [
  {
   "cell_type": "code",
   "execution_count": 1,
   "id": "f280633c-b25e-453f-b001-2332acdbe31d",
   "metadata": {},
   "outputs": [],
   "source": [
    "from omikb.omikb import kb_toolbox\n",
    "import json"
   ]
  },
  {
   "cell_type": "code",
   "execution_count": 2,
   "id": "543e7b7a-d759-4152-9321-8d10ac0c4060",
   "metadata": {},
   "outputs": [
    {
     "name": "stdout",
     "output_type": "stream",
     "text": [
      "Hello Usr: Yout access token is obtained: (Showing last 10 digits only) pZFykjZaug\n",
      "Initialised Knowledge Base and OMI access from the jupyter interface for the user:\n",
      "{\n",
      "  \"sub\": \"f8ba08b8-abbc-4aed-91eb-d4b5557d4fc6\",\n",
      "  \"email_verified\": false,\n",
      "  \"name\": \"adham hashibon\",\n",
      "  \"preferred_username\": \"adham\",\n",
      "  \"given_name\": \"adham\",\n",
      "  \"family_name\": \"hashibon\",\n",
      "  \"email\": \"a.hashibon@ucl.ac.uk\"\n",
      "}\n",
      "None\n"
     ]
    }
   ],
   "source": [
    "kb=kb_toolbox()"
   ]
  },
  {
   "cell_type": "code",
   "execution_count": 3,
   "id": "fa6abecd-df53-4343-a670-46a39af70bf3",
   "metadata": {},
   "outputs": [
    {
     "data": {
      "text/plain": [
       "'The OpenModel Knowledge Base is Alive!'"
      ]
     },
     "execution_count": 3,
     "metadata": {},
     "output_type": "execute_result"
    }
   ],
   "source": [
    "kb.ping() # ping the server to see if it is alive"
   ]
  },
  {
   "cell_type": "code",
   "execution_count": 4,
   "id": "b6597f5a-8700-4507-ace3-a092f1d9e4d2",
   "metadata": {},
   "outputs": [
    {
     "data": {
      "text/plain": [
       "True"
      ]
     },
     "execution_count": 4,
     "metadata": {},
     "output_type": "execute_result"
    }
   ],
   "source": [
    "kb.is_online"
   ]
  },
  {
   "cell_type": "code",
   "execution_count": 15,
   "id": "7f65f6d9-e19c-40c3-b15c-406e673a2550",
   "metadata": {},
   "outputs": [
    {
     "name": "stdout",
     "output_type": "stream",
     "text": [
      "{ \n",
      "  \"datasets\" : {\n",
      "      \"/dataset\" : {\n",
      "          \"Requests\" : 94 ,\n",
      "          \"RequestsGood\" : 74 ,\n",
      "          \"RequestsBad\" : 20 ,\n",
      "          \"endpoints\" : {\n",
      "              \"get\" : {\n",
      "                  \"RequestsBad\" : 0 ,\n",
      "                  \"Requests\" : 0 ,\n",
      "                  \"RequestsGood\" : 0 ,\n",
      "                  \"operation\" : \"gsp-r\" ,\n",
      "                  \"description\" : \"Graph Store Protocol (Read)\"\n",
      "                } ,\n",
      "              \"sparql\" : {\n",
      "                  \"RequestsBad\" : 20 ,\n",
      "                  \"Requests\" : 90 ,\n",
      "                  \"RequestsGood\" : 70 ,\n",
      "                  \"operation\" : \"query\" ,\n",
      "                  \"description\" : \"SPARQL Query\"\n",
      "                } ,\n",
      "              \"query\" : {\n",
      "                  \"RequestsBad\" : 0 ,\n",
      "                  \"Requests\" : 0 ,\n",
      "                  \"RequestsGood\" : 0 ,\n",
      "                  \"operation\" : \"query\" ,\n",
      "                  \"description\" : \"SPARQL Query\"\n",
      "                } ,\n",
      "              \"data\" : {\n",
      "                  \"RequestsBad\" : 0 ,\n",
      "                  \"Requests\" : 0 ,\n",
      "                  \"RequestsGood\" : 0 ,\n",
      "                  \"operation\" : \"gsp-rw\" ,\n",
      "                  \"description\" : \"Graph Store Protocol\"\n",
      "                } ,\n",
      "              \"patch\" : {\n",
      "                  \"RequestsBad\" : 0 ,\n",
      "                  \"Requests\" : 0 ,\n",
      "                  \"RequestsGood\" : 0 ,\n",
      "                  \"operation\" : \"patch\" ,\n",
      "                  \"description\" : \"RDF Patch\"\n",
      "                } ,\n",
      "              \"update\" : {\n",
      "                  \"RequestsBad\" : 0 ,\n",
      "                  \"Requests\" : 4 ,\n",
      "                  \"RequestsGood\" : 4 ,\n",
      "                  \"operation\" : \"update\" ,\n",
      "                  \"description\" : \"SPARQL Update\"\n",
      "                }\n",
      "            }\n",
      "        }\n",
      "    }\n",
      "}\n",
      "\n"
     ]
    }
   ],
   "source": [
    "print(kb.stats())\n"
   ]
  },
  {
   "cell_type": "code",
   "execution_count": 6,
   "id": "d1f3b4bb-d1ef-4261-b44a-1b51be14cb12",
   "metadata": {},
   "outputs": [],
   "source": [
    "query = \"\"\"\n",
    "PREFIX ex: <http://example.org/>\n",
    "SELECT ?s ?p ?o\n",
    "WHERE {\n",
    "  ?s ?p ?o .\n",
    "}\n",
    "\"\"\""
   ]
  },
  {
   "cell_type": "code",
   "execution_count": 14,
   "id": "a83d2481-f5da-4244-9851-4108d0c48fc4",
   "metadata": {},
   "outputs": [
    {
     "name": "stdout",
     "output_type": "stream",
     "text": [
      "{ \"head\": {\n",
      "    \"vars\": [ \"s\" , \"p\" , \"o\" ]\n",
      "  } ,\n",
      "  \"results\": {\n",
      "    \"bindings\": [\n",
      "      { \n",
      "        \"s\": { \"type\": \"uri\" , \"value\": \"http://example.org/popa\" } ,\n",
      "        \"p\": { \"type\": \"uri\" , \"value\": \"http://example.org/predicate1\" } ,\n",
      "        \"o\": { \"type\": \"literal\" , \"value\": \"tota\" }\n",
      "      } ,\n",
      "      { \n",
      "        \"s\": { \"type\": \"uri\" , \"value\": \"http://example.org/XXXX\" } ,\n",
      "        \"p\": { \"type\": \"uri\" , \"value\": \"http://example.org/predicate2\" } ,\n",
      "        \"o\": { \"type\": \"literal\" , \"value\": \"TTT\" }\n",
      "      } ,\n",
      "      { \n",
      "        \"s\": { \"type\": \"uri\" , \"value\": \"http://example.org/subject1\" } ,\n",
      "        \"p\": { \"type\": \"uri\" , \"value\": \"http://example.org/predicate1\" } ,\n",
      "        \"o\": { \"type\": \"literal\" , \"value\": \"object1\" }\n",
      "      } ,\n",
      "      { \n",
      "        \"s\": { \"type\": \"uri\" , \"value\": \"http://example.org/subject2\" } ,\n",
      "        \"p\": { \"type\": \"uri\" , \"value\": \"http://example.org/predicate2\" } ,\n",
      "        \"o\": { \"type\": \"literal\" , \"value\": \"object2\" }\n",
      "      } ,\n",
      "      { \n",
      "        \"s\": { \"type\": \"uri\" , \"value\": \"http://example.org/kosa\" } ,\n",
      "        \"p\": { \"type\": \"uri\" , \"value\": \"http://example.org/predicate2\" } ,\n",
      "        \"o\": { \"type\": \"literal\" , \"value\": \"mosa\" }\n",
      "      } ,\n",
      "      { \n",
      "        \"s\": { \"type\": \"uri\" , \"value\": \"http://example.org/person#Charlie\" } ,\n",
      "        \"p\": { \"type\": \"uri\" , \"value\": \"http://example.org/property#name\" } ,\n",
      "        \"o\": { \"type\": \"literal\" , \"value\": \"Charlie\" }\n",
      "      } ,\n",
      "      { \n",
      "        \"s\": { \"type\": \"uri\" , \"value\": \"http://example.org/person#Charlie\" } ,\n",
      "        \"p\": { \"type\": \"uri\" , \"value\": \"http://example.org/property#age\" } ,\n",
      "        \"o\": { \"type\": \"literal\" , \"value\": \"35\" }\n",
      "      }\n",
      "    ]\n",
      "  }\n",
      "}\n",
      "\n"
     ]
    }
   ],
   "source": [
    "r=kb.query(query)\n",
    "print(r.json())"
   ]
  },
  {
   "cell_type": "code",
   "execution_count": 8,
   "id": "78021f4c-05de-4a40-ab0c-3bef9cb3821b",
   "metadata": {},
   "outputs": [],
   "source": [
    "q=\"\"\"SELECT ?g \n",
    "WHERE {\n",
    "  GRAPH ?g { }\n",
    "}\n",
    "\"\"\""
   ]
  },
  {
   "cell_type": "code",
   "execution_count": 16,
   "id": "f27c10a6-8ccf-4ef1-93ea-2d9518effdcb",
   "metadata": {},
   "outputs": [
    {
     "name": "stdout",
     "output_type": "stream",
     "text": [
      "{ \"head\": {\n",
      "    \"vars\": [ \"g\" ]\n",
      "  } ,\n",
      "  \"results\": {\n",
      "    \"bindings\": [\n",
      "      { \n",
      "        \"g\": { \"type\": \"uri\" , \"value\": \"http://example.org/myGraph\" }\n",
      "      }\n",
      "    ]\n",
      "  }\n",
      "}\n",
      "\n"
     ]
    }
   ],
   "source": [
    "r=kb.query(q)\n",
    "print(r.json())"
   ]
  },
  {
   "cell_type": "code",
   "execution_count": 10,
   "id": "d706d3eb-9e99-4ded-8560-cc9448ef1283",
   "metadata": {},
   "outputs": [],
   "source": [
    "from SPARQLWrapper import SPARQLWrapper, JSON, XML, POST, GET"
   ]
  },
  {
   "cell_type": "markdown",
   "id": "fe038572-bd49-47a9-a4d5-2f29222dce77",
   "metadata": {},
   "source": [
    "# Update and insert triplets\n"
   ]
  },
  {
   "cell_type": "code",
   "execution_count": null,
   "id": "ce78cd8d-7307-47b9-8d8d-c6215f1b5d1c",
   "metadata": {},
   "outputs": [],
   "source": [
    "q=\"\"\"\n",
    "PREFIX ex: <http://example.org/property#>\n",
    "PREFIX person: <http://example.org/person#>\n",
    "\n",
    "INSERT DATA {\n",
    "  person:Charlie ex:name \"Charlie\" .\n",
    "  person:Charlie ex:age \"35\" .\n",
    "}\n",
    "\"\"\"\n"
   ]
  },
  {
   "cell_type": "code",
   "execution_count": null,
   "id": "bbe67dcf-5181-4aaf-8a89-7174e9f25ef2",
   "metadata": {},
   "outputs": [],
   "source": [
    "kb.update(q)"
   ]
  },
  {
   "cell_type": "code",
   "execution_count": 17,
   "id": "2702e20c-6e6e-499d-bc78-c6a655ee4d24",
   "metadata": {},
   "outputs": [],
   "source": [
    "q = \"\"\"\n",
    "PREFIX ex: <http://example.org/>\n",
    "PREFIX person: <http://example.org/person#>\n",
    "\n",
    "SELECT ?s ?p ?o\n",
    "WHERE { \n",
    "    person:Charlie ?p ?o .\n",
    "}\n",
    "\"\"\""
   ]
  },
  {
   "cell_type": "code",
   "execution_count": 37,
   "id": "c4cb3d94-c021-4e02-b723-954e8226d892",
   "metadata": {},
   "outputs": [],
   "source": [
    "query = \"\"\"\n",
    "PREFIX ex: <http://example.org/>\n",
    "SELECT ?s ?p ?o\n",
    "WHERE {\n",
    "  ?s ?p ?o .\n",
    "}\n",
    "\"\"\""
   ]
  },
  {
   "cell_type": "code",
   "execution_count": 38,
   "id": "bc867036-43c5-4324-9baa-ffe6eff49c3c",
   "metadata": {},
   "outputs": [],
   "source": [
    "r=kb.query(query)"
   ]
  },
  {
   "cell_type": "code",
   "execution_count": 39,
   "id": "457cb7c5-8513-472e-8cff-f90321a11a35",
   "metadata": {},
   "outputs": [
    {
     "data": {
      "text/plain": [
       "<Response [200]>"
      ]
     },
     "execution_count": 39,
     "metadata": {},
     "output_type": "execute_result"
    }
   ],
   "source": [
    "r"
   ]
  },
  {
   "cell_type": "code",
   "execution_count": 41,
   "id": "b39de5d2-3595-4e9e-8641-8c2b43c649e6",
   "metadata": {},
   "outputs": [
    {
     "data": {
      "text/plain": [
       "{'head': {'vars': ['s', 'p', 'o']},\n",
       " 'results': {'bindings': [{'s': {'type': 'uri',\n",
       "     'value': 'http://example.org/popa'},\n",
       "    'p': {'type': 'uri', 'value': 'http://example.org/predicate1'},\n",
       "    'o': {'type': 'literal', 'value': 'tota'}},\n",
       "   {'s': {'type': 'uri', 'value': 'http://example.org/XXXX'},\n",
       "    'p': {'type': 'uri', 'value': 'http://example.org/predicate2'},\n",
       "    'o': {'type': 'literal', 'value': 'TTT'}},\n",
       "   {'s': {'type': 'uri', 'value': 'http://example.org/subject1'},\n",
       "    'p': {'type': 'uri', 'value': 'http://example.org/predicate1'},\n",
       "    'o': {'type': 'literal', 'value': 'object1'}},\n",
       "   {'s': {'type': 'uri', 'value': 'http://example.org/subject2'},\n",
       "    'p': {'type': 'uri', 'value': 'http://example.org/predicate2'},\n",
       "    'o': {'type': 'literal', 'value': 'object2'}},\n",
       "   {'s': {'type': 'uri', 'value': 'http://example.org/kosa'},\n",
       "    'p': {'type': 'uri', 'value': 'http://example.org/predicate2'},\n",
       "    'o': {'type': 'literal', 'value': 'mosa'}},\n",
       "   {'s': {'type': 'uri', 'value': 'http://example.org/person#Charlie'},\n",
       "    'p': {'type': 'uri', 'value': 'http://example.org/property#name'},\n",
       "    'o': {'type': 'literal', 'value': 'Charlie'}},\n",
       "   {'s': {'type': 'uri', 'value': 'http://example.org/person#Charlie'},\n",
       "    'p': {'type': 'uri', 'value': 'http://example.org/property#age'},\n",
       "    'o': {'type': 'literal', 'value': '35'}}]}}"
      ]
     },
     "execution_count": 41,
     "metadata": {},
     "output_type": "execute_result"
    }
   ],
   "source": [
    "r.json()"
   ]
  },
  {
   "cell_type": "code",
   "execution_count": 32,
   "id": "1a640ed8-4191-4804-8ca6-644f8dfdf57e",
   "metadata": {},
   "outputs": [],
   "source": [
    "q = \"\"\"\n",
    "SELECT ?p ?o\n",
    "WHERE { \n",
    "    <http://example.org/person#Charlie> ?p ?o .\n",
    "}\n",
    "\"\"\""
   ]
  },
  {
   "cell_type": "code",
   "execution_count": 33,
   "id": "702b12e0-0314-4a87-a0ea-64adbdb78478",
   "metadata": {},
   "outputs": [],
   "source": [
    "r=kb.query(q)"
   ]
  },
  {
   "cell_type": "code",
   "execution_count": 34,
   "id": "25c7bba1-8dc6-47f3-9e81-510aeddad89c",
   "metadata": {},
   "outputs": [
    {
     "data": {
      "text/plain": [
       "<Response [200]>"
      ]
     },
     "execution_count": 34,
     "metadata": {},
     "output_type": "execute_result"
    }
   ],
   "source": [
    "r\n"
   ]
  },
  {
   "cell_type": "code",
   "execution_count": 36,
   "id": "94152de4-4e20-4bd4-b33a-e6e6632e9c6c",
   "metadata": {},
   "outputs": [
    {
     "data": {
      "text/plain": [
       "{'head': {'vars': ['p', 'o']},\n",
       " 'results': {'bindings': [{'p': {'type': 'uri',\n",
       "     'value': 'http://example.org/property#name'},\n",
       "    'o': {'type': 'literal', 'value': 'Charlie'}},\n",
       "   {'p': {'type': 'uri', 'value': 'http://example.org/property#age'},\n",
       "    'o': {'type': 'literal', 'value': '35'}}]}}"
      ]
     },
     "execution_count": 36,
     "metadata": {},
     "output_type": "execute_result"
    }
   ],
   "source": [
    "r.json()"
   ]
  },
  {
   "cell_type": "markdown",
   "id": "57774fb5-f298-40dc-8983-9b62890b0196",
   "metadata": {
    "tags": []
   },
   "source": [
    "# Examples using SparqlWrapper\n",
    "## Query and return triplets\n",
    "\n",
    "Note: SPARQLWrapper Does not yet work properly as it cannot handle the OMI proxy! if we do "
   ]
  },
  {
   "cell_type": "code",
   "execution_count": 42,
   "id": "ae10a194-ee6a-4d0e-8aba-1b09cd108ef2",
   "metadata": {},
   "outputs": [
    {
     "data": {
      "text/plain": [
       "'https://openmodel.app/fuseki/dataset/sparql'"
      ]
     },
     "execution_count": 42,
     "metadata": {},
     "output_type": "execute_result"
    }
   ],
   "source": [
    "sparql = SPARQLWrapper(\n",
    "    kb.query_iri\n",
    "    )\n",
    "kb.query_iri  # note this only takes GET methods for now. "
   ]
  },
  {
   "cell_type": "code",
   "execution_count": 43,
   "id": "838c674b-3a35-41c3-8f20-23bba421e106",
   "metadata": {},
   "outputs": [],
   "source": [
    "sparql.setReturnFormat(JSON)"
   ]
  },
  {
   "cell_type": "code",
   "execution_count": 44,
   "id": "cd3d8b7e-403a-4e93-9d5b-04848b1db4a2",
   "metadata": {},
   "outputs": [],
   "source": [
    "ret = sparql.queryAndConvert()"
   ]
  },
  {
   "cell_type": "code",
   "execution_count": 45,
   "id": "0ac9d341-ee9e-41fa-a000-c9f0fd6fca91",
   "metadata": {},
   "outputs": [
    {
     "data": {
      "text/plain": [
       "'SELECT * WHERE{ ?s ?p ?o }'"
      ]
     },
     "execution_count": 45,
     "metadata": {},
     "output_type": "execute_result"
    }
   ],
   "source": [
    "sparql.queryString"
   ]
  },
  {
   "cell_type": "code",
   "execution_count": 46,
   "id": "7d1969ab-6fd9-4375-b07f-52801408f6ab",
   "metadata": {},
   "outputs": [
    {
     "data": {
      "text/plain": [
       "{'head': {'vars': ['s', 'p', 'o']},\n",
       " 'results': {'bindings': [{'s': {'type': 'uri',\n",
       "     'value': 'http://example.org/popa'},\n",
       "    'p': {'type': 'uri', 'value': 'http://example.org/predicate1'},\n",
       "    'o': {'type': 'literal', 'value': 'tota'}},\n",
       "   {'s': {'type': 'uri', 'value': 'http://example.org/XXXX'},\n",
       "    'p': {'type': 'uri', 'value': 'http://example.org/predicate2'},\n",
       "    'o': {'type': 'literal', 'value': 'TTT'}},\n",
       "   {'s': {'type': 'uri', 'value': 'http://example.org/subject1'},\n",
       "    'p': {'type': 'uri', 'value': 'http://example.org/predicate1'},\n",
       "    'o': {'type': 'literal', 'value': 'object1'}},\n",
       "   {'s': {'type': 'uri', 'value': 'http://example.org/subject2'},\n",
       "    'p': {'type': 'uri', 'value': 'http://example.org/predicate2'},\n",
       "    'o': {'type': 'literal', 'value': 'object2'}},\n",
       "   {'s': {'type': 'uri', 'value': 'http://example.org/kosa'},\n",
       "    'p': {'type': 'uri', 'value': 'http://example.org/predicate2'},\n",
       "    'o': {'type': 'literal', 'value': 'mosa'}},\n",
       "   {'s': {'type': 'uri', 'value': 'http://example.org/person#Charlie'},\n",
       "    'p': {'type': 'uri', 'value': 'http://example.org/property#name'},\n",
       "    'o': {'type': 'literal', 'value': 'Charlie'}},\n",
       "   {'s': {'type': 'uri', 'value': 'http://example.org/person#Charlie'},\n",
       "    'p': {'type': 'uri', 'value': 'http://example.org/property#age'},\n",
       "    'o': {'type': 'literal', 'value': '35'}}]}}"
      ]
     },
     "execution_count": 46,
     "metadata": {},
     "output_type": "execute_result"
    }
   ],
   "source": [
    "ret"
   ]
  },
  {
   "cell_type": "code",
   "execution_count": 47,
   "id": "25a5bea5-8073-4990-91f7-f9cd7cb7250b",
   "metadata": {},
   "outputs": [
    {
     "name": "stdout",
     "output_type": "stream",
     "text": [
      "http://example.org/popa ----[ http://example.org/predicate1 ]----> tota\n",
      "http://example.org/XXXX ----[ http://example.org/predicate2 ]----> TTT\n",
      "http://example.org/subject1 ----[ http://example.org/predicate1 ]----> object1\n",
      "http://example.org/subject2 ----[ http://example.org/predicate2 ]----> object2\n",
      "http://example.org/kosa ----[ http://example.org/predicate2 ]----> mosa\n",
      "http://example.org/person#Charlie ----[ http://example.org/property#name ]----> Charlie\n",
      "http://example.org/person#Charlie ----[ http://example.org/property#age ]----> 35\n"
     ]
    }
   ],
   "source": [
    "for r in ret[\"results\"][\"bindings\"]:\n",
    "        print(r['s']['value'], \"----[\", r['p']['value'], \"]---->\", r['o']['value'])"
   ]
  },
  {
   "cell_type": "code",
   "execution_count": null,
   "id": "cdf41635-c047-4778-bbe9-3d488fba61d1",
   "metadata": {},
   "outputs": [],
   "source": [
    "#sparql.setQuery(\"\"\"\n",
    "#    SELECT ?s ?p ?o\n",
    "#    WHERE {\n",
    "#        ?s ?p ?o\n",
    "#    } .\n",
    "#    \"\"\"\n",
    "#)"
   ]
  },
  {
   "cell_type": "code",
   "execution_count": null,
   "id": "0a370afa-c08f-4430-ba84-e1b9f3b3af5f",
   "metadata": {},
   "outputs": [],
   "source": []
  }
 ],
 "metadata": {
  "kernelspec": {
   "display_name": "Python 3 (ipykernel)",
   "language": "python",
   "name": "python3"
  },
  "language_info": {
   "codemirror_mode": {
    "name": "ipython",
    "version": 3
   },
   "file_extension": ".py",
   "mimetype": "text/x-python",
   "name": "python",
   "nbconvert_exporter": "python",
   "pygments_lexer": "ipython3",
   "version": "3.9.13"
  }
 },
 "nbformat": 4,
 "nbformat_minor": 5
}
