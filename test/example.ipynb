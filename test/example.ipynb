{
 "cells": [
  {
   "cell_type": "code",
   "execution_count": 1,
   "id": "f280633c-b25e-453f-b001-2332acdbe31d",
   "metadata": {},
   "outputs": [],
   "source": [
    "from omikb.omikb import kb_toolbox\n",
    "import json"
   ]
  },
  {
   "cell_type": "code",
   "execution_count": 2,
   "id": "543e7b7a-d759-4152-9321-8d10ac0c4060",
   "metadata": {},
   "outputs": [
    {
     "name": "stdout",
     "output_type": "stream",
     "text": [
      "Hello Usr: Yout access token is obtained: (Showing last 10 digits only) pZFykjZaug\n",
      "Initialised Knowledge Base and OMI access from the jupyter interface for the user:\n",
      "{\n",
      "  \"sub\": \"f8ba08b8-abbc-4aed-91eb-d4b5557d4fc6\",\n",
      "  \"email_verified\": false,\n",
      "  \"name\": \"adham hashibon\",\n",
      "  \"preferred_username\": \"adham\",\n",
      "  \"given_name\": \"adham\",\n",
      "  \"family_name\": \"hashibon\",\n",
      "  \"email\": \"a.hashibon@ucl.ac.uk\"\n",
      "}\n",
      "None\n"
     ]
    }
   ],
   "source": [
    "kb=kb_toolbox()"
   ]
  },
  {
   "cell_type": "code",
   "execution_count": 3,
   "id": "fa6abecd-df53-4343-a670-46a39af70bf3",
   "metadata": {},
   "outputs": [
    {
     "data": {
      "text/plain": [
       "'Unexpected status code: 500'"
      ]
     },
     "execution_count": 3,
     "metadata": {},
     "output_type": "execute_result"
    }
   ],
   "source": [
    "kb.ping() # ping the server to see if it is alive"
   ]
  },
  {
   "cell_type": "code",
   "execution_count": 4,
   "id": "b6597f5a-8700-4507-ace3-a092f1d9e4d2",
   "metadata": {},
   "outputs": [
    {
     "data": {
      "text/plain": [
       "False"
      ]
     },
     "execution_count": 4,
     "metadata": {},
     "output_type": "execute_result"
    }
   ],
   "source": [
    "kb.is_online"
   ]
  },
  {
   "cell_type": "code",
   "execution_count": 8,
   "id": "7f65f6d9-e19c-40c3-b15c-406e673a2550",
   "metadata": {},
   "outputs": [
    {
     "data": {
      "text/plain": [
       "{'datasets': {'/dataset': {'Requests': 0,\n",
       "   'RequestsGood': 0,\n",
       "   'RequestsBad': 0,\n",
       "   'endpoints': {'get': {'RequestsBad': 0,\n",
       "     'Requests': 0,\n",
       "     'RequestsGood': 0,\n",
       "     'operation': 'gsp-r',\n",
       "     'description': 'Graph Store Protocol (Read)'},\n",
       "    'sparql': {'RequestsBad': 0,\n",
       "     'Requests': 0,\n",
       "     'RequestsGood': 0,\n",
       "     'operation': 'query',\n",
       "     'description': 'SPARQL Query'},\n",
       "    'query': {'RequestsBad': 0,\n",
       "     'Requests': 0,\n",
       "     'RequestsGood': 0,\n",
       "     'operation': 'query',\n",
       "     'description': 'SPARQL Query'},\n",
       "    'data': {'RequestsBad': 0,\n",
       "     'Requests': 0,\n",
       "     'RequestsGood': 0,\n",
       "     'operation': 'gsp-rw',\n",
       "     'description': 'Graph Store Protocol'},\n",
       "    'patch': {'RequestsBad': 0,\n",
       "     'Requests': 0,\n",
       "     'RequestsGood': 0,\n",
       "     'operation': 'patch',\n",
       "     'description': 'RDF Patch'},\n",
       "    'update': {'RequestsBad': 0,\n",
       "     'Requests': 0,\n",
       "     'RequestsGood': 0,\n",
       "     'operation': 'update',\n",
       "     'description': 'SPARQL Update'}}}}}"
      ]
     },
     "execution_count": 8,
     "metadata": {},
     "output_type": "execute_result"
    }
   ],
   "source": [
    "kb.stats()\n"
   ]
  },
  {
   "cell_type": "code",
   "execution_count": 10,
   "id": "d1f3b4bb-d1ef-4261-b44a-1b51be14cb12",
   "metadata": {},
   "outputs": [],
   "source": [
    "query = \"\"\"\n",
    "PREFIX ex: <http://example.org/>\n",
    "SELECT ?s ?p ?o\n",
    "WHERE {\n",
    "  ?s ?p ?o .\n",
    "}\n",
    "\"\"\""
   ]
  },
  {
   "cell_type": "code",
   "execution_count": 14,
   "id": "a83d2481-f5da-4244-9851-4108d0c48fc4",
   "metadata": {},
   "outputs": [
    {
     "data": {
      "text/plain": [
       "{'head': {'vars': ['s', 'p', 'o']},\n",
       " 'results': {'bindings': [{'s': {'type': 'uri',\n",
       "     'value': 'http://example.org/popa'},\n",
       "    'p': {'type': 'uri', 'value': 'http://example.org/predicate1'},\n",
       "    'o': {'type': 'literal', 'value': 'tota'}},\n",
       "   {'s': {'type': 'uri', 'value': 'http://example.org/XXXX'},\n",
       "    'p': {'type': 'uri', 'value': 'http://example.org/predicate2'},\n",
       "    'o': {'type': 'literal', 'value': 'TTT'}},\n",
       "   {'s': {'type': 'uri', 'value': 'http://example.org/subject1'},\n",
       "    'p': {'type': 'uri', 'value': 'http://example.org/predicate1'},\n",
       "    'o': {'type': 'literal', 'value': 'object1'}},\n",
       "   {'s': {'type': 'uri', 'value': 'http://example.org/subject2'},\n",
       "    'p': {'type': 'uri', 'value': 'http://example.org/predicate2'},\n",
       "    'o': {'type': 'literal', 'value': 'object2'}},\n",
       "   {'s': {'type': 'uri', 'value': 'http://example.org/kosa'},\n",
       "    'p': {'type': 'uri', 'value': 'http://example.org/predicate2'},\n",
       "    'o': {'type': 'literal', 'value': 'mosa'}},\n",
       "   {'s': {'type': 'uri', 'value': 'http://example.org/person#Charlie'},\n",
       "    'p': {'type': 'uri', 'value': 'http://example.org/property#name'},\n",
       "    'o': {'type': 'literal', 'value': 'Charlie'}},\n",
       "   {'s': {'type': 'uri', 'value': 'http://example.org/person#Charlie'},\n",
       "    'p': {'type': 'uri', 'value': 'http://example.org/property#age'},\n",
       "    'o': {'type': 'literal', 'value': '35'}}]}}"
      ]
     },
     "execution_count": 14,
     "metadata": {},
     "output_type": "execute_result"
    }
   ],
   "source": [
    "r=kb.query(query)\n",
    "r.json()"
   ]
  },
  {
   "cell_type": "code",
   "execution_count": 15,
   "id": "78021f4c-05de-4a40-ab0c-3bef9cb3821b",
   "metadata": {},
   "outputs": [],
   "source": [
    "q=\"\"\"SELECT ?g \n",
    "WHERE {\n",
    "  GRAPH ?g { }\n",
    "}\n",
    "\"\"\""
   ]
  },
  {
   "cell_type": "code",
   "execution_count": 18,
   "id": "f27c10a6-8ccf-4ef1-93ea-2d9518effdcb",
   "metadata": {},
   "outputs": [
    {
     "data": {
      "text/plain": [
       "{'head': {'vars': ['g']},\n",
       " 'results': {'bindings': [{'g': {'type': 'uri',\n",
       "     'value': 'http://example.org/myGraph'}}]}}"
      ]
     },
     "execution_count": 18,
     "metadata": {},
     "output_type": "execute_result"
    }
   ],
   "source": [
    "r=kb.query(q)\n",
    "r.json()"
   ]
  },
  {
   "cell_type": "code",
   "execution_count": 22,
   "id": "d706d3eb-9e99-4ded-8560-cc9448ef1283",
   "metadata": {},
   "outputs": [],
   "source": [
    "from SPARQLWrapper import SPARQLWrapper, JSON"
   ]
  },
  {
   "cell_type": "code",
   "execution_count": 24,
   "id": "ae10a194-ee6a-4d0e-8aba-1b09cd108ef2",
   "metadata": {},
   "outputs": [],
   "source": [
    "sparql = SPARQLWrapper(\n",
    "    kb.query_iri\n",
    "    )"
   ]
  },
  {
   "cell_type": "code",
   "execution_count": 25,
   "id": "838c674b-3a35-41c3-8f20-23bba421e106",
   "metadata": {},
   "outputs": [],
   "source": [
    "sparql.setReturnFormat(JSON)"
   ]
  },
  {
   "cell_type": "code",
   "execution_count": 26,
   "id": "cd3d8b7e-403a-4e93-9d5b-04848b1db4a2",
   "metadata": {},
   "outputs": [],
   "source": [
    "ret = sparql.queryAndConvert()"
   ]
  },
  {
   "cell_type": "code",
   "execution_count": 27,
   "id": "7d1969ab-6fd9-4375-b07f-52801408f6ab",
   "metadata": {},
   "outputs": [
    {
     "data": {
      "text/plain": [
       "{'head': {'vars': ['s', 'p', 'o']},\n",
       " 'results': {'bindings': [{'s': {'type': 'uri',\n",
       "     'value': 'http://example.org/popa'},\n",
       "    'p': {'type': 'uri', 'value': 'http://example.org/predicate1'},\n",
       "    'o': {'type': 'literal', 'value': 'tota'}},\n",
       "   {'s': {'type': 'uri', 'value': 'http://example.org/XXXX'},\n",
       "    'p': {'type': 'uri', 'value': 'http://example.org/predicate2'},\n",
       "    'o': {'type': 'literal', 'value': 'TTT'}},\n",
       "   {'s': {'type': 'uri', 'value': 'http://example.org/subject1'},\n",
       "    'p': {'type': 'uri', 'value': 'http://example.org/predicate1'},\n",
       "    'o': {'type': 'literal', 'value': 'object1'}},\n",
       "   {'s': {'type': 'uri', 'value': 'http://example.org/subject2'},\n",
       "    'p': {'type': 'uri', 'value': 'http://example.org/predicate2'},\n",
       "    'o': {'type': 'literal', 'value': 'object2'}},\n",
       "   {'s': {'type': 'uri', 'value': 'http://example.org/kosa'},\n",
       "    'p': {'type': 'uri', 'value': 'http://example.org/predicate2'},\n",
       "    'o': {'type': 'literal', 'value': 'mosa'}},\n",
       "   {'s': {'type': 'uri', 'value': 'http://example.org/person#Charlie'},\n",
       "    'p': {'type': 'uri', 'value': 'http://example.org/property#name'},\n",
       "    'o': {'type': 'literal', 'value': 'Charlie'}},\n",
       "   {'s': {'type': 'uri', 'value': 'http://example.org/person#Charlie'},\n",
       "    'p': {'type': 'uri', 'value': 'http://example.org/property#age'},\n",
       "    'o': {'type': 'literal', 'value': '35'}}]}}"
      ]
     },
     "execution_count": 27,
     "metadata": {},
     "output_type": "execute_result"
    }
   ],
   "source": [
    "ret"
   ]
  },
  {
   "cell_type": "code",
   "execution_count": 31,
   "id": "25a5bea5-8073-4990-91f7-f9cd7cb7250b",
   "metadata": {},
   "outputs": [
    {
     "name": "stdout",
     "output_type": "stream",
     "text": [
      "http://example.org/popa ---  http://example.org/predicate1 ---> tota\n",
      "http://example.org/XXXX ---  http://example.org/predicate2 ---> TTT\n",
      "http://example.org/subject1 ---  http://example.org/predicate1 ---> object1\n",
      "http://example.org/subject2 ---  http://example.org/predicate2 ---> object2\n",
      "http://example.org/kosa ---  http://example.org/predicate2 ---> mosa\n",
      "http://example.org/person#Charlie ---  http://example.org/property#name ---> Charlie\n",
      "http://example.org/person#Charlie ---  http://example.org/property#age ---> 35\n"
     ]
    }
   ],
   "source": [
    "for r in ret[\"results\"][\"bindings\"]:\n",
    "        print(r['s']['value'], \"--- \", r['p']['value'], \"--->\", r['o']['value'])"
   ]
  },
  {
   "cell_type": "code",
   "execution_count": null,
   "id": "ce9c3049-7405-4a3e-b535-5b02b0de098e",
   "metadata": {},
   "outputs": [],
   "source": []
  }
 ],
 "metadata": {
  "kernelspec": {
   "display_name": "Python 3 (ipykernel)",
   "language": "python",
   "name": "python3"
  },
  "language_info": {
   "codemirror_mode": {
    "name": "ipython",
    "version": 3
   },
   "file_extension": ".py",
   "mimetype": "text/x-python",
   "name": "python",
   "nbconvert_exporter": "python",
   "pygments_lexer": "ipython3",
   "version": "3.9.13"
  }
 },
 "nbformat": 4,
 "nbformat_minor": 5
}
