{
 "cells": [
  {
   "cell_type": "code",
   "execution_count": 2,
   "id": "f280633c-b25e-453f-b001-2332acdbe31d",
   "metadata": {},
   "outputs": [],
   "source": [
    "from omikb.omikb import kb_toolbox\n",
    "import json\n",
    "import rdflib\n",
    "from typing import Union\n"
   ]
  },
  {
   "cell_type": "code",
   "execution_count": 3,
   "id": "543e7b7a-d759-4152-9321-8d10ac0c4060",
   "metadata": {},
   "outputs": [
    {
     "name": "stdout",
     "output_type": "stream",
     "text": [
      "Hello Usr: Yout access token is obtained: (Showing last 10 digits only) pZFykjZaug\n",
      "Initialised Knowledge Base and OMI access from the jupyter interface for the user:\n",
      "{\n",
      "  \"sub\": \"f8ba08b8-abbc-4aed-91eb-d4b5557d4fc6\",\n",
      "  \"email_verified\": false,\n",
      "  \"name\": \"adham hashibon\",\n",
      "  \"preferred_username\": \"adham\",\n",
      "  \"given_name\": \"adham\",\n",
      "  \"family_name\": \"hashibon\",\n",
      "  \"email\": \"a.hashibon@ucl.ac.uk\"\n",
      "}\n",
      "None\n"
     ]
    }
   ],
   "source": [
    "kb=kb_toolbox()"
   ]
  },
  {
   "cell_type": "code",
   "execution_count": 4,
   "id": "fa6abecd-df53-4343-a670-46a39af70bf3",
   "metadata": {},
   "outputs": [
    {
     "data": {
      "text/plain": [
       "'The OpenModel Knowledge Base is Alive!'"
      ]
     },
     "execution_count": 4,
     "metadata": {},
     "output_type": "execute_result"
    }
   ],
   "source": [
    "kb.ping() # ping the server to see if it is alive"
   ]
  },
  {
   "cell_type": "code",
   "execution_count": 5,
   "id": "b6597f5a-8700-4507-ace3-a092f1d9e4d2",
   "metadata": {},
   "outputs": [
    {
     "data": {
      "text/plain": [
       "True"
      ]
     },
     "execution_count": 5,
     "metadata": {},
     "output_type": "execute_result"
    }
   ],
   "source": [
    "kb.is_online"
   ]
  },
  {
   "cell_type": "code",
   "execution_count": 6,
   "id": "7f65f6d9-e19c-40c3-b15c-406e673a2550",
   "metadata": {},
   "outputs": [
    {
     "data": {
      "text/plain": [
       "{'datasets': {'/dataset': {'Requests': 129,\n",
       "   'RequestsGood': 108,\n",
       "   'RequestsBad': 21,\n",
       "   'endpoints': {'get': {'RequestsBad': 0,\n",
       "     'Requests': 0,\n",
       "     'RequestsGood': 0,\n",
       "     'operation': 'gsp-r',\n",
       "     'description': 'Graph Store Protocol (Read)'},\n",
       "    'sparql': {'RequestsBad': 21,\n",
       "     'Requests': 122,\n",
       "     'RequestsGood': 101,\n",
       "     'operation': 'query',\n",
       "     'description': 'SPARQL Query'},\n",
       "    'query': {'RequestsBad': 0,\n",
       "     'Requests': 0,\n",
       "     'RequestsGood': 0,\n",
       "     'operation': 'query',\n",
       "     'description': 'SPARQL Query'},\n",
       "    'data': {'RequestsBad': 0,\n",
       "     'Requests': 0,\n",
       "     'RequestsGood': 0,\n",
       "     'operation': 'gsp-rw',\n",
       "     'description': 'Graph Store Protocol'},\n",
       "    'patch': {'RequestsBad': 0,\n",
       "     'Requests': 0,\n",
       "     'RequestsGood': 0,\n",
       "     'operation': 'patch',\n",
       "     'description': 'RDF Patch'},\n",
       "    'update': {'RequestsBad': 0,\n",
       "     'Requests': 7,\n",
       "     'RequestsGood': 7,\n",
       "     'operation': 'update',\n",
       "     'description': 'SPARQL Update'}}}}}"
      ]
     },
     "execution_count": 6,
     "metadata": {},
     "output_type": "execute_result"
    }
   ],
   "source": [
    "kb.stats()"
   ]
  },
  {
   "cell_type": "code",
   "execution_count": 7,
   "id": "d1f3b4bb-d1ef-4261-b44a-1b51be14cb12",
   "metadata": {},
   "outputs": [],
   "source": [
    "query = \"\"\"\n",
    "PREFIX ex: <http://example.org/>\n",
    "SELECT ?s ?p ?o\n",
    "WHERE {\n",
    "  ?s ?p ?o .\n",
    "}\n",
    "\"\"\""
   ]
  },
  {
   "cell_type": "code",
   "execution_count": 8,
   "id": "a83d2481-f5da-4244-9851-4108d0c48fc4",
   "metadata": {},
   "outputs": [
    {
     "data": {
      "text/plain": [
       "{'head': {'vars': ['s', 'p', 'o']},\n",
       " 'results': {'bindings': [{'s': {'type': 'uri',\n",
       "     'value': 'http://example.org/popa'},\n",
       "    'p': {'type': 'uri', 'value': 'http://example.org/predicate1'},\n",
       "    'o': {'type': 'literal', 'value': 'tota'}},\n",
       "   {'s': {'type': 'uri', 'value': 'http://example.org/XXXX'},\n",
       "    'p': {'type': 'uri', 'value': 'http://example.org/predicate2'},\n",
       "    'o': {'type': 'literal', 'value': 'TTT'}},\n",
       "   {'s': {'type': 'uri', 'value': 'http://example.org/subject1'},\n",
       "    'p': {'type': 'uri', 'value': 'http://example.org/predicate1'},\n",
       "    'o': {'type': 'literal', 'value': 'object1'}},\n",
       "   {'s': {'type': 'uri', 'value': 'http://example.org/subject2'},\n",
       "    'p': {'type': 'uri', 'value': 'http://example.org/predicate2'},\n",
       "    'o': {'type': 'literal', 'value': 'object2'}},\n",
       "   {'s': {'type': 'uri', 'value': 'http://example.org/kosa'},\n",
       "    'p': {'type': 'uri', 'value': 'http://example.org/predicate2'},\n",
       "    'o': {'type': 'literal', 'value': 'mosa'}},\n",
       "   {'s': {'type': 'uri', 'value': 'http://example.org/person#Charlie'},\n",
       "    'p': {'type': 'uri', 'value': 'http://example.org/property#name'},\n",
       "    'o': {'type': 'literal', 'value': 'Charlie'}},\n",
       "   {'s': {'type': 'uri', 'value': 'http://example.org/person#Charlie'},\n",
       "    'p': {'type': 'uri', 'value': 'http://example.org/property#age'},\n",
       "    'o': {'type': 'literal', 'value': '35'}}]}}"
      ]
     },
     "execution_count": 8,
     "metadata": {},
     "output_type": "execute_result"
    }
   ],
   "source": [
    "r=kb.query(query)\n",
    "r.json()"
   ]
  },
  {
   "cell_type": "code",
   "execution_count": 9,
   "id": "78021f4c-05de-4a40-ab0c-3bef9cb3821b",
   "metadata": {},
   "outputs": [],
   "source": [
    "q=\"\"\"SELECT ?g \n",
    "WHERE {\n",
    "  GRAPH ?g { }\n",
    "}\n",
    "\"\"\""
   ]
  },
  {
   "cell_type": "code",
   "execution_count": 10,
   "id": "f27c10a6-8ccf-4ef1-93ea-2d9518effdcb",
   "metadata": {},
   "outputs": [
    {
     "data": {
      "text/plain": [
       "{'head': {'vars': ['g']},\n",
       " 'results': {'bindings': [{'g': {'type': 'uri',\n",
       "     'value': 'http://example.org/myGraph'}}]}}"
      ]
     },
     "execution_count": 10,
     "metadata": {},
     "output_type": "execute_result"
    }
   ],
   "source": [
    "r=kb.query(q)\n",
    "r.json()"
   ]
  },
  {
   "cell_type": "code",
   "execution_count": 11,
   "id": "d706d3eb-9e99-4ded-8560-cc9448ef1283",
   "metadata": {},
   "outputs": [],
   "source": [
    "from SPARQLWrapper import SPARQLWrapper, JSON, XML, POST, GET"
   ]
  },
  {
   "cell_type": "markdown",
   "id": "fe038572-bd49-47a9-a4d5-2f29222dce77",
   "metadata": {},
   "source": [
    "# Update and insert triplets\n"
   ]
  },
  {
   "cell_type": "code",
   "execution_count": 12,
   "id": "ce78cd8d-7307-47b9-8d8d-c6215f1b5d1c",
   "metadata": {},
   "outputs": [],
   "source": [
    "q=\"\"\"\n",
    "PREFIX ex: <http://example.org/property#>\n",
    "PREFIX person: <http://example.org/person#>\n",
    "\n",
    "INSERT DATA {\n",
    "  person:Charlie ex:name \"Charlie\" .\n",
    "  person:Charlie ex:age \"35\" .\n",
    "}\n",
    "\"\"\"\n"
   ]
  },
  {
   "cell_type": "code",
   "execution_count": 13,
   "id": "bbe67dcf-5181-4aaf-8a89-7174e9f25ef2",
   "metadata": {},
   "outputs": [
    {
     "name": "stdout",
     "output_type": "stream",
     "text": [
      "SPARQL update executed successfully.\n"
     ]
    }
   ],
   "source": [
    "kb.update(q)"
   ]
  },
  {
   "cell_type": "code",
   "execution_count": 14,
   "id": "2702e20c-6e6e-499d-bc78-c6a655ee4d24",
   "metadata": {},
   "outputs": [],
   "source": [
    "q = \"\"\"\n",
    "PREFIX ex: <http://example.org/>\n",
    "PREFIX person: <http://example.org/person#>\n",
    "\n",
    "SELECT ?s ?p ?o\n",
    "WHERE { \n",
    "    person:Charlie ?p ?o .\n",
    "}\n",
    "\"\"\""
   ]
  },
  {
   "cell_type": "code",
   "execution_count": 15,
   "id": "c4cb3d94-c021-4e02-b723-954e8226d892",
   "metadata": {},
   "outputs": [],
   "source": [
    "query = \"\"\"\n",
    "PREFIX ex: <http://example.org/>\n",
    "SELECT ?s ?p ?o\n",
    "WHERE {\n",
    "  ?s ?p ?o .\n",
    "}\n",
    "\"\"\""
   ]
  },
  {
   "cell_type": "code",
   "execution_count": 16,
   "id": "bc867036-43c5-4324-9baa-ffe6eff49c3c",
   "metadata": {},
   "outputs": [],
   "source": [
    "r=kb.query(query)"
   ]
  },
  {
   "cell_type": "code",
   "execution_count": 17,
   "id": "457cb7c5-8513-472e-8cff-f90321a11a35",
   "metadata": {},
   "outputs": [
    {
     "data": {
      "text/plain": [
       "<Response [200]>"
      ]
     },
     "execution_count": 17,
     "metadata": {},
     "output_type": "execute_result"
    }
   ],
   "source": [
    "r"
   ]
  },
  {
   "cell_type": "code",
   "execution_count": 18,
   "id": "b39de5d2-3595-4e9e-8641-8c2b43c649e6",
   "metadata": {},
   "outputs": [
    {
     "data": {
      "text/plain": [
       "{'head': {'vars': ['s', 'p', 'o']},\n",
       " 'results': {'bindings': [{'s': {'type': 'uri',\n",
       "     'value': 'http://example.org/popa'},\n",
       "    'p': {'type': 'uri', 'value': 'http://example.org/predicate1'},\n",
       "    'o': {'type': 'literal', 'value': 'tota'}},\n",
       "   {'s': {'type': 'uri', 'value': 'http://example.org/XXXX'},\n",
       "    'p': {'type': 'uri', 'value': 'http://example.org/predicate2'},\n",
       "    'o': {'type': 'literal', 'value': 'TTT'}},\n",
       "   {'s': {'type': 'uri', 'value': 'http://example.org/subject1'},\n",
       "    'p': {'type': 'uri', 'value': 'http://example.org/predicate1'},\n",
       "    'o': {'type': 'literal', 'value': 'object1'}},\n",
       "   {'s': {'type': 'uri', 'value': 'http://example.org/subject2'},\n",
       "    'p': {'type': 'uri', 'value': 'http://example.org/predicate2'},\n",
       "    'o': {'type': 'literal', 'value': 'object2'}},\n",
       "   {'s': {'type': 'uri', 'value': 'http://example.org/kosa'},\n",
       "    'p': {'type': 'uri', 'value': 'http://example.org/predicate2'},\n",
       "    'o': {'type': 'literal', 'value': 'mosa'}},\n",
       "   {'s': {'type': 'uri', 'value': 'http://example.org/person#Charlie'},\n",
       "    'p': {'type': 'uri', 'value': 'http://example.org/property#name'},\n",
       "    'o': {'type': 'literal', 'value': 'Charlie'}},\n",
       "   {'s': {'type': 'uri', 'value': 'http://example.org/person#Charlie'},\n",
       "    'p': {'type': 'uri', 'value': 'http://example.org/property#age'},\n",
       "    'o': {'type': 'literal', 'value': '35'}}]}}"
      ]
     },
     "execution_count": 18,
     "metadata": {},
     "output_type": "execute_result"
    }
   ],
   "source": [
    "r.json()"
   ]
  },
  {
   "cell_type": "code",
   "execution_count": 19,
   "id": "1a640ed8-4191-4804-8ca6-644f8dfdf57e",
   "metadata": {},
   "outputs": [],
   "source": [
    "q = \"\"\"\n",
    "SELECT ?p ?o\n",
    "WHERE { \n",
    "    <http://example.org/person#Charlie> ?p ?o .\n",
    "}\n",
    "\"\"\""
   ]
  },
  {
   "cell_type": "code",
   "execution_count": 20,
   "id": "702b12e0-0314-4a87-a0ea-64adbdb78478",
   "metadata": {},
   "outputs": [],
   "source": [
    "r=kb.query(q)"
   ]
  },
  {
   "cell_type": "code",
   "execution_count": 21,
   "id": "25c7bba1-8dc6-47f3-9e81-510aeddad89c",
   "metadata": {},
   "outputs": [
    {
     "data": {
      "text/plain": [
       "<Response [200]>"
      ]
     },
     "execution_count": 21,
     "metadata": {},
     "output_type": "execute_result"
    }
   ],
   "source": [
    "r\n"
   ]
  },
  {
   "cell_type": "code",
   "execution_count": 22,
   "id": "94152de4-4e20-4bd4-b33a-e6e6632e9c6c",
   "metadata": {},
   "outputs": [
    {
     "data": {
      "text/plain": [
       "{'head': {'vars': ['p', 'o']},\n",
       " 'results': {'bindings': [{'p': {'type': 'uri',\n",
       "     'value': 'http://example.org/property#name'},\n",
       "    'o': {'type': 'literal', 'value': 'Charlie'}},\n",
       "   {'p': {'type': 'uri', 'value': 'http://example.org/property#age'},\n",
       "    'o': {'type': 'literal', 'value': '35'}}]}}"
      ]
     },
     "execution_count": 22,
     "metadata": {},
     "output_type": "execute_result"
    }
   ],
   "source": [
    "r.json()"
   ]
  },
  {
   "cell_type": "code",
   "execution_count": 23,
   "id": "9c62b6cf-0cb9-4922-a8d1-906a8c9274eb",
   "metadata": {},
   "outputs": [],
   "source": [
    "# counting triplets"
   ]
  },
  {
   "cell_type": "code",
   "execution_count": 24,
   "id": "ad02edcd-445b-4c0c-a9b5-113d288d1c89",
   "metadata": {},
   "outputs": [],
   "source": [
    "query = \"\"\"\n",
    "        SELECT (COUNT(*) as ?triplesCount)\n",
    "        WHERE { ?s ?p ?o }\n",
    "        \"\"\""
   ]
  },
  {
   "cell_type": "code",
   "execution_count": 25,
   "id": "2e541952-1516-477f-9a5f-1c7c8786db66",
   "metadata": {},
   "outputs": [],
   "source": [
    "r=kb.query(query)"
   ]
  },
  {
   "cell_type": "code",
   "execution_count": 26,
   "id": "6b3863bb-78b4-4688-a42b-d51f284e34bf",
   "metadata": {},
   "outputs": [
    {
     "data": {
      "text/plain": [
       "{'head': {'vars': ['triplesCount']},\n",
       " 'results': {'bindings': [{'triplesCount': {'type': 'literal',\n",
       "     'datatype': 'http://www.w3.org/2001/XMLSchema#integer',\n",
       "     'value': '7'}}]}}"
      ]
     },
     "execution_count": 26,
     "metadata": {},
     "output_type": "execute_result"
    }
   ],
   "source": [
    "r.json()"
   ]
  },
  {
   "cell_type": "markdown",
   "id": "59feb532-bd41-4887-b6b8-2287b168991d",
   "metadata": {},
   "source": [
    "## Searching by Keyword\n"
   ]
  },
  {
   "cell_type": "code",
   "execution_count": 27,
   "id": "8d5b1346-daa2-408a-ac28-85dae9d4d5d7",
   "metadata": {},
   "outputs": [],
   "source": [
    "r=kb.search_keyword('Charlie')"
   ]
  },
  {
   "cell_type": "code",
   "execution_count": 28,
   "id": "cac0ac29-9232-472d-8019-db078aa7d7b9",
   "metadata": {},
   "outputs": [
    {
     "data": {
      "text/plain": [
       "{'head': {'vars': ['s', 'p', 'o']},\n",
       " 'results': {'bindings': [{'s': {'type': 'uri',\n",
       "     'value': 'http://example.org/person#Charlie'},\n",
       "    'p': {'type': 'uri', 'value': 'http://example.org/property#name'},\n",
       "    'o': {'type': 'literal', 'value': 'Charlie'}},\n",
       "   {'s': {'type': 'uri', 'value': 'http://example.org/person#Charlie'},\n",
       "    'p': {'type': 'uri', 'value': 'http://example.org/property#age'},\n",
       "    'o': {'type': 'literal', 'value': '35'}}]}}"
      ]
     },
     "execution_count": 28,
     "metadata": {},
     "output_type": "execute_result"
    }
   ],
   "source": [
    "r.json()"
   ]
  },
  {
   "cell_type": "markdown",
   "id": "57774fb5-f298-40dc-8983-9b62890b0196",
   "metadata": {
    "tags": []
   },
   "source": [
    "# Examples using SparqlWrapper\n",
    "## Query and return triplets\n",
    "\n",
    "Note: SPARQLWrapper Does not yet work properly as it cannot handle the OMI proxy! if we do "
   ]
  },
  {
   "cell_type": "code",
   "execution_count": 29,
   "id": "ae10a194-ee6a-4d0e-8aba-1b09cd108ef2",
   "metadata": {},
   "outputs": [
    {
     "data": {
      "text/plain": [
       "'https://openmodel.app/fuseki/dataset/sparql'"
      ]
     },
     "execution_count": 29,
     "metadata": {},
     "output_type": "execute_result"
    }
   ],
   "source": [
    "sparql = SPARQLWrapper(\n",
    "    kb.query_iri\n",
    "    )\n",
    "kb.query_iri  # note this only takes GET methods for now. "
   ]
  },
  {
   "cell_type": "code",
   "execution_count": 30,
   "id": "838c674b-3a35-41c3-8f20-23bba421e106",
   "metadata": {},
   "outputs": [],
   "source": [
    "sparql.setReturnFormat(JSON)"
   ]
  },
  {
   "cell_type": "code",
   "execution_count": 31,
   "id": "cd3d8b7e-403a-4e93-9d5b-04848b1db4a2",
   "metadata": {},
   "outputs": [],
   "source": [
    "ret = sparql.queryAndConvert()"
   ]
  },
  {
   "cell_type": "code",
   "execution_count": 32,
   "id": "0ac9d341-ee9e-41fa-a000-c9f0fd6fca91",
   "metadata": {},
   "outputs": [
    {
     "data": {
      "text/plain": [
       "'SELECT * WHERE{ ?s ?p ?o }'"
      ]
     },
     "execution_count": 32,
     "metadata": {},
     "output_type": "execute_result"
    }
   ],
   "source": [
    "sparql.queryString"
   ]
  },
  {
   "cell_type": "code",
   "execution_count": 33,
   "id": "7d1969ab-6fd9-4375-b07f-52801408f6ab",
   "metadata": {},
   "outputs": [
    {
     "data": {
      "text/plain": [
       "{'head': {'vars': ['s', 'p', 'o']},\n",
       " 'results': {'bindings': [{'s': {'type': 'uri',\n",
       "     'value': 'http://example.org/popa'},\n",
       "    'p': {'type': 'uri', 'value': 'http://example.org/predicate1'},\n",
       "    'o': {'type': 'literal', 'value': 'tota'}},\n",
       "   {'s': {'type': 'uri', 'value': 'http://example.org/XXXX'},\n",
       "    'p': {'type': 'uri', 'value': 'http://example.org/predicate2'},\n",
       "    'o': {'type': 'literal', 'value': 'TTT'}},\n",
       "   {'s': {'type': 'uri', 'value': 'http://example.org/subject1'},\n",
       "    'p': {'type': 'uri', 'value': 'http://example.org/predicate1'},\n",
       "    'o': {'type': 'literal', 'value': 'object1'}},\n",
       "   {'s': {'type': 'uri', 'value': 'http://example.org/subject2'},\n",
       "    'p': {'type': 'uri', 'value': 'http://example.org/predicate2'},\n",
       "    'o': {'type': 'literal', 'value': 'object2'}},\n",
       "   {'s': {'type': 'uri', 'value': 'http://example.org/kosa'},\n",
       "    'p': {'type': 'uri', 'value': 'http://example.org/predicate2'},\n",
       "    'o': {'type': 'literal', 'value': 'mosa'}},\n",
       "   {'s': {'type': 'uri', 'value': 'http://example.org/person#Charlie'},\n",
       "    'p': {'type': 'uri', 'value': 'http://example.org/property#name'},\n",
       "    'o': {'type': 'literal', 'value': 'Charlie'}},\n",
       "   {'s': {'type': 'uri', 'value': 'http://example.org/person#Charlie'},\n",
       "    'p': {'type': 'uri', 'value': 'http://example.org/property#age'},\n",
       "    'o': {'type': 'literal', 'value': '35'}}]}}"
      ]
     },
     "execution_count": 33,
     "metadata": {},
     "output_type": "execute_result"
    }
   ],
   "source": [
    "ret"
   ]
  },
  {
   "cell_type": "code",
   "execution_count": 34,
   "id": "25a5bea5-8073-4990-91f7-f9cd7cb7250b",
   "metadata": {},
   "outputs": [
    {
     "name": "stdout",
     "output_type": "stream",
     "text": [
      "http://example.org/popa ----[ http://example.org/predicate1 ]----> tota\n",
      "http://example.org/XXXX ----[ http://example.org/predicate2 ]----> TTT\n",
      "http://example.org/subject1 ----[ http://example.org/predicate1 ]----> object1\n",
      "http://example.org/subject2 ----[ http://example.org/predicate2 ]----> object2\n",
      "http://example.org/kosa ----[ http://example.org/predicate2 ]----> mosa\n",
      "http://example.org/person#Charlie ----[ http://example.org/property#name ]----> Charlie\n",
      "http://example.org/person#Charlie ----[ http://example.org/property#age ]----> 35\n"
     ]
    }
   ],
   "source": [
    "for r in ret[\"results\"][\"bindings\"]:\n",
    "        print(r['s']['value'], \"----[\", r['p']['value'], \"]---->\", r['o']['value'])"
   ]
  },
  {
   "cell_type": "code",
   "execution_count": 35,
   "id": "cdf41635-c047-4778-bbe9-3d488fba61d1",
   "metadata": {},
   "outputs": [],
   "source": [
    "sparql.setQuery(q)"
   ]
  },
  {
   "cell_type": "code",
   "execution_count": 36,
   "id": "0a370afa-c08f-4430-ba84-e1b9f3b3af5f",
   "metadata": {},
   "outputs": [],
   "source": [
    "ret = sparql.queryAndConvert()"
   ]
  },
  {
   "cell_type": "code",
   "execution_count": 37,
   "id": "2a9b5c8b-7e9c-4249-951a-de455b03d1a4",
   "metadata": {},
   "outputs": [
    {
     "data": {
      "text/plain": [
       "{'head': {'vars': ['p', 'o']},\n",
       " 'results': {'bindings': [{'p': {'type': 'uri',\n",
       "     'value': 'http://example.org/property#name'},\n",
       "    'o': {'type': 'literal', 'value': 'Charlie'}},\n",
       "   {'p': {'type': 'uri', 'value': 'http://example.org/property#age'},\n",
       "    'o': {'type': 'literal', 'value': '35'}}]}}"
      ]
     },
     "execution_count": 37,
     "metadata": {},
     "output_type": "execute_result"
    }
   ],
   "source": [
    "ret"
   ]
  },
  {
   "cell_type": "markdown",
   "id": "25c6cdd4-036a-47d4-a897-503e2093b8a6",
   "metadata": {},
   "source": [
    "# Importing Ontology Files \n",
    "\n",
    "Note: we can support ctalouge and import files, as well as reasoning, but for now, ontology files should be uploaded one by one.\n",
    "\n",
    "for example if ontology X uses (imports) ontology Y, simply upload X (without the import) and X. \n",
    "\n",
    "The actual behaviour should be tested first, and then implement the option. (potentially building on ontomanager from DOME 4.0)"
   ]
  },
  {
   "cell_type": "code",
   "execution_count": 38,
   "id": "67119da0-f003-47ff-89b9-e32ee565c846",
   "metadata": {},
   "outputs": [
    {
     "ename": "UnicodeEncodeError",
     "evalue": "'latin-1' codec can't encode character '\\u22c5' in position 5424: Body ('⋅') is not valid Latin-1. Use body.encode('utf-8') if you want to send it encoded in UTF-8.",
     "output_type": "error",
     "traceback": [
      "\u001b[0;31m---------------------------------------------------------------------------\u001b[0m",
      "\u001b[0;31mUnicodeEncodeError\u001b[0m                        Traceback (most recent call last)",
      "Cell \u001b[0;32mIn [38], line 1\u001b[0m\n\u001b[0;32m----> 1\u001b[0m \u001b[43mkb\u001b[49m\u001b[38;5;241;43m.\u001b[39;49m\u001b[43mimport_ontology\u001b[49m\u001b[43m(\u001b[49m\u001b[38;5;124;43m\"\u001b[39;49m\u001b[38;5;124;43mhttps://emmo-repo.github.io/versions/1.0.0-rc1/emmo.ttl\u001b[39;49m\u001b[38;5;124;43m\"\u001b[39;49m\u001b[43m)\u001b[49m\n",
      "File \u001b[0;32m~/work/OMIKB-toolbox/omikb/omikb.py:140\u001b[0m, in \u001b[0;36mkb_toolbox.import_ontology\u001b[0;34m(self, source)\u001b[0m\n\u001b[1;32m    138\u001b[0m ttl_data\u001b[38;5;241m=\u001b[39mg\u001b[38;5;241m.\u001b[39mserialize(\u001b[38;5;28mformat\u001b[39m\u001b[38;5;241m=\u001b[39m\u001b[38;5;124m'\u001b[39m\u001b[38;5;124mturtle\u001b[39m\u001b[38;5;124m'\u001b[39m)\n\u001b[1;32m    139\u001b[0m \u001b[38;5;66;03m#graph_url = f\"{fuseki_url}/data?graph={graph_name}\"\u001b[39;00m\n\u001b[0;32m--> 140\u001b[0m response \u001b[38;5;241m=\u001b[39m \u001b[43mrequests\u001b[49m\u001b[38;5;241;43m.\u001b[39;49m\u001b[43mpost\u001b[49m\u001b[43m(\u001b[49m\u001b[38;5;28;43mself\u001b[39;49m\u001b[38;5;241;43m.\u001b[39;49m\u001b[43mdata_iri\u001b[49m\u001b[43m,\u001b[49m\u001b[43m \u001b[49m\u001b[43mdata\u001b[49m\u001b[38;5;241;43m=\u001b[39;49m\u001b[43mttl_data\u001b[49m\u001b[43m,\u001b[49m\u001b[43m \u001b[49m\u001b[43mheaders\u001b[49m\u001b[38;5;241;43m=\u001b[39;49m\u001b[38;5;28;43mself\u001b[39;49m\u001b[38;5;241;43m.\u001b[39;49m\u001b[43mdata_headers\u001b[49m\u001b[43m)\u001b[49m\n\u001b[1;32m    141\u001b[0m \u001b[38;5;28;01mif\u001b[39;00m response\u001b[38;5;241m.\u001b[39mstatus_code \u001b[38;5;129;01min\u001b[39;00m [\u001b[38;5;241m200\u001b[39m, \u001b[38;5;241m201\u001b[39m, \u001b[38;5;241m204\u001b[39m]:\n\u001b[1;32m    142\u001b[0m     graph_name\u001b[38;5;241m=\u001b[39m\u001b[38;5;124m\"\u001b[39m\u001b[38;5;124mdefault\u001b[39m\u001b[38;5;124m\"\u001b[39m\n",
      "File \u001b[0;32m~/.local/lib/python3.9/site-packages/requests/api.py:115\u001b[0m, in \u001b[0;36mpost\u001b[0;34m(url, data, json, **kwargs)\u001b[0m\n\u001b[1;32m    103\u001b[0m \u001b[38;5;28;01mdef\u001b[39;00m \u001b[38;5;21mpost\u001b[39m(url, data\u001b[38;5;241m=\u001b[39m\u001b[38;5;28;01mNone\u001b[39;00m, json\u001b[38;5;241m=\u001b[39m\u001b[38;5;28;01mNone\u001b[39;00m, \u001b[38;5;241m*\u001b[39m\u001b[38;5;241m*\u001b[39mkwargs):\n\u001b[1;32m    104\u001b[0m     \u001b[38;5;124mr\u001b[39m\u001b[38;5;124;03m\"\"\"Sends a POST request.\u001b[39;00m\n\u001b[1;32m    105\u001b[0m \n\u001b[1;32m    106\u001b[0m \u001b[38;5;124;03m    :param url: URL for the new :class:`Request` object.\u001b[39;00m\n\u001b[0;32m   (...)\u001b[0m\n\u001b[1;32m    112\u001b[0m \u001b[38;5;124;03m    :rtype: requests.Response\u001b[39;00m\n\u001b[1;32m    113\u001b[0m \u001b[38;5;124;03m    \"\"\"\u001b[39;00m\n\u001b[0;32m--> 115\u001b[0m     \u001b[38;5;28;01mreturn\u001b[39;00m \u001b[43mrequest\u001b[49m\u001b[43m(\u001b[49m\u001b[38;5;124;43m\"\u001b[39;49m\u001b[38;5;124;43mpost\u001b[39;49m\u001b[38;5;124;43m\"\u001b[39;49m\u001b[43m,\u001b[49m\u001b[43m \u001b[49m\u001b[43murl\u001b[49m\u001b[43m,\u001b[49m\u001b[43m \u001b[49m\u001b[43mdata\u001b[49m\u001b[38;5;241;43m=\u001b[39;49m\u001b[43mdata\u001b[49m\u001b[43m,\u001b[49m\u001b[43m \u001b[49m\u001b[43mjson\u001b[49m\u001b[38;5;241;43m=\u001b[39;49m\u001b[43mjson\u001b[49m\u001b[43m,\u001b[49m\u001b[43m \u001b[49m\u001b[38;5;241;43m*\u001b[39;49m\u001b[38;5;241;43m*\u001b[39;49m\u001b[43mkwargs\u001b[49m\u001b[43m)\u001b[49m\n",
      "File \u001b[0;32m~/.local/lib/python3.9/site-packages/requests/api.py:59\u001b[0m, in \u001b[0;36mrequest\u001b[0;34m(method, url, **kwargs)\u001b[0m\n\u001b[1;32m     55\u001b[0m \u001b[38;5;66;03m# By using the 'with' statement we are sure the session is closed, thus we\u001b[39;00m\n\u001b[1;32m     56\u001b[0m \u001b[38;5;66;03m# avoid leaving sockets open which can trigger a ResourceWarning in some\u001b[39;00m\n\u001b[1;32m     57\u001b[0m \u001b[38;5;66;03m# cases, and look like a memory leak in others.\u001b[39;00m\n\u001b[1;32m     58\u001b[0m \u001b[38;5;28;01mwith\u001b[39;00m sessions\u001b[38;5;241m.\u001b[39mSession() \u001b[38;5;28;01mas\u001b[39;00m session:\n\u001b[0;32m---> 59\u001b[0m     \u001b[38;5;28;01mreturn\u001b[39;00m \u001b[43msession\u001b[49m\u001b[38;5;241;43m.\u001b[39;49m\u001b[43mrequest\u001b[49m\u001b[43m(\u001b[49m\u001b[43mmethod\u001b[49m\u001b[38;5;241;43m=\u001b[39;49m\u001b[43mmethod\u001b[49m\u001b[43m,\u001b[49m\u001b[43m \u001b[49m\u001b[43murl\u001b[49m\u001b[38;5;241;43m=\u001b[39;49m\u001b[43murl\u001b[49m\u001b[43m,\u001b[49m\u001b[43m \u001b[49m\u001b[38;5;241;43m*\u001b[39;49m\u001b[38;5;241;43m*\u001b[39;49m\u001b[43mkwargs\u001b[49m\u001b[43m)\u001b[49m\n",
      "File \u001b[0;32m~/.local/lib/python3.9/site-packages/requests/sessions.py:589\u001b[0m, in \u001b[0;36mSession.request\u001b[0;34m(self, method, url, params, data, headers, cookies, files, auth, timeout, allow_redirects, proxies, hooks, stream, verify, cert, json)\u001b[0m\n\u001b[1;32m    584\u001b[0m send_kwargs \u001b[38;5;241m=\u001b[39m {\n\u001b[1;32m    585\u001b[0m     \u001b[38;5;124m\"\u001b[39m\u001b[38;5;124mtimeout\u001b[39m\u001b[38;5;124m\"\u001b[39m: timeout,\n\u001b[1;32m    586\u001b[0m     \u001b[38;5;124m\"\u001b[39m\u001b[38;5;124mallow_redirects\u001b[39m\u001b[38;5;124m\"\u001b[39m: allow_redirects,\n\u001b[1;32m    587\u001b[0m }\n\u001b[1;32m    588\u001b[0m send_kwargs\u001b[38;5;241m.\u001b[39mupdate(settings)\n\u001b[0;32m--> 589\u001b[0m resp \u001b[38;5;241m=\u001b[39m \u001b[38;5;28;43mself\u001b[39;49m\u001b[38;5;241;43m.\u001b[39;49m\u001b[43msend\u001b[49m\u001b[43m(\u001b[49m\u001b[43mprep\u001b[49m\u001b[43m,\u001b[49m\u001b[43m \u001b[49m\u001b[38;5;241;43m*\u001b[39;49m\u001b[38;5;241;43m*\u001b[39;49m\u001b[43msend_kwargs\u001b[49m\u001b[43m)\u001b[49m\n\u001b[1;32m    591\u001b[0m \u001b[38;5;28;01mreturn\u001b[39;00m resp\n",
      "File \u001b[0;32m~/.local/lib/python3.9/site-packages/requests/sessions.py:703\u001b[0m, in \u001b[0;36mSession.send\u001b[0;34m(self, request, **kwargs)\u001b[0m\n\u001b[1;32m    700\u001b[0m start \u001b[38;5;241m=\u001b[39m preferred_clock()\n\u001b[1;32m    702\u001b[0m \u001b[38;5;66;03m# Send the request\u001b[39;00m\n\u001b[0;32m--> 703\u001b[0m r \u001b[38;5;241m=\u001b[39m \u001b[43madapter\u001b[49m\u001b[38;5;241;43m.\u001b[39;49m\u001b[43msend\u001b[49m\u001b[43m(\u001b[49m\u001b[43mrequest\u001b[49m\u001b[43m,\u001b[49m\u001b[43m \u001b[49m\u001b[38;5;241;43m*\u001b[39;49m\u001b[38;5;241;43m*\u001b[39;49m\u001b[43mkwargs\u001b[49m\u001b[43m)\u001b[49m\n\u001b[1;32m    705\u001b[0m \u001b[38;5;66;03m# Total elapsed time of the request (approximately)\u001b[39;00m\n\u001b[1;32m    706\u001b[0m elapsed \u001b[38;5;241m=\u001b[39m preferred_clock() \u001b[38;5;241m-\u001b[39m start\n",
      "File \u001b[0;32m~/.local/lib/python3.9/site-packages/requests/adapters.py:486\u001b[0m, in \u001b[0;36mHTTPAdapter.send\u001b[0;34m(self, request, stream, timeout, verify, cert, proxies)\u001b[0m\n\u001b[1;32m    483\u001b[0m     timeout \u001b[38;5;241m=\u001b[39m TimeoutSauce(connect\u001b[38;5;241m=\u001b[39mtimeout, read\u001b[38;5;241m=\u001b[39mtimeout)\n\u001b[1;32m    485\u001b[0m \u001b[38;5;28;01mtry\u001b[39;00m:\n\u001b[0;32m--> 486\u001b[0m     resp \u001b[38;5;241m=\u001b[39m \u001b[43mconn\u001b[49m\u001b[38;5;241;43m.\u001b[39;49m\u001b[43murlopen\u001b[49m\u001b[43m(\u001b[49m\n\u001b[1;32m    487\u001b[0m \u001b[43m        \u001b[49m\u001b[43mmethod\u001b[49m\u001b[38;5;241;43m=\u001b[39;49m\u001b[43mrequest\u001b[49m\u001b[38;5;241;43m.\u001b[39;49m\u001b[43mmethod\u001b[49m\u001b[43m,\u001b[49m\n\u001b[1;32m    488\u001b[0m \u001b[43m        \u001b[49m\u001b[43murl\u001b[49m\u001b[38;5;241;43m=\u001b[39;49m\u001b[43murl\u001b[49m\u001b[43m,\u001b[49m\n\u001b[1;32m    489\u001b[0m \u001b[43m        \u001b[49m\u001b[43mbody\u001b[49m\u001b[38;5;241;43m=\u001b[39;49m\u001b[43mrequest\u001b[49m\u001b[38;5;241;43m.\u001b[39;49m\u001b[43mbody\u001b[49m\u001b[43m,\u001b[49m\n\u001b[1;32m    490\u001b[0m \u001b[43m        \u001b[49m\u001b[43mheaders\u001b[49m\u001b[38;5;241;43m=\u001b[39;49m\u001b[43mrequest\u001b[49m\u001b[38;5;241;43m.\u001b[39;49m\u001b[43mheaders\u001b[49m\u001b[43m,\u001b[49m\n\u001b[1;32m    491\u001b[0m \u001b[43m        \u001b[49m\u001b[43mredirect\u001b[49m\u001b[38;5;241;43m=\u001b[39;49m\u001b[38;5;28;43;01mFalse\u001b[39;49;00m\u001b[43m,\u001b[49m\n\u001b[1;32m    492\u001b[0m \u001b[43m        \u001b[49m\u001b[43massert_same_host\u001b[49m\u001b[38;5;241;43m=\u001b[39;49m\u001b[38;5;28;43;01mFalse\u001b[39;49;00m\u001b[43m,\u001b[49m\n\u001b[1;32m    493\u001b[0m \u001b[43m        \u001b[49m\u001b[43mpreload_content\u001b[49m\u001b[38;5;241;43m=\u001b[39;49m\u001b[38;5;28;43;01mFalse\u001b[39;49;00m\u001b[43m,\u001b[49m\n\u001b[1;32m    494\u001b[0m \u001b[43m        \u001b[49m\u001b[43mdecode_content\u001b[49m\u001b[38;5;241;43m=\u001b[39;49m\u001b[38;5;28;43;01mFalse\u001b[39;49;00m\u001b[43m,\u001b[49m\n\u001b[1;32m    495\u001b[0m \u001b[43m        \u001b[49m\u001b[43mretries\u001b[49m\u001b[38;5;241;43m=\u001b[39;49m\u001b[38;5;28;43mself\u001b[39;49m\u001b[38;5;241;43m.\u001b[39;49m\u001b[43mmax_retries\u001b[49m\u001b[43m,\u001b[49m\n\u001b[1;32m    496\u001b[0m \u001b[43m        \u001b[49m\u001b[43mtimeout\u001b[49m\u001b[38;5;241;43m=\u001b[39;49m\u001b[43mtimeout\u001b[49m\u001b[43m,\u001b[49m\n\u001b[1;32m    497\u001b[0m \u001b[43m        \u001b[49m\u001b[43mchunked\u001b[49m\u001b[38;5;241;43m=\u001b[39;49m\u001b[43mchunked\u001b[49m\u001b[43m,\u001b[49m\n\u001b[1;32m    498\u001b[0m \u001b[43m    \u001b[49m\u001b[43m)\u001b[49m\n\u001b[1;32m    500\u001b[0m \u001b[38;5;28;01mexcept\u001b[39;00m (ProtocolError, \u001b[38;5;167;01mOSError\u001b[39;00m) \u001b[38;5;28;01mas\u001b[39;00m err:\n\u001b[1;32m    501\u001b[0m     \u001b[38;5;28;01mraise\u001b[39;00m \u001b[38;5;167;01mConnectionError\u001b[39;00m(err, request\u001b[38;5;241m=\u001b[39mrequest)\n",
      "File \u001b[0;32m/opt/conda/lib/python3.9/site-packages/urllib3/connectionpool.py:703\u001b[0m, in \u001b[0;36mHTTPConnectionPool.urlopen\u001b[0;34m(self, method, url, body, headers, retries, redirect, assert_same_host, timeout, pool_timeout, release_conn, chunked, body_pos, **response_kw)\u001b[0m\n\u001b[1;32m    700\u001b[0m     \u001b[38;5;28mself\u001b[39m\u001b[38;5;241m.\u001b[39m_prepare_proxy(conn)\n\u001b[1;32m    702\u001b[0m \u001b[38;5;66;03m# Make the request on the httplib connection object.\u001b[39;00m\n\u001b[0;32m--> 703\u001b[0m httplib_response \u001b[38;5;241m=\u001b[39m \u001b[38;5;28;43mself\u001b[39;49m\u001b[38;5;241;43m.\u001b[39;49m\u001b[43m_make_request\u001b[49m\u001b[43m(\u001b[49m\n\u001b[1;32m    704\u001b[0m \u001b[43m    \u001b[49m\u001b[43mconn\u001b[49m\u001b[43m,\u001b[49m\n\u001b[1;32m    705\u001b[0m \u001b[43m    \u001b[49m\u001b[43mmethod\u001b[49m\u001b[43m,\u001b[49m\n\u001b[1;32m    706\u001b[0m \u001b[43m    \u001b[49m\u001b[43murl\u001b[49m\u001b[43m,\u001b[49m\n\u001b[1;32m    707\u001b[0m \u001b[43m    \u001b[49m\u001b[43mtimeout\u001b[49m\u001b[38;5;241;43m=\u001b[39;49m\u001b[43mtimeout_obj\u001b[49m\u001b[43m,\u001b[49m\n\u001b[1;32m    708\u001b[0m \u001b[43m    \u001b[49m\u001b[43mbody\u001b[49m\u001b[38;5;241;43m=\u001b[39;49m\u001b[43mbody\u001b[49m\u001b[43m,\u001b[49m\n\u001b[1;32m    709\u001b[0m \u001b[43m    \u001b[49m\u001b[43mheaders\u001b[49m\u001b[38;5;241;43m=\u001b[39;49m\u001b[43mheaders\u001b[49m\u001b[43m,\u001b[49m\n\u001b[1;32m    710\u001b[0m \u001b[43m    \u001b[49m\u001b[43mchunked\u001b[49m\u001b[38;5;241;43m=\u001b[39;49m\u001b[43mchunked\u001b[49m\u001b[43m,\u001b[49m\n\u001b[1;32m    711\u001b[0m \u001b[43m\u001b[49m\u001b[43m)\u001b[49m\n\u001b[1;32m    713\u001b[0m \u001b[38;5;66;03m# If we're going to release the connection in ``finally:``, then\u001b[39;00m\n\u001b[1;32m    714\u001b[0m \u001b[38;5;66;03m# the response doesn't need to know about the connection. Otherwise\u001b[39;00m\n\u001b[1;32m    715\u001b[0m \u001b[38;5;66;03m# it will also try to release it and we'll have a double-release\u001b[39;00m\n\u001b[1;32m    716\u001b[0m \u001b[38;5;66;03m# mess.\u001b[39;00m\n\u001b[1;32m    717\u001b[0m response_conn \u001b[38;5;241m=\u001b[39m conn \u001b[38;5;28;01mif\u001b[39;00m \u001b[38;5;129;01mnot\u001b[39;00m release_conn \u001b[38;5;28;01melse\u001b[39;00m \u001b[38;5;28;01mNone\u001b[39;00m\n",
      "File \u001b[0;32m/opt/conda/lib/python3.9/site-packages/urllib3/connectionpool.py:398\u001b[0m, in \u001b[0;36mHTTPConnectionPool._make_request\u001b[0;34m(self, conn, method, url, timeout, chunked, **httplib_request_kw)\u001b[0m\n\u001b[1;32m    396\u001b[0m         conn\u001b[38;5;241m.\u001b[39mrequest_chunked(method, url, \u001b[38;5;241m*\u001b[39m\u001b[38;5;241m*\u001b[39mhttplib_request_kw)\n\u001b[1;32m    397\u001b[0m     \u001b[38;5;28;01melse\u001b[39;00m:\n\u001b[0;32m--> 398\u001b[0m         \u001b[43mconn\u001b[49m\u001b[38;5;241;43m.\u001b[39;49m\u001b[43mrequest\u001b[49m\u001b[43m(\u001b[49m\u001b[43mmethod\u001b[49m\u001b[43m,\u001b[49m\u001b[43m \u001b[49m\u001b[43murl\u001b[49m\u001b[43m,\u001b[49m\u001b[43m \u001b[49m\u001b[38;5;241;43m*\u001b[39;49m\u001b[38;5;241;43m*\u001b[39;49m\u001b[43mhttplib_request_kw\u001b[49m\u001b[43m)\u001b[49m\n\u001b[1;32m    400\u001b[0m \u001b[38;5;66;03m# We are swallowing BrokenPipeError (errno.EPIPE) since the server is\u001b[39;00m\n\u001b[1;32m    401\u001b[0m \u001b[38;5;66;03m# legitimately able to close the connection after sending a valid response.\u001b[39;00m\n\u001b[1;32m    402\u001b[0m \u001b[38;5;66;03m# With this behaviour, the received response is still readable.\u001b[39;00m\n\u001b[1;32m    403\u001b[0m \u001b[38;5;28;01mexcept\u001b[39;00m \u001b[38;5;167;01mBrokenPipeError\u001b[39;00m:\n\u001b[1;32m    404\u001b[0m     \u001b[38;5;66;03m# Python 3\u001b[39;00m\n",
      "File \u001b[0;32m/opt/conda/lib/python3.9/site-packages/urllib3/connection.py:239\u001b[0m, in \u001b[0;36mHTTPConnection.request\u001b[0;34m(self, method, url, body, headers)\u001b[0m\n\u001b[1;32m    237\u001b[0m \u001b[38;5;28;01mif\u001b[39;00m \u001b[38;5;124m\"\u001b[39m\u001b[38;5;124muser-agent\u001b[39m\u001b[38;5;124m\"\u001b[39m \u001b[38;5;129;01mnot\u001b[39;00m \u001b[38;5;129;01min\u001b[39;00m (six\u001b[38;5;241m.\u001b[39mensure_str(k\u001b[38;5;241m.\u001b[39mlower()) \u001b[38;5;28;01mfor\u001b[39;00m k \u001b[38;5;129;01min\u001b[39;00m headers):\n\u001b[1;32m    238\u001b[0m     headers[\u001b[38;5;124m\"\u001b[39m\u001b[38;5;124mUser-Agent\u001b[39m\u001b[38;5;124m\"\u001b[39m] \u001b[38;5;241m=\u001b[39m _get_default_user_agent()\n\u001b[0;32m--> 239\u001b[0m \u001b[38;5;28;43msuper\u001b[39;49m\u001b[43m(\u001b[49m\u001b[43mHTTPConnection\u001b[49m\u001b[43m,\u001b[49m\u001b[43m \u001b[49m\u001b[38;5;28;43mself\u001b[39;49m\u001b[43m)\u001b[49m\u001b[38;5;241;43m.\u001b[39;49m\u001b[43mrequest\u001b[49m\u001b[43m(\u001b[49m\u001b[43mmethod\u001b[49m\u001b[43m,\u001b[49m\u001b[43m \u001b[49m\u001b[43murl\u001b[49m\u001b[43m,\u001b[49m\u001b[43m \u001b[49m\u001b[43mbody\u001b[49m\u001b[38;5;241;43m=\u001b[39;49m\u001b[43mbody\u001b[49m\u001b[43m,\u001b[49m\u001b[43m \u001b[49m\u001b[43mheaders\u001b[49m\u001b[38;5;241;43m=\u001b[39;49m\u001b[43mheaders\u001b[49m\u001b[43m)\u001b[49m\n",
      "File \u001b[0;32m/opt/conda/lib/python3.9/http/client.py:1285\u001b[0m, in \u001b[0;36mHTTPConnection.request\u001b[0;34m(self, method, url, body, headers, encode_chunked)\u001b[0m\n\u001b[1;32m   1282\u001b[0m \u001b[38;5;28;01mdef\u001b[39;00m \u001b[38;5;21mrequest\u001b[39m(\u001b[38;5;28mself\u001b[39m, method, url, body\u001b[38;5;241m=\u001b[39m\u001b[38;5;28;01mNone\u001b[39;00m, headers\u001b[38;5;241m=\u001b[39m{}, \u001b[38;5;241m*\u001b[39m,\n\u001b[1;32m   1283\u001b[0m             encode_chunked\u001b[38;5;241m=\u001b[39m\u001b[38;5;28;01mFalse\u001b[39;00m):\n\u001b[1;32m   1284\u001b[0m     \u001b[38;5;124;03m\"\"\"Send a complete request to the server.\"\"\"\u001b[39;00m\n\u001b[0;32m-> 1285\u001b[0m     \u001b[38;5;28;43mself\u001b[39;49m\u001b[38;5;241;43m.\u001b[39;49m\u001b[43m_send_request\u001b[49m\u001b[43m(\u001b[49m\u001b[43mmethod\u001b[49m\u001b[43m,\u001b[49m\u001b[43m \u001b[49m\u001b[43murl\u001b[49m\u001b[43m,\u001b[49m\u001b[43m \u001b[49m\u001b[43mbody\u001b[49m\u001b[43m,\u001b[49m\u001b[43m \u001b[49m\u001b[43mheaders\u001b[49m\u001b[43m,\u001b[49m\u001b[43m \u001b[49m\u001b[43mencode_chunked\u001b[49m\u001b[43m)\u001b[49m\n",
      "File \u001b[0;32m/opt/conda/lib/python3.9/http/client.py:1330\u001b[0m, in \u001b[0;36mHTTPConnection._send_request\u001b[0;34m(self, method, url, body, headers, encode_chunked)\u001b[0m\n\u001b[1;32m   1326\u001b[0m     \u001b[38;5;28mself\u001b[39m\u001b[38;5;241m.\u001b[39mputheader(hdr, value)\n\u001b[1;32m   1327\u001b[0m \u001b[38;5;28;01mif\u001b[39;00m \u001b[38;5;28misinstance\u001b[39m(body, \u001b[38;5;28mstr\u001b[39m):\n\u001b[1;32m   1328\u001b[0m     \u001b[38;5;66;03m# RFC 2616 Section 3.7.1 says that text default has a\u001b[39;00m\n\u001b[1;32m   1329\u001b[0m     \u001b[38;5;66;03m# default charset of iso-8859-1.\u001b[39;00m\n\u001b[0;32m-> 1330\u001b[0m     body \u001b[38;5;241m=\u001b[39m \u001b[43m_encode\u001b[49m\u001b[43m(\u001b[49m\u001b[43mbody\u001b[49m\u001b[43m,\u001b[49m\u001b[43m \u001b[49m\u001b[38;5;124;43m'\u001b[39;49m\u001b[38;5;124;43mbody\u001b[39;49m\u001b[38;5;124;43m'\u001b[39;49m\u001b[43m)\u001b[49m\n\u001b[1;32m   1331\u001b[0m \u001b[38;5;28mself\u001b[39m\u001b[38;5;241m.\u001b[39mendheaders(body, encode_chunked\u001b[38;5;241m=\u001b[39mencode_chunked)\n",
      "File \u001b[0;32m/opt/conda/lib/python3.9/http/client.py:168\u001b[0m, in \u001b[0;36m_encode\u001b[0;34m(data, name)\u001b[0m\n\u001b[1;32m    166\u001b[0m     \u001b[38;5;28;01mreturn\u001b[39;00m data\u001b[38;5;241m.\u001b[39mencode(\u001b[38;5;124m\"\u001b[39m\u001b[38;5;124mlatin-1\u001b[39m\u001b[38;5;124m\"\u001b[39m)\n\u001b[1;32m    167\u001b[0m \u001b[38;5;28;01mexcept\u001b[39;00m \u001b[38;5;167;01mUnicodeEncodeError\u001b[39;00m \u001b[38;5;28;01mas\u001b[39;00m err:\n\u001b[0;32m--> 168\u001b[0m     \u001b[38;5;28;01mraise\u001b[39;00m \u001b[38;5;167;01mUnicodeEncodeError\u001b[39;00m(\n\u001b[1;32m    169\u001b[0m         err\u001b[38;5;241m.\u001b[39mencoding,\n\u001b[1;32m    170\u001b[0m         err\u001b[38;5;241m.\u001b[39mobject,\n\u001b[1;32m    171\u001b[0m         err\u001b[38;5;241m.\u001b[39mstart,\n\u001b[1;32m    172\u001b[0m         err\u001b[38;5;241m.\u001b[39mend,\n\u001b[1;32m    173\u001b[0m         \u001b[38;5;124m\"\u001b[39m\u001b[38;5;132;01m%s\u001b[39;00m\u001b[38;5;124m (\u001b[39m\u001b[38;5;132;01m%.20r\u001b[39;00m\u001b[38;5;124m) is not valid Latin-1. Use \u001b[39m\u001b[38;5;132;01m%s\u001b[39;00m\u001b[38;5;124m.encode(\u001b[39m\u001b[38;5;124m'\u001b[39m\u001b[38;5;124mutf-8\u001b[39m\u001b[38;5;124m'\u001b[39m\u001b[38;5;124m) \u001b[39m\u001b[38;5;124m\"\u001b[39m\n\u001b[1;32m    174\u001b[0m         \u001b[38;5;124m\"\u001b[39m\u001b[38;5;124mif you want to send it encoded in UTF-8.\u001b[39m\u001b[38;5;124m\"\u001b[39m \u001b[38;5;241m%\u001b[39m\n\u001b[1;32m    175\u001b[0m         (name\u001b[38;5;241m.\u001b[39mtitle(), data[err\u001b[38;5;241m.\u001b[39mstart:err\u001b[38;5;241m.\u001b[39mend], name)) \u001b[38;5;28;01mfrom\u001b[39;00m \u001b[38;5;28mNone\u001b[39m\n",
      "\u001b[0;31mUnicodeEncodeError\u001b[0m: 'latin-1' codec can't encode character '\\u22c5' in position 5424: Body ('⋅') is not valid Latin-1. Use body.encode('utf-8') if you want to send it encoded in UTF-8."
     ]
    }
   ],
   "source": [
    "kb.import_ontology(\"https://emmo-repo.github.io/versions/1.0.0-rc1/emmo.ttl\")"
   ]
  },
  {
   "cell_type": "code",
   "execution_count": null,
   "id": "ed494007-758e-4bc3-bd9e-eb691c513b93",
   "metadata": {},
   "outputs": [],
   "source": []
  }
 ],
 "metadata": {
  "kernelspec": {
   "display_name": "Python 3 (ipykernel)",
   "language": "python",
   "name": "python3"
  },
  "language_info": {
   "codemirror_mode": {
    "name": "ipython",
    "version": 3
   },
   "file_extension": ".py",
   "mimetype": "text/x-python",
   "name": "python",
   "nbconvert_exporter": "python",
   "pygments_lexer": "ipython3",
   "version": "3.9.13"
  }
 },
 "nbformat": 4,
 "nbformat_minor": 5
}
