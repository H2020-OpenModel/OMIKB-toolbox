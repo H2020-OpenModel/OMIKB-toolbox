{
 "cells": [
  {
   "cell_type": "code",
   "execution_count": 1,
   "id": "f280633c-b25e-453f-b001-2332acdbe31d",
   "metadata": {},
   "outputs": [],
   "source": [
    "from omikb.omikb import kb_toolbox\n",
    "import json\n",
    "import rdflib\n",
    "from typing import Union\n"
   ]
  },
  {
   "cell_type": "code",
   "execution_count": 2,
   "id": "543e7b7a-d759-4152-9321-8d10ac0c4060",
   "metadata": {},
   "outputs": [
    {
     "name": "stdout",
     "output_type": "stream",
     "text": [
      "Hello Usr: Yout access token is obtained: (Showing last 10 digits only) pZFykjZaug\n",
      "Initialised Knowledge Base and OMI access from the jupyter interface for the user:\n",
      "{\n",
      "  \"sub\": \"f8ba08b8-abbc-4aed-91eb-d4b5557d4fc6\",\n",
      "  \"email_verified\": false,\n",
      "  \"name\": \"adham hashibon\",\n",
      "  \"preferred_username\": \"adham\",\n",
      "  \"given_name\": \"adham\",\n",
      "  \"family_name\": \"hashibon\",\n",
      "  \"email\": \"a.hashibon@ucl.ac.uk\"\n",
      "}\n",
      "None\n"
     ]
    }
   ],
   "source": [
    "kb=kb_toolbox()"
   ]
  },
  {
   "cell_type": "code",
   "execution_count": 3,
   "id": "fa6abecd-df53-4343-a670-46a39af70bf3",
   "metadata": {},
   "outputs": [
    {
     "data": {
      "text/plain": [
       "'The OpenModel Knowledge Base is Alive!'"
      ]
     },
     "execution_count": 3,
     "metadata": {},
     "output_type": "execute_result"
    }
   ],
   "source": [
    "kb.ping() # ping the server to see if it is alive"
   ]
  },
  {
   "cell_type": "code",
   "execution_count": 4,
   "id": "b6597f5a-8700-4507-ace3-a092f1d9e4d2",
   "metadata": {},
   "outputs": [
    {
     "data": {
      "text/plain": [
       "True"
      ]
     },
     "execution_count": 4,
     "metadata": {},
     "output_type": "execute_result"
    }
   ],
   "source": [
    "kb.is_online"
   ]
  },
  {
   "cell_type": "code",
   "execution_count": 5,
   "id": "7f65f6d9-e19c-40c3-b15c-406e673a2550",
   "metadata": {},
   "outputs": [
    {
     "data": {
      "text/plain": [
       "{'datasets': {'/dataset': {'Requests': 138,\n",
       "   'RequestsGood': 117,\n",
       "   'RequestsBad': 21,\n",
       "   'endpoints': {'get': {'RequestsBad': 0,\n",
       "     'Requests': 0,\n",
       "     'RequestsGood': 0,\n",
       "     'operation': 'gsp-r',\n",
       "     'description': 'Graph Store Protocol (Read)'},\n",
       "    'sparql': {'RequestsBad': 21,\n",
       "     'Requests': 130,\n",
       "     'RequestsGood': 109,\n",
       "     'operation': 'query',\n",
       "     'description': 'SPARQL Query'},\n",
       "    'query': {'RequestsBad': 0,\n",
       "     'Requests': 0,\n",
       "     'RequestsGood': 0,\n",
       "     'operation': 'query',\n",
       "     'description': 'SPARQL Query'},\n",
       "    'data': {'RequestsBad': 0,\n",
       "     'Requests': 0,\n",
       "     'RequestsGood': 0,\n",
       "     'operation': 'gsp-rw',\n",
       "     'description': 'Graph Store Protocol'},\n",
       "    'patch': {'RequestsBad': 0,\n",
       "     'Requests': 0,\n",
       "     'RequestsGood': 0,\n",
       "     'operation': 'patch',\n",
       "     'description': 'RDF Patch'},\n",
       "    'update': {'RequestsBad': 0,\n",
       "     'Requests': 8,\n",
       "     'RequestsGood': 8,\n",
       "     'operation': 'update',\n",
       "     'description': 'SPARQL Update'}}}}}"
      ]
     },
     "execution_count": 5,
     "metadata": {},
     "output_type": "execute_result"
    }
   ],
   "source": [
    "kb.stats()"
   ]
  },
  {
   "cell_type": "code",
   "execution_count": 6,
   "id": "d1f3b4bb-d1ef-4261-b44a-1b51be14cb12",
   "metadata": {},
   "outputs": [],
   "source": [
    "query = \"\"\"\n",
    "PREFIX ex: <http://example.org/>\n",
    "SELECT ?s ?p ?o\n",
    "WHERE {\n",
    "  ?s ?p ?o .\n",
    "}\n",
    "\"\"\""
   ]
  },
  {
   "cell_type": "code",
   "execution_count": 7,
   "id": "a83d2481-f5da-4244-9851-4108d0c48fc4",
   "metadata": {},
   "outputs": [
    {
     "data": {
      "text/plain": [
       "{'head': {'vars': ['s', 'p', 'o']},\n",
       " 'results': {'bindings': [{'s': {'type': 'uri',\n",
       "     'value': 'http://example.org/popa'},\n",
       "    'p': {'type': 'uri', 'value': 'http://example.org/predicate1'},\n",
       "    'o': {'type': 'literal', 'value': 'tota'}},\n",
       "   {'s': {'type': 'uri', 'value': 'http://example.org/XXXX'},\n",
       "    'p': {'type': 'uri', 'value': 'http://example.org/predicate2'},\n",
       "    'o': {'type': 'literal', 'value': 'TTT'}},\n",
       "   {'s': {'type': 'uri', 'value': 'http://example.org/subject1'},\n",
       "    'p': {'type': 'uri', 'value': 'http://example.org/predicate1'},\n",
       "    'o': {'type': 'literal', 'value': 'object1'}},\n",
       "   {'s': {'type': 'uri', 'value': 'http://example.org/subject2'},\n",
       "    'p': {'type': 'uri', 'value': 'http://example.org/predicate2'},\n",
       "    'o': {'type': 'literal', 'value': 'object2'}},\n",
       "   {'s': {'type': 'uri', 'value': 'http://example.org/kosa'},\n",
       "    'p': {'type': 'uri', 'value': 'http://example.org/predicate2'},\n",
       "    'o': {'type': 'literal', 'value': 'mosa'}},\n",
       "   {'s': {'type': 'uri', 'value': 'http://example.org/person#Charlie'},\n",
       "    'p': {'type': 'uri', 'value': 'http://example.org/property#name'},\n",
       "    'o': {'type': 'literal', 'value': 'Charlie'}},\n",
       "   {'s': {'type': 'uri', 'value': 'http://example.org/person#Charlie'},\n",
       "    'p': {'type': 'uri', 'value': 'http://example.org/property#age'},\n",
       "    'o': {'type': 'literal', 'value': '35'}}]}}"
      ]
     },
     "execution_count": 7,
     "metadata": {},
     "output_type": "execute_result"
    }
   ],
   "source": [
    "r=kb.query(query)\n",
    "r.json()"
   ]
  },
  {
   "cell_type": "code",
   "execution_count": 8,
   "id": "78021f4c-05de-4a40-ab0c-3bef9cb3821b",
   "metadata": {},
   "outputs": [],
   "source": [
    "q=\"\"\"SELECT ?g \n",
    "WHERE {\n",
    "  GRAPH ?g { }\n",
    "}\n",
    "\"\"\""
   ]
  },
  {
   "cell_type": "code",
   "execution_count": 9,
   "id": "f27c10a6-8ccf-4ef1-93ea-2d9518effdcb",
   "metadata": {},
   "outputs": [
    {
     "data": {
      "text/plain": [
       "{'head': {'vars': ['g']},\n",
       " 'results': {'bindings': [{'g': {'type': 'uri',\n",
       "     'value': 'http://example.org/myGraph'}}]}}"
      ]
     },
     "execution_count": 9,
     "metadata": {},
     "output_type": "execute_result"
    }
   ],
   "source": [
    "r=kb.query(q)\n",
    "r.json()"
   ]
  },
  {
   "cell_type": "code",
   "execution_count": 10,
   "id": "d706d3eb-9e99-4ded-8560-cc9448ef1283",
   "metadata": {},
   "outputs": [],
   "source": [
    "from SPARQLWrapper import SPARQLWrapper, JSON, XML, POST, GET"
   ]
  },
  {
   "cell_type": "markdown",
   "id": "fe038572-bd49-47a9-a4d5-2f29222dce77",
   "metadata": {},
   "source": [
    "# Update and insert triplets\n"
   ]
  },
  {
   "cell_type": "code",
   "execution_count": 11,
   "id": "ce78cd8d-7307-47b9-8d8d-c6215f1b5d1c",
   "metadata": {},
   "outputs": [],
   "source": [
    "q=\"\"\"\n",
    "PREFIX ex: <http://example.org/property#>\n",
    "PREFIX person: <http://example.org/person#>\n",
    "\n",
    "INSERT DATA {\n",
    "  person:Charlie ex:name \"Charlie\" .\n",
    "  person:Charlie ex:age \"35\" .\n",
    "}\n",
    "\"\"\"\n"
   ]
  },
  {
   "cell_type": "code",
   "execution_count": 12,
   "id": "bbe67dcf-5181-4aaf-8a89-7174e9f25ef2",
   "metadata": {},
   "outputs": [
    {
     "name": "stdout",
     "output_type": "stream",
     "text": [
      "SPARQL update executed successfully.\n"
     ]
    }
   ],
   "source": [
    "kb.update(q)"
   ]
  },
  {
   "cell_type": "code",
   "execution_count": 13,
   "id": "2702e20c-6e6e-499d-bc78-c6a655ee4d24",
   "metadata": {},
   "outputs": [],
   "source": [
    "q = \"\"\"\n",
    "PREFIX ex: <http://example.org/>\n",
    "PREFIX person: <http://example.org/person#>\n",
    "\n",
    "SELECT ?s ?p ?o\n",
    "WHERE { \n",
    "    person:Charlie ?p ?o .\n",
    "}\n",
    "\"\"\""
   ]
  },
  {
   "cell_type": "code",
   "execution_count": 14,
   "id": "c4cb3d94-c021-4e02-b723-954e8226d892",
   "metadata": {},
   "outputs": [],
   "source": [
    "query = \"\"\"\n",
    "PREFIX ex: <http://example.org/>\n",
    "SELECT ?s ?p ?o\n",
    "WHERE {\n",
    "  ?s ?p ?o .\n",
    "}\n",
    "\"\"\""
   ]
  },
  {
   "cell_type": "code",
   "execution_count": 15,
   "id": "bc867036-43c5-4324-9baa-ffe6eff49c3c",
   "metadata": {},
   "outputs": [],
   "source": [
    "r=kb.query(query)"
   ]
  },
  {
   "cell_type": "code",
   "execution_count": 16,
   "id": "457cb7c5-8513-472e-8cff-f90321a11a35",
   "metadata": {},
   "outputs": [
    {
     "data": {
      "text/plain": [
       "<Response [200]>"
      ]
     },
     "execution_count": 16,
     "metadata": {},
     "output_type": "execute_result"
    }
   ],
   "source": [
    "r"
   ]
  },
  {
   "cell_type": "code",
   "execution_count": 17,
   "id": "b39de5d2-3595-4e9e-8641-8c2b43c649e6",
   "metadata": {},
   "outputs": [
    {
     "data": {
      "text/plain": [
       "{'head': {'vars': ['s', 'p', 'o']},\n",
       " 'results': {'bindings': [{'s': {'type': 'uri',\n",
       "     'value': 'http://example.org/popa'},\n",
       "    'p': {'type': 'uri', 'value': 'http://example.org/predicate1'},\n",
       "    'o': {'type': 'literal', 'value': 'tota'}},\n",
       "   {'s': {'type': 'uri', 'value': 'http://example.org/XXXX'},\n",
       "    'p': {'type': 'uri', 'value': 'http://example.org/predicate2'},\n",
       "    'o': {'type': 'literal', 'value': 'TTT'}},\n",
       "   {'s': {'type': 'uri', 'value': 'http://example.org/subject1'},\n",
       "    'p': {'type': 'uri', 'value': 'http://example.org/predicate1'},\n",
       "    'o': {'type': 'literal', 'value': 'object1'}},\n",
       "   {'s': {'type': 'uri', 'value': 'http://example.org/subject2'},\n",
       "    'p': {'type': 'uri', 'value': 'http://example.org/predicate2'},\n",
       "    'o': {'type': 'literal', 'value': 'object2'}},\n",
       "   {'s': {'type': 'uri', 'value': 'http://example.org/kosa'},\n",
       "    'p': {'type': 'uri', 'value': 'http://example.org/predicate2'},\n",
       "    'o': {'type': 'literal', 'value': 'mosa'}},\n",
       "   {'s': {'type': 'uri', 'value': 'http://example.org/person#Charlie'},\n",
       "    'p': {'type': 'uri', 'value': 'http://example.org/property#name'},\n",
       "    'o': {'type': 'literal', 'value': 'Charlie'}},\n",
       "   {'s': {'type': 'uri', 'value': 'http://example.org/person#Charlie'},\n",
       "    'p': {'type': 'uri', 'value': 'http://example.org/property#age'},\n",
       "    'o': {'type': 'literal', 'value': '35'}}]}}"
      ]
     },
     "execution_count": 17,
     "metadata": {},
     "output_type": "execute_result"
    }
   ],
   "source": [
    "r.json()"
   ]
  },
  {
   "cell_type": "code",
   "execution_count": 18,
   "id": "1a640ed8-4191-4804-8ca6-644f8dfdf57e",
   "metadata": {},
   "outputs": [],
   "source": [
    "q = \"\"\"\n",
    "SELECT ?p ?o\n",
    "WHERE { \n",
    "    <http://example.org/person#Charlie> ?p ?o .\n",
    "}\n",
    "\"\"\""
   ]
  },
  {
   "cell_type": "code",
   "execution_count": 19,
   "id": "702b12e0-0314-4a87-a0ea-64adbdb78478",
   "metadata": {},
   "outputs": [],
   "source": [
    "r=kb.query(q)"
   ]
  },
  {
   "cell_type": "code",
   "execution_count": 20,
   "id": "25c7bba1-8dc6-47f3-9e81-510aeddad89c",
   "metadata": {},
   "outputs": [
    {
     "data": {
      "text/plain": [
       "<Response [200]>"
      ]
     },
     "execution_count": 20,
     "metadata": {},
     "output_type": "execute_result"
    }
   ],
   "source": [
    "r\n"
   ]
  },
  {
   "cell_type": "code",
   "execution_count": 21,
   "id": "94152de4-4e20-4bd4-b33a-e6e6632e9c6c",
   "metadata": {},
   "outputs": [
    {
     "data": {
      "text/plain": [
       "{'head': {'vars': ['p', 'o']},\n",
       " 'results': {'bindings': [{'p': {'type': 'uri',\n",
       "     'value': 'http://example.org/property#name'},\n",
       "    'o': {'type': 'literal', 'value': 'Charlie'}},\n",
       "   {'p': {'type': 'uri', 'value': 'http://example.org/property#age'},\n",
       "    'o': {'type': 'literal', 'value': '35'}}]}}"
      ]
     },
     "execution_count": 21,
     "metadata": {},
     "output_type": "execute_result"
    }
   ],
   "source": [
    "r.json()"
   ]
  },
  {
   "cell_type": "code",
   "execution_count": 22,
   "id": "9c62b6cf-0cb9-4922-a8d1-906a8c9274eb",
   "metadata": {},
   "outputs": [],
   "source": [
    "# counting triplets"
   ]
  },
  {
   "cell_type": "code",
   "execution_count": 23,
   "id": "ad02edcd-445b-4c0c-a9b5-113d288d1c89",
   "metadata": {},
   "outputs": [],
   "source": [
    "query = \"\"\"\n",
    "        SELECT (COUNT(*) as ?triplesCount)\n",
    "        WHERE { ?s ?p ?o }\n",
    "        \"\"\""
   ]
  },
  {
   "cell_type": "code",
   "execution_count": 24,
   "id": "2e541952-1516-477f-9a5f-1c7c8786db66",
   "metadata": {},
   "outputs": [],
   "source": [
    "r=kb.query(query)"
   ]
  },
  {
   "cell_type": "code",
   "execution_count": 25,
   "id": "6b3863bb-78b4-4688-a42b-d51f284e34bf",
   "metadata": {},
   "outputs": [
    {
     "data": {
      "text/plain": [
       "{'head': {'vars': ['triplesCount']},\n",
       " 'results': {'bindings': [{'triplesCount': {'type': 'literal',\n",
       "     'datatype': 'http://www.w3.org/2001/XMLSchema#integer',\n",
       "     'value': '7'}}]}}"
      ]
     },
     "execution_count": 25,
     "metadata": {},
     "output_type": "execute_result"
    }
   ],
   "source": [
    "r.json()"
   ]
  },
  {
   "cell_type": "markdown",
   "id": "59feb532-bd41-4887-b6b8-2287b168991d",
   "metadata": {},
   "source": [
    "## Searching by Keyword\n"
   ]
  },
  {
   "cell_type": "code",
   "execution_count": 26,
   "id": "8d5b1346-daa2-408a-ac28-85dae9d4d5d7",
   "metadata": {},
   "outputs": [],
   "source": [
    "r=kb.search_keyword('Charlie')"
   ]
  },
  {
   "cell_type": "code",
   "execution_count": 27,
   "id": "cac0ac29-9232-472d-8019-db078aa7d7b9",
   "metadata": {},
   "outputs": [
    {
     "data": {
      "text/plain": [
       "{'head': {'vars': ['s', 'p', 'o']},\n",
       " 'results': {'bindings': [{'s': {'type': 'uri',\n",
       "     'value': 'http://example.org/person#Charlie'},\n",
       "    'p': {'type': 'uri', 'value': 'http://example.org/property#name'},\n",
       "    'o': {'type': 'literal', 'value': 'Charlie'}},\n",
       "   {'s': {'type': 'uri', 'value': 'http://example.org/person#Charlie'},\n",
       "    'p': {'type': 'uri', 'value': 'http://example.org/property#age'},\n",
       "    'o': {'type': 'literal', 'value': '35'}}]}}"
      ]
     },
     "execution_count": 27,
     "metadata": {},
     "output_type": "execute_result"
    }
   ],
   "source": [
    "r.json()"
   ]
  },
  {
   "cell_type": "markdown",
   "id": "57774fb5-f298-40dc-8983-9b62890b0196",
   "metadata": {
    "tags": []
   },
   "source": [
    "# Examples using SparqlWrapper\n",
    "## Query and return triplets\n",
    "\n",
    "Note: SPARQLWrapper Does not yet work properly as it cannot handle the OMI proxy! if we do "
   ]
  },
  {
   "cell_type": "code",
   "execution_count": 28,
   "id": "ae10a194-ee6a-4d0e-8aba-1b09cd108ef2",
   "metadata": {},
   "outputs": [
    {
     "data": {
      "text/plain": [
       "'https://openmodel.app/fuseki/dataset/sparql'"
      ]
     },
     "execution_count": 28,
     "metadata": {},
     "output_type": "execute_result"
    }
   ],
   "source": [
    "sparql = SPARQLWrapper(\n",
    "    kb.query_iri\n",
    "    )\n",
    "kb.query_iri  # note this only takes GET methods for now. "
   ]
  },
  {
   "cell_type": "code",
   "execution_count": 29,
   "id": "838c674b-3a35-41c3-8f20-23bba421e106",
   "metadata": {},
   "outputs": [],
   "source": [
    "sparql.setReturnFormat(JSON)"
   ]
  },
  {
   "cell_type": "code",
   "execution_count": 30,
   "id": "cd3d8b7e-403a-4e93-9d5b-04848b1db4a2",
   "metadata": {},
   "outputs": [],
   "source": [
    "ret = sparql.queryAndConvert()"
   ]
  },
  {
   "cell_type": "code",
   "execution_count": 31,
   "id": "0ac9d341-ee9e-41fa-a000-c9f0fd6fca91",
   "metadata": {},
   "outputs": [
    {
     "data": {
      "text/plain": [
       "'SELECT * WHERE{ ?s ?p ?o }'"
      ]
     },
     "execution_count": 31,
     "metadata": {},
     "output_type": "execute_result"
    }
   ],
   "source": [
    "sparql.queryString"
   ]
  },
  {
   "cell_type": "code",
   "execution_count": 32,
   "id": "7d1969ab-6fd9-4375-b07f-52801408f6ab",
   "metadata": {},
   "outputs": [
    {
     "data": {
      "text/plain": [
       "{'head': {'vars': ['s', 'p', 'o']},\n",
       " 'results': {'bindings': [{'s': {'type': 'uri',\n",
       "     'value': 'http://example.org/popa'},\n",
       "    'p': {'type': 'uri', 'value': 'http://example.org/predicate1'},\n",
       "    'o': {'type': 'literal', 'value': 'tota'}},\n",
       "   {'s': {'type': 'uri', 'value': 'http://example.org/XXXX'},\n",
       "    'p': {'type': 'uri', 'value': 'http://example.org/predicate2'},\n",
       "    'o': {'type': 'literal', 'value': 'TTT'}},\n",
       "   {'s': {'type': 'uri', 'value': 'http://example.org/subject1'},\n",
       "    'p': {'type': 'uri', 'value': 'http://example.org/predicate1'},\n",
       "    'o': {'type': 'literal', 'value': 'object1'}},\n",
       "   {'s': {'type': 'uri', 'value': 'http://example.org/subject2'},\n",
       "    'p': {'type': 'uri', 'value': 'http://example.org/predicate2'},\n",
       "    'o': {'type': 'literal', 'value': 'object2'}},\n",
       "   {'s': {'type': 'uri', 'value': 'http://example.org/kosa'},\n",
       "    'p': {'type': 'uri', 'value': 'http://example.org/predicate2'},\n",
       "    'o': {'type': 'literal', 'value': 'mosa'}},\n",
       "   {'s': {'type': 'uri', 'value': 'http://example.org/person#Charlie'},\n",
       "    'p': {'type': 'uri', 'value': 'http://example.org/property#name'},\n",
       "    'o': {'type': 'literal', 'value': 'Charlie'}},\n",
       "   {'s': {'type': 'uri', 'value': 'http://example.org/person#Charlie'},\n",
       "    'p': {'type': 'uri', 'value': 'http://example.org/property#age'},\n",
       "    'o': {'type': 'literal', 'value': '35'}}]}}"
      ]
     },
     "execution_count": 32,
     "metadata": {},
     "output_type": "execute_result"
    }
   ],
   "source": [
    "ret"
   ]
  },
  {
   "cell_type": "code",
   "execution_count": 33,
   "id": "25a5bea5-8073-4990-91f7-f9cd7cb7250b",
   "metadata": {},
   "outputs": [
    {
     "name": "stdout",
     "output_type": "stream",
     "text": [
      "http://example.org/popa ----[ http://example.org/predicate1 ]----> tota\n",
      "http://example.org/XXXX ----[ http://example.org/predicate2 ]----> TTT\n",
      "http://example.org/subject1 ----[ http://example.org/predicate1 ]----> object1\n",
      "http://example.org/subject2 ----[ http://example.org/predicate2 ]----> object2\n",
      "http://example.org/kosa ----[ http://example.org/predicate2 ]----> mosa\n",
      "http://example.org/person#Charlie ----[ http://example.org/property#name ]----> Charlie\n",
      "http://example.org/person#Charlie ----[ http://example.org/property#age ]----> 35\n"
     ]
    }
   ],
   "source": [
    "for r in ret[\"results\"][\"bindings\"]:\n",
    "        print(r['s']['value'], \"----[\", r['p']['value'], \"]---->\", r['o']['value'])"
   ]
  },
  {
   "cell_type": "code",
   "execution_count": 34,
   "id": "cdf41635-c047-4778-bbe9-3d488fba61d1",
   "metadata": {},
   "outputs": [],
   "source": [
    "sparql.setQuery(q)"
   ]
  },
  {
   "cell_type": "code",
   "execution_count": 35,
   "id": "0a370afa-c08f-4430-ba84-e1b9f3b3af5f",
   "metadata": {},
   "outputs": [],
   "source": [
    "ret = sparql.queryAndConvert()"
   ]
  },
  {
   "cell_type": "code",
   "execution_count": 36,
   "id": "2a9b5c8b-7e9c-4249-951a-de455b03d1a4",
   "metadata": {},
   "outputs": [
    {
     "data": {
      "text/plain": [
       "{'head': {'vars': ['p', 'o']},\n",
       " 'results': {'bindings': [{'p': {'type': 'uri',\n",
       "     'value': 'http://example.org/property#name'},\n",
       "    'o': {'type': 'literal', 'value': 'Charlie'}},\n",
       "   {'p': {'type': 'uri', 'value': 'http://example.org/property#age'},\n",
       "    'o': {'type': 'literal', 'value': '35'}}]}}"
      ]
     },
     "execution_count": 36,
     "metadata": {},
     "output_type": "execute_result"
    }
   ],
   "source": [
    "ret"
   ]
  },
  {
   "cell_type": "markdown",
   "id": "25c6cdd4-036a-47d4-a897-503e2093b8a6",
   "metadata": {},
   "source": [
    "# Importing Ontology Files \n",
    "\n",
    "Note: we can support ctalouge and import files, as well as reasoning, but for now, ontology files should be uploaded one by one.\n",
    "\n",
    "for example if ontology X uses (imports) ontology Y, simply upload X (without the import) and X. \n",
    "\n",
    "The actual behaviour should be tested first, and then implement the option. (potentially building on ontomanager from DOME 4.0)"
   ]
  },
  {
   "cell_type": "code",
   "execution_count": 37,
   "id": "67119da0-f003-47ff-89b9-e32ee565c846",
   "metadata": {},
   "outputs": [
    {
     "name": "stdout",
     "output_type": "stream",
     "text": [
      "Successfully added 30841 triplets to the dataspace default in the knowledge base.\n"
     ]
    },
    {
     "data": {
      "text/plain": [
       "<Response [200]>"
      ]
     },
     "execution_count": 37,
     "metadata": {},
     "output_type": "execute_result"
    }
   ],
   "source": [
    "kb.import_ontology(\"https://emmo-repo.github.io/versions/1.0.0-rc1/emmo.ttl\")"
   ]
  },
  {
   "cell_type": "code",
   "execution_count": 38,
   "id": "ed494007-758e-4bc3-bd9e-eb691c513b93",
   "metadata": {},
   "outputs": [],
   "source": [
    "q=\"\"\"PREFIX rdfs: <http://www.w3.org/2000/01/rdf-schema#>\n",
    "\n",
    "SELECT ?class WHERE {\n",
    "  ?class rdfs:label \"PhysicsEquationSolution\"@en .\n",
    "}\n",
    "\"\"\""
   ]
  },
  {
   "cell_type": "code",
   "execution_count": 40,
   "id": "c3dd79c0-d1d6-4c36-a015-e16735edc0e3",
   "metadata": {},
   "outputs": [],
   "source": [
    "r=kb.query(q)"
   ]
  },
  {
   "cell_type": "code",
   "execution_count": 41,
   "id": "7cab2138-c3e4-44e4-b97c-a4c7ce08b204",
   "metadata": {},
   "outputs": [
    {
     "data": {
      "text/plain": [
       "<Response [200]>"
      ]
     },
     "execution_count": 41,
     "metadata": {},
     "output_type": "execute_result"
    }
   ],
   "source": [
    "r"
   ]
  },
  {
   "cell_type": "code",
   "execution_count": 42,
   "id": "fb179683-79db-48f8-a4fe-222bc3191977",
   "metadata": {},
   "outputs": [
    {
     "data": {
      "text/plain": [
       "{'head': {'vars': ['class']},\n",
       " 'results': {'bindings': [{'class': {'type': 'uri',\n",
       "     'value': 'https://w3id.org/emmo#EMMO_6e0664f2_4d4d_4407_bf60_e1b3c07198d7'}}]}}"
      ]
     },
     "execution_count": 42,
     "metadata": {},
     "output_type": "execute_result"
    }
   ],
   "source": [
    "r.json()"
   ]
  },
  {
   "cell_type": "code",
   "execution_count": 43,
   "id": "dc7a4178-9384-45ea-8ab7-75e9fea6b11e",
   "metadata": {},
   "outputs": [],
   "source": [
    "q=\"\"\"PREFIX rdfs: <http://www.w3.org/2000/01/rdf-schema#>\n",
    "PREFIX rdf: <http://www.w3.org/1999/02/22-rdf-syntax-ns#>\n",
    "PREFIX owl: <http://www.w3.org/2002/07/owl#>\n",
    "\n",
    "SELECT ?property ?propertyLabel WHERE {\n",
    "  ?class rdfs:label \"PhysicsEquationSolution\"@en .\n",
    "  ?class ?property ?attribute .\n",
    "  OPTIONAL {\n",
    "    ?property rdfs:label ?propertyLabel .\n",
    "  }\n",
    "}\n",
    "\"\"\""
   ]
  },
  {
   "cell_type": "code",
   "execution_count": 50,
   "id": "42fa760a-2f07-4ff4-99f9-515a0a95db15",
   "metadata": {},
   "outputs": [],
   "source": [
    "r=kb.query(q)"
   ]
  },
  {
   "cell_type": "code",
   "execution_count": 53,
   "id": "379c1807-5054-44f3-b890-04814e8460dd",
   "metadata": {},
   "outputs": [
    {
     "data": {
      "text/plain": [
       "{'head': {'vars': ['property', 'propertyLabel']},\n",
       " 'results': {'bindings': [{'property': {'type': 'uri',\n",
       "     'value': 'http://www.w3.org/1999/02/22-rdf-syntax-ns#type'}},\n",
       "   {'property': {'type': 'uri',\n",
       "     'value': 'http://www.w3.org/2000/01/rdf-schema#isDefinedBy'}},\n",
       "   {'property': {'type': 'uri',\n",
       "     'value': 'http://www.w3.org/2000/01/rdf-schema#label'}},\n",
       "   {'property': {'type': 'uri',\n",
       "     'value': 'http://www.w3.org/2000/01/rdf-schema#comment'}},\n",
       "   {'property': {'type': 'uri',\n",
       "     'value': 'http://www.w3.org/2000/01/rdf-schema#comment'}},\n",
       "   {'property': {'type': 'uri',\n",
       "     'value': 'http://www.w3.org/2004/02/skos/core#prefLabel'}},\n",
       "   {'property': {'type': 'uri',\n",
       "     'value': 'https://w3id.org/emmo#EMMO_967080e5_2f42_4eb2_a3a9_c58143e835f9'},\n",
       "    'propertyLabel': {'type': 'literal',\n",
       "     'xml:lang': 'en',\n",
       "     'value': 'elucidation'}},\n",
       "   {'property': {'type': 'uri',\n",
       "     'value': 'http://www.w3.org/2000/01/rdf-schema#subClassOf'}},\n",
       "   {'property': {'type': 'uri',\n",
       "     'value': 'http://www.w3.org/2004/02/skos/core#example'}}]}}"
      ]
     },
     "execution_count": 53,
     "metadata": {},
     "output_type": "execute_result"
    }
   ],
   "source": [
    "r.json()\n",
    "x=r.json()\n",
    "x"
   ]
  },
  {
   "cell_type": "code",
   "execution_count": 54,
   "id": "1091e748-ef49-4782-9af6-f62ab554f4da",
   "metadata": {},
   "outputs": [
    {
     "ename": "TypeError",
     "evalue": "'Response' object is not subscriptable",
     "output_type": "error",
     "traceback": [
      "\u001b[0;31m---------------------------------------------------------------------------\u001b[0m",
      "\u001b[0;31mTypeError\u001b[0m                                 Traceback (most recent call last)",
      "Cell \u001b[0;32mIn [54], line 2\u001b[0m\n\u001b[1;32m      1\u001b[0m \u001b[38;5;28;01mfor\u001b[39;00m i \u001b[38;5;129;01min\u001b[39;00m x[\u001b[38;5;124m\"\u001b[39m\u001b[38;5;124mresults\u001b[39m\u001b[38;5;124m\"\u001b[39m][\u001b[38;5;124m\"\u001b[39m\u001b[38;5;124mbindings\u001b[39m\u001b[38;5;124m\"\u001b[39m]:\n\u001b[0;32m----> 2\u001b[0m         \u001b[38;5;28mprint\u001b[39m(\u001b[43mr\u001b[49m\u001b[43m[\u001b[49m\u001b[38;5;124;43m'\u001b[39;49m\u001b[38;5;124;43ms\u001b[39;49m\u001b[38;5;124;43m'\u001b[39;49m\u001b[43m]\u001b[49m[\u001b[38;5;124m'\u001b[39m\u001b[38;5;124mvalue\u001b[39m\u001b[38;5;124m'\u001b[39m], \u001b[38;5;124m\"\u001b[39m\u001b[38;5;124m----[\u001b[39m\u001b[38;5;124m\"\u001b[39m, r[\u001b[38;5;124m'\u001b[39m\u001b[38;5;124mp\u001b[39m\u001b[38;5;124m'\u001b[39m][\u001b[38;5;124m'\u001b[39m\u001b[38;5;124mvalue\u001b[39m\u001b[38;5;124m'\u001b[39m], \u001b[38;5;124m\"\u001b[39m\u001b[38;5;124m]---->\u001b[39m\u001b[38;5;124m\"\u001b[39m, r[\u001b[38;5;124m'\u001b[39m\u001b[38;5;124mo\u001b[39m\u001b[38;5;124m'\u001b[39m][\u001b[38;5;124m'\u001b[39m\u001b[38;5;124mvalue\u001b[39m\u001b[38;5;124m'\u001b[39m])\n",
      "\u001b[0;31mTypeError\u001b[0m: 'Response' object is not subscriptable"
     ]
    }
   ],
   "source": [
    "for i in x[\"results\"][\"bindings\"]:\n",
    "        print(r['s']['value'], \"----[\", r['p']['value'], \"]---->\", r['o']['value'])"
   ]
  },
  {
   "cell_type": "code",
   "execution_count": 55,
   "id": "aaa55c62-6668-4f5b-8142-ad75c202afd3",
   "metadata": {},
   "outputs": [],
   "source": [
    "q=\"\"\"PREFIX rdfs: <http://www.w3.org/2000/01/rdf-schema#>\n",
    "PREFIX rdf: <http://www.w3.org/1999/02/22-rdf-syntax-ns#>\n",
    "\n",
    "CONSTRUCT {\n",
    "  ?s ?p ?o .\n",
    "  ?o ?prop ?value .\n",
    "} WHERE {\n",
    "  ?s rdfs:label \"PhysicsEquationSolution\"@en .\n",
    "  ?s ?p ?o .\n",
    "  OPTIONAL {\n",
    "    ?o ?prop ?value .\n",
    "  }\n",
    "}\n",
    "\"\"\""
   ]
  },
  {
   "cell_type": "code",
   "execution_count": 59,
   "id": "7e53d45e-e6cc-4d32-b2a4-92666739d7fb",
   "metadata": {},
   "outputs": [],
   "source": [
    "r=kb.query(q)"
   ]
  },
  {
   "cell_type": "code",
   "execution_count": 70,
   "id": "c92f787e-7608-4f42-86c1-196de66bb393",
   "metadata": {},
   "outputs": [],
   "source": [
    "response_text = r.content.decode('utf-8')"
   ]
  },
  {
   "cell_type": "code",
   "execution_count": 71,
   "id": "d96b4b30-7e2e-4a1c-9320-ffc3cb85058d",
   "metadata": {},
   "outputs": [
    {
     "data": {
      "text/plain": [
       "'PREFIX :        <https://w3id.org/emmo#>\\nPREFIX dcterms: <http://purl.org/dc/terms/>\\nPREFIX foaf:    <http://xmlns.com/foaf/0.1/>\\nPREFIX owl:     <http://www.w3.org/2002/07/owl#>\\nPREFIX rdf:     <http://www.w3.org/1999/02/22-rdf-syntax-ns#>\\nPREFIX rdfs:    <http://www.w3.org/2000/01/rdf-schema#>\\nPREFIX skos:    <http://www.w3.org/2004/02/skos/core#>\\nPREFIX swrl:    <http://www.w3.org/2003/11/swrl#>\\nPREFIX xsd:     <http://www.w3.org/2001/XMLSchema#>\\n\\n:EMMO_54ee6b5e_5261_44a8_86eb_5717e7fdb9d0\\n        rdf:type          owl:Class;\\n        rdfs:comment      \"The class of general mathematical symbolic objects respecting mathematical syntactic rules.\"@en , \"A mathematical object in this branch is not representing a concept but an actual graphical object built using mathematcal symbols arranged in some way, according to math conventions.\"@en;\\n        rdfs:isDefinedBy  <https://w3id.org/emmo/disciplines/models#>;\\n        rdfs:label        \"Mathematical\"@en;\\n        rdfs:subClassOf   :EMMO_d8d2144e_5c8d_455d_a643_5caf4d8d9df8;\\n        skos:prefLabel    \"Mathematical\"@en;\\n        :EMMO_967080e5_2f42_4eb2_a3a9_c58143e835f9\\n                \"The class of general mathematical symbolic objects respecting mathematical syntactic rules.\"@en;\\n        :EMMO_c7b62dd7_063a_4c2a_8504_42f7264ba83f\\n                \"A mathematical object in this branch is not representing a concept but an actual graphical object built using mathematcal symbols arranged in some way, according to math conventions.\"@en .\\n\\n:EMMO_6e0664f2_4d4d_4407_bf60_e1b3c07198d7\\n        rdf:type          owl:Class;\\n        rdfs:comment      \"This must be a mathematical function v(t), x(t).\\\\nA dataset as solution is a conventional sign.\"@en , \"A function solution of a physics equation that provides a methods for the prediction of some quantitiative properties of an object.\"@en;\\n        rdfs:isDefinedBy  <https://w3id.org/emmo/disciplines/models#>;\\n        rdfs:label        \"PhysicsEquationSolution\"@en;\\n        rdfs:subClassOf   :EMMO_54ee6b5e_5261_44a8_86eb_5717e7fdb9d0;\\n        skos:example      \"A parabolic function is a prediction of the trajectory of a falling object in a gravitational field. While it has predictive capabilities it lacks of an analogical character, since it does not show the law behind that trajectory.\"@en;\\n        skos:prefLabel    \"PhysicsEquationSolution\"@en;\\n        :EMMO_967080e5_2f42_4eb2_a3a9_c58143e835f9\\n                \"A function solution of a physics equation that provides a methods for the prediction of some quantitiative properties of an object.\"@en .\\n'"
      ]
     },
     "execution_count": 71,
     "metadata": {},
     "output_type": "execute_result"
    }
   ],
   "source": [
    "response_text"
   ]
  },
  {
   "cell_type": "code",
   "execution_count": 75,
   "id": "f8edf0d2-3fc2-4bf9-a3e3-4adc1113ae44",
   "metadata": {},
   "outputs": [
    {
     "data": {
      "text/plain": [
       "<Graph identifier=N8cb1da0e1bf94fd084c063f17dd76167 (<class 'rdflib.graph.Graph'>)>"
      ]
     },
     "execution_count": 75,
     "metadata": {},
     "output_type": "execute_result"
    }
   ],
   "source": [
    "g = rdflib.Graph()\n",
    "g.parse(data=response_text, format=\"turtle\")"
   ]
  },
  {
   "cell_type": "code",
   "execution_count": 77,
   "id": "0a6c24e1-9a64-49ab-a3f1-75b09b74e6f5",
   "metadata": {},
   "outputs": [
    {
     "name": "stdout",
     "output_type": "stream",
     "text": [
      "https://w3id.org/emmo#EMMO_54ee6b5e_5261_44a8_86eb_5717e7fdb9d0 http://www.w3.org/2004/02/skos/core#prefLabel Mathematical\n",
      "https://w3id.org/emmo#EMMO_6e0664f2_4d4d_4407_bf60_e1b3c07198d7 https://w3id.org/emmo#EMMO_967080e5_2f42_4eb2_a3a9_c58143e835f9 A function solution of a physics equation that provides a methods for the prediction of some quantitiative properties of an object.\n",
      "https://w3id.org/emmo#EMMO_54ee6b5e_5261_44a8_86eb_5717e7fdb9d0 http://www.w3.org/2000/01/rdf-schema#comment A mathematical object in this branch is not representing a concept but an actual graphical object built using mathematcal symbols arranged in some way, according to math conventions.\n",
      "https://w3id.org/emmo#EMMO_54ee6b5e_5261_44a8_86eb_5717e7fdb9d0 https://w3id.org/emmo#EMMO_967080e5_2f42_4eb2_a3a9_c58143e835f9 The class of general mathematical symbolic objects respecting mathematical syntactic rules.\n",
      "https://w3id.org/emmo#EMMO_54ee6b5e_5261_44a8_86eb_5717e7fdb9d0 https://w3id.org/emmo#EMMO_c7b62dd7_063a_4c2a_8504_42f7264ba83f A mathematical object in this branch is not representing a concept but an actual graphical object built using mathematcal symbols arranged in some way, according to math conventions.\n",
      "https://w3id.org/emmo#EMMO_54ee6b5e_5261_44a8_86eb_5717e7fdb9d0 http://www.w3.org/1999/02/22-rdf-syntax-ns#type http://www.w3.org/2002/07/owl#Class\n",
      "https://w3id.org/emmo#EMMO_6e0664f2_4d4d_4407_bf60_e1b3c07198d7 http://www.w3.org/2000/01/rdf-schema#comment A function solution of a physics equation that provides a methods for the prediction of some quantitiative properties of an object.\n",
      "https://w3id.org/emmo#EMMO_54ee6b5e_5261_44a8_86eb_5717e7fdb9d0 http://www.w3.org/2000/01/rdf-schema#comment The class of general mathematical symbolic objects respecting mathematical syntactic rules.\n",
      "https://w3id.org/emmo#EMMO_6e0664f2_4d4d_4407_bf60_e1b3c07198d7 http://www.w3.org/2000/01/rdf-schema#label PhysicsEquationSolution\n",
      "https://w3id.org/emmo#EMMO_6e0664f2_4d4d_4407_bf60_e1b3c07198d7 http://www.w3.org/2000/01/rdf-schema#comment This must be a mathematical function v(t), x(t).\n",
      "A dataset as solution is a conventional sign.\n",
      "https://w3id.org/emmo#EMMO_6e0664f2_4d4d_4407_bf60_e1b3c07198d7 http://www.w3.org/2004/02/skos/core#example A parabolic function is a prediction of the trajectory of a falling object in a gravitational field. While it has predictive capabilities it lacks of an analogical character, since it does not show the law behind that trajectory.\n",
      "https://w3id.org/emmo#EMMO_54ee6b5e_5261_44a8_86eb_5717e7fdb9d0 http://www.w3.org/2000/01/rdf-schema#isDefinedBy https://w3id.org/emmo/disciplines/models#\n",
      "https://w3id.org/emmo#EMMO_54ee6b5e_5261_44a8_86eb_5717e7fdb9d0 http://www.w3.org/2000/01/rdf-schema#subClassOf https://w3id.org/emmo#EMMO_d8d2144e_5c8d_455d_a643_5caf4d8d9df8\n",
      "https://w3id.org/emmo#EMMO_6e0664f2_4d4d_4407_bf60_e1b3c07198d7 http://www.w3.org/2000/01/rdf-schema#subClassOf https://w3id.org/emmo#EMMO_54ee6b5e_5261_44a8_86eb_5717e7fdb9d0\n",
      "https://w3id.org/emmo#EMMO_54ee6b5e_5261_44a8_86eb_5717e7fdb9d0 http://www.w3.org/2000/01/rdf-schema#label Mathematical\n",
      "https://w3id.org/emmo#EMMO_6e0664f2_4d4d_4407_bf60_e1b3c07198d7 http://www.w3.org/2000/01/rdf-schema#isDefinedBy https://w3id.org/emmo/disciplines/models#\n",
      "https://w3id.org/emmo#EMMO_6e0664f2_4d4d_4407_bf60_e1b3c07198d7 http://www.w3.org/2004/02/skos/core#prefLabel PhysicsEquationSolution\n",
      "https://w3id.org/emmo#EMMO_6e0664f2_4d4d_4407_bf60_e1b3c07198d7 http://www.w3.org/1999/02/22-rdf-syntax-ns#type http://www.w3.org/2002/07/owl#Class\n"
     ]
    }
   ],
   "source": [
    "for s, p, o in g:\n",
    "    print(s, p, o)"
   ]
  },
  {
   "cell_type": "code",
   "execution_count": null,
   "id": "15326727-6e61-48a6-abc9-09f7af114144",
   "metadata": {},
   "outputs": [],
   "source": []
  }
 ],
 "metadata": {
  "kernelspec": {
   "display_name": "Python 3 (ipykernel)",
   "language": "python",
   "name": "python3"
  },
  "language_info": {
   "codemirror_mode": {
    "name": "ipython",
    "version": 3
   },
   "file_extension": ".py",
   "mimetype": "text/x-python",
   "name": "python",
   "nbconvert_exporter": "python",
   "pygments_lexer": "ipython3",
   "version": "3.9.13"
  }
 },
 "nbformat": 4,
 "nbformat_minor": 5
}
